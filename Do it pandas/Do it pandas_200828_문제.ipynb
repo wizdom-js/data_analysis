{
 "cells": [
  {
   "cell_type": "code",
   "execution_count": 9,
   "metadata": {},
   "outputs": [],
   "source": [
    "import pandas as pd\n",
    "titanic = pd.read_csv('/Users/seuli/Downloads/titanic.csv')"
   ]
  },
  {
   "cell_type": "code",
   "execution_count": 2,
   "metadata": {},
   "outputs": [
    {
     "name": "stdout",
     "output_type": "stream",
     "text": [
      "Index(['Unnamed: 0', 'PassengerId', 'Survived', 'Pclass', 'Name', 'Sex', 'Age',\n",
      "       'SibSp', 'Parch', 'Ticket', 'Fare', 'Cabin', 'Embarked'],\n",
      "      dtype='object')\n"
     ]
    }
   ],
   "source": [
    "print(titanic.columns)"
   ]
  },
  {
   "cell_type": "markdown",
   "metadata": {},
   "source": [
    "## 1번 문제"
   ]
  },
  {
   "cell_type": "code",
   "execution_count": 33,
   "metadata": {},
   "outputs": [
    {
     "name": "stdout",
     "output_type": "stream",
     "text": [
      "                                                  Name  Survived      Fare\n",
      "0                              Braund, Mr. Owen Harris       0.0    7.2500\n",
      "4                             Allen, Mr. William Henry       0.0    8.0500\n",
      "5                                     Moran, Mr. James       0.0    8.4583\n",
      "6                              McCarthy, Mr. Timothy J       0.0   51.8625\n",
      "7                       Palsson, Master. Gosta Leonard       0.0   21.0750\n",
      "12                      Saundercock, Mr. William Henry       0.0    8.0500\n",
      "13                         Andersson, Mr. Anders Johan       0.0   31.2750\n",
      "14                Vestrom, Miss. Hulda Amanda Adolfina       0.0    7.8542\n",
      "16                                Rice, Master. Eugene       0.0   29.1250\n",
      "18   Vander Planke, Mrs. Julius (Emelia Maria Vande...       0.0   18.0000\n",
      "20                                Fynney, Mr. Joseph J       0.0   26.0000\n",
      "24                       Palsson, Miss. Torborg Danira       0.0   21.0750\n",
      "26                             Emir, Mr. Farred Chehab       0.0    7.2250\n",
      "27                      Fortune, Mr. Charles Alexander       0.0  263.0000\n",
      "29                                 Todoroff, Mr. Lalio       0.0    7.8958\n",
      "30                            Uruchurtu, Don. Manuel E       0.0   27.7208\n",
      "33                               Wheadon, Mr. Edward H       0.0   10.5000\n",
      "34                             Meyer, Mr. Edgar Joseph       0.0   82.1708\n",
      "35                      Holverson, Mr. Alexander Oskar       0.0   52.0000\n",
      "37                            Cann, Mr. Ernest Charles       0.0    8.0500\n",
      "38                  Vander Planke, Miss. Augusta Maria       0.0   18.0000\n",
      "40      Ahlin, Mrs. Johan (Johanna Persdotter Larsson)       0.0    9.4750\n",
      "41   Turpin, Mrs. William John Robert (Dorothy Ann ...       0.0   21.0000\n",
      "42                                 Kraeff, Mr. Theodor       0.0    7.8958\n",
      "45                            Rogers, Mr. William John       0.0    8.0500\n",
      "46                                   Lennon, Mr. Denis       0.0   15.5000\n",
      "48                                 Samaan, Mr. Youssef       0.0   21.6792\n",
      "49       Arnold-Franchi, Mrs. Josef (Josefine Franchi)       0.0   17.8000\n",
      "50                          Panula, Master. Juha Niilo       0.0   39.6875\n",
      "51                        Nosworthy, Mr. Richard Cater       0.0    7.8000\n",
      "..                                                 ...       ...       ...\n",
      "844                                Culumovic, Mr. Jeso       0.0    8.6625\n",
      "845                                Abbing, Mr. Anthony       0.0    7.5500\n",
      "846                           Sage, Mr. Douglas Bullen       0.0   69.5500\n",
      "847                                 Markoff, Mr. Marin       0.0    7.8958\n",
      "848                                  Harper, Rev. John       0.0   33.0000\n",
      "850            Andersson, Master. Sigvard Harald Elias       0.0   31.2750\n",
      "851                                Svensson, Mr. Johan       0.0    7.7750\n",
      "852                            Boulos, Miss. Nourelain       0.0   15.2458\n",
      "854      Carter, Mrs. Ernest Courtenay (Lilian Hughes)       0.0   26.0000\n",
      "859                                   Razi, Mr. Raihed       0.0    7.2292\n",
      "860                            Hansen, Mr. Claus Peter       0.0   14.1083\n",
      "861                        Giles, Mr. Frederick Edward       0.0   11.5000\n",
      "863                  Sage, Miss. Dorothy Edith \"Dolly\"       0.0   69.5500\n",
      "864                             Gill, Mr. John William       0.0   13.0000\n",
      "867               Roebling, Mr. Washington Augustus II       0.0   50.4958\n",
      "868                        van Melkebeke, Mr. Philemon       0.0    9.5000\n",
      "870                                  Balkic, Mr. Cerin       0.0    7.8958\n",
      "872                           Carlsson, Mr. Frans Olof       0.0    5.0000\n",
      "873                        Vander Cruyssen, Mr. Victor       0.0    9.0000\n",
      "876                      Gustafsson, Mr. Alfred Ossian       0.0    9.8458\n",
      "877                               Petroff, Mr. Nedelio       0.0    7.8958\n",
      "878                                 Laleff, Mr. Kristo       0.0    7.8958\n",
      "881                                 Markun, Mr. Johann       0.0    7.8958\n",
      "882                       Dahlberg, Miss. Gerda Ulrika       0.0   10.5167\n",
      "883                      Banfield, Mr. Frederick James       0.0   10.5000\n",
      "884                             Sutehall, Mr. Henry Jr       0.0    7.0500\n",
      "885               Rice, Mrs. William (Margaret Norton)       0.0   29.1250\n",
      "886                              Montvila, Rev. Juozas       0.0   13.0000\n",
      "888           Johnston, Miss. Catherine Helen \"Carrie\"       0.0   23.4500\n",
      "890                                Dooley, Mr. Patrick       0.0    7.7500\n",
      "\n",
      "[549 rows x 3 columns]\n"
     ]
    },
    {
     "name": "stderr",
     "output_type": "stream",
     "text": [
      "/Users/seuli/venv/lib/python3.7/site-packages/ipykernel_launcher.py:7: UserWarning: Boolean Series key will be reindexed to match DataFrame index.\n",
      "  import sys\n"
     ]
    }
   ],
   "source": [
    "titanic_3_0 = titanic[['Name', 'Survived', 'Fare']]\n",
    "\n",
    "\n",
    "Fare = titanic_data['Fare'] \n",
    "Survived = titanic_data['Survived']\n",
    "\n",
    "titanic_3_1 = titanic_1[Fare >= 100]\n",
    "titanic_3 = titanic_data[Survived==0]\n",
    "\n",
    "print(titanic_3)\n",
    "\n",
    "# 지성 선생님 답\n",
    "# titanic_3 = titanic[(titanic[\"Fare\"] >= 100) & (titanic[\"Survived\"] == 0)][[\"Name\", \"Survived\", \"Fare\"]]\n",
    "# 조건 두개이면 소괄호로 각각 묶기"
   ]
  },
  {
   "cell_type": "markdown",
   "metadata": {},
   "source": [
    "## 2번 문제"
   ]
  },
  {
   "cell_type": "code",
   "execution_count": 27,
   "metadata": {},
   "outputs": [
    {
     "name": "stdout",
     "output_type": "stream",
     "text": [
      "                                                  Name  Survived Embarked\n",
      "1    Cumings, Mrs. John Bradley (Florence Briggs Th...       1.0        C\n",
      "2                               Heikkinen, Miss. Laina       1.0        S\n",
      "3         Futrelle, Mrs. Jacques Heath (Lily May Peel)       1.0        S\n",
      "8    Johnson, Mrs. Oscar W (Elisabeth Vilhelmina Berg)       1.0        S\n",
      "9                  Nasser, Mrs. Nicholas (Adele Achem)       1.0        C\n",
      "10                     Sandstrom, Miss. Marguerite Rut       1.0        S\n",
      "11                            Bonnell, Miss. Elizabeth       1.0        S\n",
      "15                    Hewlett, Mrs. (Mary D Kingcome)        1.0        S\n",
      "17                        Williams, Mr. Charles Eugene       1.0        S\n",
      "19                             Masselmani, Mrs. Fatima       1.0        C\n",
      "21                               Beesley, Mr. Lawrence       1.0        S\n",
      "22                         McGowan, Miss. Anna \"Annie\"       1.0        Q\n",
      "23                        Sloper, Mr. William Thompson       1.0        S\n",
      "25   Asplund, Mrs. Carl Oscar (Selma Augusta Emilia...       1.0        S\n",
      "28                       O'Dwyer, Miss. Ellen \"Nellie\"       1.0        Q\n",
      "31      Spencer, Mrs. William Augustus (Marie Eugenie)       1.0        C\n",
      "32                            Glynn, Miss. Mary Agatha       1.0        Q\n",
      "36                                    Mamee, Mr. Hanna       1.0        C\n",
      "39                         Nicola-Yarred, Miss. Jamila       1.0        C\n",
      "43            Laroche, Miss. Simonne Marie Anne Andree       1.0        C\n",
      "44                       Devaney, Miss. Margaret Delia       1.0        Q\n",
      "47                           O'Driscoll, Miss. Bridget       1.0        Q\n",
      "52            Harper, Mrs. Henry Sleeper (Myna Haxtun)       1.0        C\n",
      "53   Faunthorpe, Mrs. Lizzie (Elizabeth Anne Wilkin...       1.0        S\n",
      "55                                   Woolner, Mr. Hugh       1.0        S\n",
      "56                                   Rugg, Miss. Emily       1.0        S\n",
      "58                        West, Miss. Constance Mirium       1.0        S\n",
      "61                                 Icard, Miss. Amelie       1.0      NaN\n",
      "65                            Moubarek, Master. Gerios       1.0        C\n",
      "66                        Nye, Mrs. (Elizabeth Ramell)       1.0        S\n",
      "..                                                 ...       ...      ...\n",
      "809     Chambers, Mrs. Norman Campbell (Bertha Griggs)       1.0        S\n",
      "820  Hays, Mrs. Charles Melville (Clara Jennings Gr...       1.0        S\n",
      "821                                  Lulic, Mr. Nikola       1.0        S\n",
      "823                                 Moor, Mrs. (Beila)       1.0        S\n",
      "827                              Mallet, Master. Andre       1.0        C\n",
      "828                       McCormack, Mr. Thomas Joseph       1.0        Q\n",
      "829          Stone, Mrs. George Nelson (Martha Evelyn)       1.0      NaN\n",
      "830            Yasbeck, Mrs. Antoni (Selini Alexander)       1.0        C\n",
      "831                    Richards, Master. George Sibley       1.0        S\n",
      "835                        Compton, Miss. Sara Rebecca       1.0        C\n",
      "838                                    Chip, Mr. Chang       1.0        S\n",
      "839                               Marechal, Mr. Pierre       1.0        C\n",
      "842                            Serepeca, Miss. Augusta       1.0        C\n",
      "849       Goldenberg, Mrs. Samuel L (Edwiga Grabowska)       1.0        C\n",
      "853                          Lines, Miss. Mary Conover       1.0        S\n",
      "855                         Aks, Mrs. Sam (Leah Rosen)       1.0        S\n",
      "856         Wick, Mrs. George Dennick (Mary Hitchcock)       1.0        S\n",
      "857                             Daly, Mr. Peter Denis        1.0        S\n",
      "858              Baclini, Mrs. Solomon (Latifa Qurban)       1.0        C\n",
      "862  Swift, Mrs. Frederick Joel (Margaret Welles Ba...       1.0        S\n",
      "865                           Bystrom, Mrs. (Karolina)       1.0        S\n",
      "866                       Duran y More, Miss. Asuncion       1.0        C\n",
      "869                    Johnson, Master. Harold Theodor       1.0        S\n",
      "871   Beckwith, Mrs. Richard Leonard (Sallie Monypeny)       1.0        S\n",
      "874              Abelson, Mrs. Samuel (Hannah Wizosky)       1.0        C\n",
      "875                   Najib, Miss. Adele Kiamie \"Jane\"       1.0        C\n",
      "879      Potter, Mrs. Thomas Jr (Lily Alexenia Wilson)       1.0        C\n",
      "880       Shelley, Mrs. William (Imanita Parrish Hall)       1.0        S\n",
      "887                       Graham, Miss. Margaret Edith       1.0        S\n",
      "889                              Behr, Mr. Karl Howell       1.0        C\n",
      "\n",
      "[342 rows x 3 columns]\n"
     ]
    }
   ],
   "source": [
    "titanic_2_0 = titanic[['Name', 'Survived', 'Embarked']]\n",
    "\n",
    "Survived = titanic_2_0['Survived']\n",
    "\n",
    "titanic_2 = titanic_2_0[Survived == 1]\n",
    "\n",
    "print(titanic_2)\n",
    "\n",
    "#titanic2 = titanic[titanic[\"Survived\"] == 1][[\"Name\", \"Survived\", \"Embarked\"]]\n"
   ]
  },
  {
   "cell_type": "markdown",
   "metadata": {},
   "source": [
    "## 3번 문제"
   ]
  },
  {
   "cell_type": "code",
   "execution_count": 28,
   "metadata": {},
   "outputs": [
    {
     "name": "stdout",
     "output_type": "stream",
     "text": [
      "                                                  Name  Survived     Sex  \\\n",
      "2                               Heikkinen, Miss. Laina       1.0  female   \n",
      "8    Johnson, Mrs. Oscar W (Elisabeth Vilhelmina Berg)       1.0  female   \n",
      "9                  Nasser, Mrs. Nicholas (Adele Achem)       1.0  female   \n",
      "10                     Sandstrom, Miss. Marguerite Rut       1.0  female   \n",
      "22                         McGowan, Miss. Anna \"Annie\"       1.0  female   \n",
      "23                        Sloper, Mr. William Thompson       1.0    male   \n",
      "39                         Nicola-Yarred, Miss. Jamila       1.0  female   \n",
      "43            Laroche, Miss. Simonne Marie Anne Andree       1.0  female   \n",
      "44                       Devaney, Miss. Margaret Delia       1.0  female   \n",
      "53   Faunthorpe, Mrs. Lizzie (Elizabeth Anne Wilkin...       1.0  female   \n",
      "56                                   Rugg, Miss. Emily       1.0  female   \n",
      "58                        West, Miss. Constance Mirium       1.0  female   \n",
      "66                        Nye, Mrs. (Elizabeth Ramell)       1.0  female   \n",
      "68                     Andersson, Miss. Erna Alexandra       1.0  female   \n",
      "78                       Caldwell, Master. Alden Gates       1.0    male   \n",
      "81                         Sheerlinck, Mr. Jan Baptist       1.0    male   \n",
      "84                                 Ilett, Miss. Bertha       1.0  female   \n",
      "88                          Fortune, Miss. Mabel Helen       1.0  female   \n",
      "97                     Greenfield, Mr. William Bertram       1.0    male   \n",
      "106                   Salkjelsvik, Miss. Anna Kristine       1.0  female   \n",
      "125                       Nicola-Yarred, Master. Elias       1.0    male   \n",
      "127                          Madsen, Mr. Fridtjof Arne       1.0    male   \n",
      "133      Weisz, Mrs. Leopold (Mathilde Francoise Pede)       1.0  female   \n",
      "136                       Newsom, Miss. Helen Monypeny       1.0  female   \n",
      "141                           Nysten, Miss. Anna Sofia       1.0  female   \n",
      "142  Hakkarainen, Mrs. Pekka Pietari (Elin Matilda ...       1.0  female   \n",
      "146       Andersson, Mr. August Edvard (\"Wennerstrom\")       1.0    male   \n",
      "151                  Pears, Mrs. Thomas (Edith Wearne)       1.0  female   \n",
      "156                   Gilnagh, Miss. Katherine \"Katie\"       1.0  female   \n",
      "165    Goldsmith, Master. Frank John William \"Frankie\"       1.0    male   \n",
      "..                                                 ...       ...     ...   \n",
      "724                      Chambers, Mr. Norman Campbell       1.0    male   \n",
      "730                      Allen, Miss. Elisabeth Walton       1.0  female   \n",
      "742              Ryerson, Miss. Susan Parker \"Suzette\"       1.0  female   \n",
      "750                                  Wells, Miss. Joan       1.0  female   \n",
      "751                                Moor, Master. Meier       1.0    male   \n",
      "755                          Hamalainen, Master. Viljo       1.0    male   \n",
      "762                              Barah, Mr. Hanna Assi       1.0    male   \n",
      "777                      Emanuel, Miss. Virginia Ethel       1.0  female   \n",
      "780                               Ayoub, Miss. Banoura       1.0  female   \n",
      "781          Dick, Mrs. Albert Adrian (Vera Gillespie)       1.0  female   \n",
      "786                          Sjoblom, Miss. Anna Sofia       1.0  female   \n",
      "788                         Dean, Master. Bertram Vere       1.0    male   \n",
      "802                Carter, Master. William Thornton II       1.0    male   \n",
      "803                    Thomas, Master. Assad Alexander       1.0    male   \n",
      "804                            Hedman, Mr. Oskar Arvid       1.0    male   \n",
      "821                                  Lulic, Mr. Nikola       1.0    male   \n",
      "823                                 Moor, Mrs. (Beila)       1.0  female   \n",
      "827                              Mallet, Master. Andre       1.0    male   \n",
      "830            Yasbeck, Mrs. Antoni (Selini Alexander)       1.0  female   \n",
      "831                    Richards, Master. George Sibley       1.0    male   \n",
      "853                          Lines, Miss. Mary Conover       1.0  female   \n",
      "855                         Aks, Mrs. Sam (Leah Rosen)       1.0  female   \n",
      "858              Baclini, Mrs. Solomon (Latifa Qurban)       1.0  female   \n",
      "866                       Duran y More, Miss. Asuncion       1.0  female   \n",
      "869                    Johnson, Master. Harold Theodor       1.0    male   \n",
      "874              Abelson, Mrs. Samuel (Hannah Wizosky)       1.0  female   \n",
      "875                   Najib, Miss. Adele Kiamie \"Jane\"       1.0  female   \n",
      "880       Shelley, Mrs. William (Imanita Parrish Hall)       1.0  female   \n",
      "887                       Graham, Miss. Margaret Edith       1.0  female   \n",
      "889                              Behr, Mr. Karl Howell       1.0    male   \n",
      "\n",
      "       Age  \n",
      "2    26.00  \n",
      "8    27.00  \n",
      "9    14.00  \n",
      "10    4.00  \n",
      "22   15.00  \n",
      "23   28.00  \n",
      "39   14.00  \n",
      "43    3.00  \n",
      "44   19.00  \n",
      "53   29.00  \n",
      "56   21.00  \n",
      "58    5.00  \n",
      "66   29.00  \n",
      "68   17.00  \n",
      "78    0.83  \n",
      "81   29.00  \n",
      "84   17.00  \n",
      "88   23.00  \n",
      "97   23.00  \n",
      "106  21.00  \n",
      "125  12.00  \n",
      "127  24.00  \n",
      "133  29.00  \n",
      "136  19.00  \n",
      "141  22.00  \n",
      "142  24.00  \n",
      "146  27.00  \n",
      "151  22.00  \n",
      "156  16.00  \n",
      "165   9.00  \n",
      "..     ...  \n",
      "724  27.00  \n",
      "730  29.00  \n",
      "742  21.00  \n",
      "750   4.00  \n",
      "751   6.00  \n",
      "755   0.67  \n",
      "762  20.00  \n",
      "777   5.00  \n",
      "780  13.00  \n",
      "781  17.00  \n",
      "786  18.00  \n",
      "788   1.00  \n",
      "802  11.00  \n",
      "803   0.42  \n",
      "804  27.00  \n",
      "821  27.00  \n",
      "823  27.00  \n",
      "827   1.00  \n",
      "830  15.00  \n",
      "831   0.83  \n",
      "853  16.00  \n",
      "855  18.00  \n",
      "858  24.00  \n",
      "866  27.00  \n",
      "869   4.00  \n",
      "874  28.00  \n",
      "875  15.00  \n",
      "880  25.00  \n",
      "887  19.00  \n",
      "889  26.00  \n",
      "\n",
      "[156 rows x 4 columns]\n"
     ]
    },
    {
     "name": "stderr",
     "output_type": "stream",
     "text": [
      "/Users/seuli/venv/lib/python3.7/site-packages/ipykernel_launcher.py:7: UserWarning: Boolean Series key will be reindexed to match DataFrame index.\n",
      "  import sys\n"
     ]
    }
   ],
   "source": [
    "titanic_1_0 = titanic[['Name', 'Survived', 'Sex', 'Age']]\n",
    "\n",
    "Age = titanic_1_0['Age']\n",
    "Survived = titanic_1_0['Survived']\n",
    "\n",
    "titanic_1_1 = titanic_1_0[Age < 30]\n",
    "titanic_1 = titanic_1_1[Survived == 1]\n",
    "\n",
    "print(titanic_1)\n",
    "\n",
    "# print(titanic[titanic[\"Age\"] < 30][[\"Name\", \"Survived\", \"Sex\", \"Age\"]])"
   ]
  },
  {
   "cell_type": "markdown",
   "metadata": {},
   "source": [
    "## 4번 문제"
   ]
  },
  {
   "cell_type": "code",
   "execution_count": 17,
   "metadata": {},
   "outputs": [
    {
     "name": "stdout",
     "output_type": "stream",
     "text": [
      "                 Name  Survived  Pclass\n",
      "Survived Pclass                        \n",
      "0.0      1         80        80      80\n",
      "         2         97        97      97\n",
      "         3        372       372     372\n",
      "1.0      1        136       136     136\n",
      "         2         87        87      87\n",
      "         3        119       119     119\n"
     ]
    }
   ],
   "source": [
    "titanic_4 = titanic.groupby(['Survived','Pclass'])[['Name', 'Survived', 'Pclass']].count()\n",
    "print(titanic_4)"
   ]
  }
 ],
 "metadata": {
  "kernelspec": {
   "display_name": "Python 3",
   "language": "python",
   "name": "python3"
  },
  "language_info": {
   "codemirror_mode": {
    "name": "ipython",
    "version": 3
   },
   "file_extension": ".py",
   "mimetype": "text/x-python",
   "name": "python",
   "nbconvert_exporter": "python",
   "pygments_lexer": "ipython3",
   "version": "3.7.3"
  }
 },
 "nbformat": 4,
 "nbformat_minor": 2
}
