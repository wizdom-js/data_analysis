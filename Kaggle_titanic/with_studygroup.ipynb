{
 "cells": [
  {
   "cell_type": "code",
   "execution_count": 2,
   "metadata": {},
   "outputs": [],
   "source": [
    "# 라이브러리 불러오기\n",
    "import numpy as np \n",
    "import pandas as pd\n",
    "import matplotlib.pyplot as plt \n",
    "import seaborn as sns\n",
    "\n",
    "# matplotlib 스타일 중, 'seaborn' 스타일 사용\n",
    "plt.style.use('seaborn')\n",
    "\n",
    "#데이터 불러오기\n",
    "test_dt = pd.read_csv('titanic/test.csv')\n",
    "train_dt = pd.read_csv('titanic/train.csv')\n",
    "gender_dt = pd.read_csv('titanic/gender_submission.csv')"
   ]
  },
  {
   "cell_type": "code",
   "execution_count": 18,
   "metadata": {},
   "outputs": [
    {
     "data": {
      "text/html": [
       "<div>\n",
       "<style scoped>\n",
       "    .dataframe tbody tr th:only-of-type {\n",
       "        vertical-align: middle;\n",
       "    }\n",
       "\n",
       "    .dataframe tbody tr th {\n",
       "        vertical-align: top;\n",
       "    }\n",
       "\n",
       "    .dataframe thead th {\n",
       "        text-align: right;\n",
       "    }\n",
       "</style>\n",
       "<table border=\"1\" class=\"dataframe\">\n",
       "  <thead>\n",
       "    <tr style=\"text-align: right;\">\n",
       "      <th></th>\n",
       "      <th>PassengerId</th>\n",
       "      <th>Survived</th>\n",
       "      <th>Pclass</th>\n",
       "      <th>Name</th>\n",
       "      <th>Sex</th>\n",
       "      <th>Age</th>\n",
       "      <th>SibSp</th>\n",
       "      <th>Parch</th>\n",
       "      <th>Ticket</th>\n",
       "      <th>Fare</th>\n",
       "      <th>Cabin</th>\n",
       "      <th>Embarked</th>\n",
       "    </tr>\n",
       "  </thead>\n",
       "  <tbody>\n",
       "    <tr>\n",
       "      <th>0</th>\n",
       "      <td>1</td>\n",
       "      <td>0</td>\n",
       "      <td>3</td>\n",
       "      <td>Braund, Mr. Owen Harris</td>\n",
       "      <td>male</td>\n",
       "      <td>22.0</td>\n",
       "      <td>1</td>\n",
       "      <td>0</td>\n",
       "      <td>A/5 21171</td>\n",
       "      <td>7.2500</td>\n",
       "      <td>NaN</td>\n",
       "      <td>S</td>\n",
       "    </tr>\n",
       "    <tr>\n",
       "      <th>1</th>\n",
       "      <td>2</td>\n",
       "      <td>1</td>\n",
       "      <td>1</td>\n",
       "      <td>Cumings, Mrs. John Bradley (Florence Briggs Th...</td>\n",
       "      <td>female</td>\n",
       "      <td>38.0</td>\n",
       "      <td>1</td>\n",
       "      <td>0</td>\n",
       "      <td>PC 17599</td>\n",
       "      <td>71.2833</td>\n",
       "      <td>C85</td>\n",
       "      <td>C</td>\n",
       "    </tr>\n",
       "    <tr>\n",
       "      <th>2</th>\n",
       "      <td>3</td>\n",
       "      <td>1</td>\n",
       "      <td>3</td>\n",
       "      <td>Heikkinen, Miss. Laina</td>\n",
       "      <td>female</td>\n",
       "      <td>26.0</td>\n",
       "      <td>0</td>\n",
       "      <td>0</td>\n",
       "      <td>STON/O2. 3101282</td>\n",
       "      <td>7.9250</td>\n",
       "      <td>NaN</td>\n",
       "      <td>S</td>\n",
       "    </tr>\n",
       "    <tr>\n",
       "      <th>3</th>\n",
       "      <td>4</td>\n",
       "      <td>1</td>\n",
       "      <td>1</td>\n",
       "      <td>Futrelle, Mrs. Jacques Heath (Lily May Peel)</td>\n",
       "      <td>female</td>\n",
       "      <td>35.0</td>\n",
       "      <td>1</td>\n",
       "      <td>0</td>\n",
       "      <td>113803</td>\n",
       "      <td>53.1000</td>\n",
       "      <td>C123</td>\n",
       "      <td>S</td>\n",
       "    </tr>\n",
       "    <tr>\n",
       "      <th>4</th>\n",
       "      <td>5</td>\n",
       "      <td>0</td>\n",
       "      <td>3</td>\n",
       "      <td>Allen, Mr. William Henry</td>\n",
       "      <td>male</td>\n",
       "      <td>35.0</td>\n",
       "      <td>0</td>\n",
       "      <td>0</td>\n",
       "      <td>373450</td>\n",
       "      <td>8.0500</td>\n",
       "      <td>NaN</td>\n",
       "      <td>S</td>\n",
       "    </tr>\n",
       "  </tbody>\n",
       "</table>\n",
       "</div>"
      ],
      "text/plain": [
       "   PassengerId  Survived  Pclass  \\\n",
       "0            1         0       3   \n",
       "1            2         1       1   \n",
       "2            3         1       3   \n",
       "3            4         1       1   \n",
       "4            5         0       3   \n",
       "\n",
       "                                                Name     Sex   Age  SibSp  \\\n",
       "0                            Braund, Mr. Owen Harris    male  22.0      1   \n",
       "1  Cumings, Mrs. John Bradley (Florence Briggs Th...  female  38.0      1   \n",
       "2                             Heikkinen, Miss. Laina  female  26.0      0   \n",
       "3       Futrelle, Mrs. Jacques Heath (Lily May Peel)  female  35.0      1   \n",
       "4                           Allen, Mr. William Henry    male  35.0      0   \n",
       "\n",
       "   Parch            Ticket     Fare Cabin Embarked  \n",
       "0      0         A/5 21171   7.2500   NaN        S  \n",
       "1      0          PC 17599  71.2833   C85        C  \n",
       "2      0  STON/O2. 3101282   7.9250   NaN        S  \n",
       "3      0            113803  53.1000  C123        S  \n",
       "4      0            373450   8.0500   NaN        S  "
      ]
     },
     "execution_count": 18,
     "metadata": {},
     "output_type": "execute_result"
    }
   ],
   "source": [
    "# 데이터 확인하기\n",
    "train_dt.head()"
   ]
  },
  {
   "cell_type": "code",
   "execution_count": 19,
   "metadata": {},
   "outputs": [
    {
     "name": "stdout",
     "output_type": "stream",
     "text": [
      "PassengerId      0\n",
      "Survived         0\n",
      "Pclass           0\n",
      "Name             0\n",
      "Sex              0\n",
      "Age            177\n",
      "SibSp            0\n",
      "Parch            0\n",
      "Ticket           0\n",
      "Fare             0\n",
      "Cabin          687\n",
      "Embarked         2\n",
      "dtype: int64\n"
     ]
    }
   ],
   "source": [
    "# na값 확인하기\n",
    "# 열마다 확인하면서 na값이 몇개인지 보여준다.\n",
    "print(train_dt.apply(lambda x : pd.isna(x).sum()))"
   ]
  },
  {
   "cell_type": "code",
   "execution_count": 24,
   "metadata": {},
   "outputs": [
    {
     "name": "stdout",
     "output_type": "stream",
     "text": [
      "PassengerId     0.00\n",
      "Survived        0.00\n",
      "Pclass          0.00\n",
      "Name            0.00\n",
      "Sex             0.00\n",
      "Age            19.87\n",
      "SibSp           0.00\n",
      "Parch           0.00\n",
      "Ticket          0.00\n",
      "Fare            0.00\n",
      "Cabin          77.10\n",
      "Embarked        0.22\n",
      "dtype: float64\n"
     ]
    }
   ],
   "source": [
    "# na 비율 구하기 (소수점 2자리까지 나타내기)\n",
    "# shape[0]--> 인 이유는 row갯수\n",
    "print(round(train_dt.apply(lambda x : pd.isna(x).sum())/train_dt.shape[0]*100 , 2))"
   ]
  },
  {
   "cell_type": "code",
   "execution_count": 25,
   "metadata": {},
   "outputs": [
    {
     "data": {
      "text/html": [
       "<div>\n",
       "<style scoped>\n",
       "    .dataframe tbody tr th:only-of-type {\n",
       "        vertical-align: middle;\n",
       "    }\n",
       "\n",
       "    .dataframe tbody tr th {\n",
       "        vertical-align: top;\n",
       "    }\n",
       "\n",
       "    .dataframe thead th {\n",
       "        text-align: right;\n",
       "    }\n",
       "</style>\n",
       "<table border=\"1\" class=\"dataframe\">\n",
       "  <thead>\n",
       "    <tr style=\"text-align: right;\">\n",
       "      <th></th>\n",
       "      <th>PassengerId</th>\n",
       "      <th>Survived</th>\n",
       "      <th>Pclass</th>\n",
       "      <th>Age</th>\n",
       "      <th>SibSp</th>\n",
       "      <th>Parch</th>\n",
       "      <th>Fare</th>\n",
       "    </tr>\n",
       "  </thead>\n",
       "  <tbody>\n",
       "    <tr>\n",
       "      <th>count</th>\n",
       "      <td>891.000000</td>\n",
       "      <td>891.000000</td>\n",
       "      <td>891.000000</td>\n",
       "      <td>714.000000</td>\n",
       "      <td>891.000000</td>\n",
       "      <td>891.000000</td>\n",
       "      <td>891.000000</td>\n",
       "    </tr>\n",
       "    <tr>\n",
       "      <th>mean</th>\n",
       "      <td>446.000000</td>\n",
       "      <td>0.383838</td>\n",
       "      <td>2.308642</td>\n",
       "      <td>29.699118</td>\n",
       "      <td>0.523008</td>\n",
       "      <td>0.381594</td>\n",
       "      <td>32.204208</td>\n",
       "    </tr>\n",
       "    <tr>\n",
       "      <th>std</th>\n",
       "      <td>257.353842</td>\n",
       "      <td>0.486592</td>\n",
       "      <td>0.836071</td>\n",
       "      <td>14.526497</td>\n",
       "      <td>1.102743</td>\n",
       "      <td>0.806057</td>\n",
       "      <td>49.693429</td>\n",
       "    </tr>\n",
       "    <tr>\n",
       "      <th>min</th>\n",
       "      <td>1.000000</td>\n",
       "      <td>0.000000</td>\n",
       "      <td>1.000000</td>\n",
       "      <td>0.420000</td>\n",
       "      <td>0.000000</td>\n",
       "      <td>0.000000</td>\n",
       "      <td>0.000000</td>\n",
       "    </tr>\n",
       "    <tr>\n",
       "      <th>25%</th>\n",
       "      <td>223.500000</td>\n",
       "      <td>0.000000</td>\n",
       "      <td>2.000000</td>\n",
       "      <td>20.125000</td>\n",
       "      <td>0.000000</td>\n",
       "      <td>0.000000</td>\n",
       "      <td>7.910400</td>\n",
       "    </tr>\n",
       "    <tr>\n",
       "      <th>50%</th>\n",
       "      <td>446.000000</td>\n",
       "      <td>0.000000</td>\n",
       "      <td>3.000000</td>\n",
       "      <td>28.000000</td>\n",
       "      <td>0.000000</td>\n",
       "      <td>0.000000</td>\n",
       "      <td>14.454200</td>\n",
       "    </tr>\n",
       "    <tr>\n",
       "      <th>75%</th>\n",
       "      <td>668.500000</td>\n",
       "      <td>1.000000</td>\n",
       "      <td>3.000000</td>\n",
       "      <td>38.000000</td>\n",
       "      <td>1.000000</td>\n",
       "      <td>0.000000</td>\n",
       "      <td>31.000000</td>\n",
       "    </tr>\n",
       "    <tr>\n",
       "      <th>max</th>\n",
       "      <td>891.000000</td>\n",
       "      <td>1.000000</td>\n",
       "      <td>3.000000</td>\n",
       "      <td>80.000000</td>\n",
       "      <td>8.000000</td>\n",
       "      <td>6.000000</td>\n",
       "      <td>512.329200</td>\n",
       "    </tr>\n",
       "  </tbody>\n",
       "</table>\n",
       "</div>"
      ],
      "text/plain": [
       "       PassengerId    Survived      Pclass         Age       SibSp  \\\n",
       "count   891.000000  891.000000  891.000000  714.000000  891.000000   \n",
       "mean    446.000000    0.383838    2.308642   29.699118    0.523008   \n",
       "std     257.353842    0.486592    0.836071   14.526497    1.102743   \n",
       "min       1.000000    0.000000    1.000000    0.420000    0.000000   \n",
       "25%     223.500000    0.000000    2.000000   20.125000    0.000000   \n",
       "50%     446.000000    0.000000    3.000000   28.000000    0.000000   \n",
       "75%     668.500000    1.000000    3.000000   38.000000    1.000000   \n",
       "max     891.000000    1.000000    3.000000   80.000000    8.000000   \n",
       "\n",
       "            Parch        Fare  \n",
       "count  891.000000  891.000000  \n",
       "mean     0.381594   32.204208  \n",
       "std      0.806057   49.693429  \n",
       "min      0.000000    0.000000  \n",
       "25%      0.000000    7.910400  \n",
       "50%      0.000000   14.454200  \n",
       "75%      0.000000   31.000000  \n",
       "max      6.000000  512.329200  "
      ]
     },
     "execution_count": 25,
     "metadata": {},
     "output_type": "execute_result"
    }
   ],
   "source": [
    "# 기초통계량 구하기\n",
    "train_dt.describe()"
   ]
  },
  {
   "cell_type": "code",
   "execution_count": 26,
   "metadata": {},
   "outputs": [
    {
     "name": "stdout",
     "output_type": "stream",
     "text": [
      "<class 'pandas.core.frame.DataFrame'>\n",
      "RangeIndex: 891 entries, 0 to 890\n",
      "Data columns (total 12 columns):\n",
      " #   Column       Non-Null Count  Dtype  \n",
      "---  ------       --------------  -----  \n",
      " 0   PassengerId  891 non-null    int64  \n",
      " 1   Survived     891 non-null    int64  \n",
      " 2   Pclass       891 non-null    int64  \n",
      " 3   Name         891 non-null    object \n",
      " 4   Sex          891 non-null    object \n",
      " 5   Age          714 non-null    float64\n",
      " 6   SibSp        891 non-null    int64  \n",
      " 7   Parch        891 non-null    int64  \n",
      " 8   Ticket       891 non-null    object \n",
      " 9   Fare         891 non-null    float64\n",
      " 10  Cabin        204 non-null    object \n",
      " 11  Embarked     889 non-null    object \n",
      "dtypes: float64(2), int64(5), object(5)\n",
      "memory usage: 83.7+ KB\n"
     ]
    }
   ],
   "source": [
    "# null값 개수와 타입보기 ! !\n",
    "train_dt.info()"
   ]
  },
  {
   "cell_type": "code",
   "execution_count": 27,
   "metadata": {},
   "outputs": [
    {
     "data": {
      "text/plain": [
       "0    549\n",
       "1    342\n",
       "Name: Survived, dtype: int64"
      ]
     },
     "execution_count": 27,
     "metadata": {},
     "output_type": "execute_result"
    }
   ],
   "source": [
    "# y값(survived)에 대한 분포 \n",
    "train_dt[\"Survived\"].value_counts()"
   ]
  },
  {
   "cell_type": "code",
   "execution_count": 47,
   "metadata": {},
   "outputs": [
    {
     "data": {
      "text/plain": [
       "Pclass  Survived\n",
       "1       0            80\n",
       "        1           136\n",
       "2       0            97\n",
       "        1            87\n",
       "3       0           372\n",
       "        1           119\n",
       "Name: Pclass, dtype: int64"
      ]
     },
     "execution_count": 47,
     "metadata": {},
     "output_type": "execute_result"
    }
   ],
   "source": [
    "train_dt.groupby(['Pclass', 'Survived'])['Pclass'].count()"
   ]
  },
  {
   "cell_type": "code",
   "execution_count": 69,
   "metadata": {},
   "outputs": [],
   "source": [
    "train_dt['Age_cut'] = 0\n",
    "train_dt['Age_cut'] = pd.cut(train_dt['Age'], bins=[0, 19, 29, 39, 49, 59, 69, 80],\n",
    "                            labels=['10s','20s', '30s', '40s', '50s', '60s', '70over'])"
   ]
  },
  {
   "cell_type": "code",
   "execution_count": 82,
   "metadata": {},
   "outputs": [
    {
     "data": {
      "text/plain": [
       "Age_cut  Survived\n",
       "10s      0            85\n",
       "         1            79\n",
       "20s      0           143\n",
       "         1            77\n",
       "30s      0            94\n",
       "         1            73\n",
       "40s      0            55\n",
       "         1            34\n",
       "50s      0            28\n",
       "         1            20\n",
       "60s      0            13\n",
       "         1             6\n",
       "70over   0             6\n",
       "         1             1\n",
       "Name: Survived, dtype: int64"
      ]
     },
     "execution_count": 82,
     "metadata": {},
     "output_type": "execute_result"
    }
   ],
   "source": [
    "train_dt.groupby(['Age_cut', 'Survived'])['Survived'].count()"
   ]
  },
  {
   "cell_type": "code",
   "execution_count": 105,
   "metadata": {},
   "outputs": [
    {
     "data": {
      "text/plain": [
       "<AxesSubplot:xlabel='Age', ylabel='Count'>"
      ]
     },
     "execution_count": 105,
     "metadata": {},
     "output_type": "execute_result"
    },
    {
     "data": {
      "image/png": "[encoded data removed]",
      "text/plain": [
       "<Figure size 432x288 with 1 Axes>"
      ]
     },
     "metadata": {
      "needs_background": "light"
     },
     "output_type": "display_data"
    }
   ],
   "source": [
    "import seaborn as sns\n",
    "\n",
    "sns.histplot(x=train_dt[train_dt['Survived']==1]['Age'], hue='Sex', data=train_dt)"
   ]
  },
  {
   "cell_type": "markdown",
   "metadata": {},
   "source": [
    "# 머신러닝하기"
   ]
  },
  {
   "cell_type": "markdown",
   "metadata": {},
   "source": [
    "참고 페이지 : https://www.kaggle.com/subinium/subinium-tutorial-titanic-beginner"
   ]
  },
  {
   "cell_type": "code",
   "execution_count": 10,
   "metadata": {},
   "outputs": [],
   "source": [
    "# 라이브러리 불러오기\n",
    "import numpy as np \n",
    "import pandas as pd\n",
    "\n",
    "#데이터 불러오기\n",
    "test_dt = pd.read_csv('titanic/test.csv')\n",
    "train_dt = pd.read_csv('titanic/train.csv')"
   ]
  },
  {
   "cell_type": "markdown",
   "metadata": {},
   "source": [
    "## 전처리"
   ]
  },
  {
   "cell_type": "markdown",
   "metadata": {},
   "source": [
    "NaN 데이터를 최대한 메꾸고 분석하자 ! \n",
    "보통 대푯값, 중앙값으로 메꾼다. \n",
    "\n",
    "먼저 불필요한 column을 drop 해준다"
   ]
  },
  {
   "cell_type": "code",
   "execution_count": 11,
   "metadata": {},
   "outputs": [
    {
     "name": "stdout",
     "output_type": "stream",
     "text": [
      "   Survived  Pclass                                               Name  \\\n",
      "0         0       3                            Braund, Mr. Owen Harris   \n",
      "1         1       1  Cumings, Mrs. John Bradley (Florence Briggs Th...   \n",
      "2         1       3                             Heikkinen, Miss. Laina   \n",
      "3         1       1       Futrelle, Mrs. Jacques Heath (Lily May Peel)   \n",
      "4         0       3                           Allen, Mr. William Henry   \n",
      "\n",
      "      Sex   Age  SibSp  Parch            Ticket     Fare Embarked  \n",
      "0    male  22.0      1      0         A/5 21171   7.2500        S  \n",
      "1  female  38.0      1      0          PC 17599  71.2833        C  \n",
      "2  female  26.0      0      0  STON/O2. 3101282   7.9250        S  \n",
      "3  female  35.0      1      0            113803  53.1000        S  \n",
      "4    male  35.0      0      0            373450   8.0500        S  \n"
     ]
    }
   ],
   "source": [
    "# 못쓰는 열 drop 해주기\n",
    "    # : passengerID(탑승객의 아이디를 나타낸거니까), Cabin(객실인데  Nan값이 대부분)\n",
    "train_dt.drop(['PassengerId', 'Cabin'], axis=1, inplace=True)\n",
    "    # axis=1 : 열로 적용, inplace=True : 변수 지정 할 필요 없이 train_dt에 바로 적용시켜\n",
    "\n",
    "print(train_dt.head())"
   ]
  },
  {
   "cell_type": "code",
   "execution_count": 12,
   "metadata": {},
   "outputs": [
    {
     "name": "stdout",
     "output_type": "stream",
     "text": [
      "   PassengerId  Pclass                                          Name     Sex  \\\n",
      "0          892       3                              Kelly, Mr. James    male   \n",
      "1          893       3              Wilkes, Mrs. James (Ellen Needs)  female   \n",
      "2          894       2                     Myles, Mr. Thomas Francis    male   \n",
      "3          895       3                              Wirz, Mr. Albert    male   \n",
      "4          896       3  Hirvonen, Mrs. Alexander (Helga E Lindqvist)  female   \n",
      "\n",
      "    Age  SibSp  Parch   Ticket     Fare Embarked  \n",
      "0  34.5      0      0   330911   7.8292        Q  \n",
      "1  47.0      1      0   363272   7.0000        S  \n",
      "2  62.0      0      0   240276   9.6875        Q  \n",
      "3  27.0      0      0   315154   8.6625        S  \n",
      "4  22.0      1      1  3101298  12.2875        S  \n"
     ]
    }
   ],
   "source": [
    "# test 데이터도 적용\n",
    "# test 데이터에서는 제출하는 파일이 'PassengerId'가 index 칼럼과 같은거라서 지워주지 않는다.\n",
    "# 예) (passnegerid가) 1번 사람이 살았니 ? 를 예측해야하니까\n",
    "test_dt.drop(['Cabin'], axis=1, inplace=True)\n",
    "print(test_dt.head())"
   ]
  },
  {
   "cell_type": "code",
   "execution_count": 13,
   "metadata": {},
   "outputs": [],
   "source": [
    "# 현재는 'Name'과 'Ticket' 변수 필요 없으니까 버리기\n",
    "train_dt.drop(['Name', 'Ticket'], axis=1, inplace=True)\n",
    "test_dt.drop(['Name', 'Ticket'], axis=1, inplace=True)"
   ]
  },
  {
   "cell_type": "markdown",
   "metadata": {},
   "source": [
    "### One-Hot Encoding : 문자를 숫자로 바꾸어주는 방법 중 하나\n",
    "가변수로 만들어주는 것인데, 0과 1로 이루어진 열을 나타낸다.\n",
    "\n",
    "'1은 있다, 0은 없다'를 뜻한다."
   ]
  },
  {
   "cell_type": "code",
   "execution_count": 14,
   "metadata": {},
   "outputs": [
    {
     "name": "stdout",
     "output_type": "stream",
     "text": [
      "   Survived     Sex   Age  SibSp  Parch     Fare Embarked  1  2  3\n",
      "0         0    male  22.0      1      0   7.2500        S  0  0  1\n",
      "1         1  female  38.0      1      0  71.2833        C  1  0  0\n",
      "2         1  female  26.0      0      0   7.9250        S  0  0  1\n",
      "3         1  female  35.0      1      0  53.1000        S  1  0  0\n",
      "4         0    male  35.0      0      0   8.0500        S  0  0  1\n"
     ]
    }
   ],
   "source": [
    "#get_dummies 함수를 이용하여 카테고리를 변수로 만들기\n",
    "pclass_train_dummies = pd.get_dummies(train_dt['Pclass'])\n",
    "\n",
    "# 합치기\n",
    "train = train_dt.join(pclass_train_dummies)\n",
    "\n",
    "# 다중공선성을 피하기 위해서  'Pclass' 열 지우기 ('Pclass'랑 연관성 엄청 있으니까. 독립적인 변수가 못됨. 나중 모델 만들때 지장있음)\n",
    "train.drop(['Pclass'], axis=1, inplace=True)\n",
    "\n",
    "print(train.head())"
   ]
  },
  {
   "cell_type": "code",
   "execution_count": 15,
   "metadata": {},
   "outputs": [
    {
     "name": "stdout",
     "output_type": "stream",
     "text": [
      "   PassengerId     Sex   Age  SibSp  Parch     Fare Embarked  1  2  3\n",
      "0          892    male  34.5      0      0   7.8292        Q  0  0  1\n",
      "1          893  female  47.0      1      0   7.0000        S  0  0  1\n",
      "2          894    male  62.0      0      0   9.6875        Q  0  1  0\n",
      "3          895    male  27.0      0      0   8.6625        S  0  0  1\n",
      "4          896  female  22.0      1      1  12.2875        S  0  0  1\n"
     ]
    }
   ],
   "source": [
    "# 테스트 데이터도 적용\n",
    "pclass_test_dummies = pd.get_dummies(test_dt['Pclass'])\n",
    "test = test_dt.join(pclass_test_dummies)\n",
    "test.drop(['Pclass'], axis=1, inplace=True)\n",
    "print(test.head())"
   ]
  },
  {
   "cell_type": "markdown",
   "metadata": {},
   "source": [
    "이렇게 Pclass의 원본을 없애고, 범주형으로 개별로 데이터가 변환되었다."
   ]
  },
  {
   "cell_type": "code",
   "execution_count": 16,
   "metadata": {},
   "outputs": [],
   "source": [
    "# 이렇게 train 적용한 뒤, test도 적용시켜주는게 귀찮다 ! 그러면 사용자정의함수 만들어서 적용\n",
    "\n",
    "# def preprocessing(df, is_train = True) :\n",
    "#     if is_train :\n",
    "#         df.drop([\"PassengerId\", \"Cabin\"], axis=1, inplace=True)\n",
    "#     else :\n",
    "#         df.drop([\"Cabin\"], axis=1, inplace=True)\n",
    "#     dummy = pd.get_dummies(df[\"Pclass\"])\n",
    "#     df = df.join(dummy)\n",
    "#     df.drop(\"Pclass\", axis = 1, inplace = True)\n",
    "\n",
    "#     return df\n",
    "\n",
    "# train = preprocessing(train, is_train = True)\n",
    "# test = preprocessing(test, is_train = False)\n",
    "# print(train.columns)\n",
    "# print(test.columns)"
   ]
  },
  {
   "cell_type": "markdown",
   "metadata": {},
   "source": [
    "### 'Age'의 NaN값 채우기"
   ]
  },
  {
   "cell_type": "markdown",
   "metadata": {},
   "source": [
    "나이는 연속형 데이터이다. 큰 처리가 필요없다.(카테고리화를 하여 일부 알고리즘에서 더 유용한 결과를 만들 수 있음) 하지만 일부 NaN 데이터가 있으니 이를 채울 수 있는 방법은\n",
    "1. 랜덤\n",
    "2. 평균값 \n",
    "3. 중간값\n",
    "4. 데이터 버리기 \n",
    "\n",
    "이렇게 있는데 평균값으로 채워주자 ! "
   ]
  },
  {
   "cell_type": "markdown",
   "metadata": {},
   "source": [
    "* na값을 drop해버리면 그만큼 테스트나 트레인해주는 데이터를 날리는 것이기 때문에 막 날리면 안됨. Na값을 바꿔주는것이 제일 좋다. 최후의 방법이 drop하는것."
   ]
  },
  {
   "cell_type": "code",
   "execution_count": 17,
   "metadata": {},
   "outputs": [
    {
     "name": "stdout",
     "output_type": "stream",
     "text": [
      "0\n"
     ]
    }
   ],
   "source": [
    "# 평균값으로 채운다\n",
    "train['Age'].fillna(train['Age'].mean(), inplace=True)\n",
    "\n",
    "# na값 있는지 확인\n",
    "print(sum(pd.isna(train['Age'])))"
   ]
  },
  {
   "cell_type": "code",
   "execution_count": 18,
   "metadata": {},
   "outputs": [
    {
     "name": "stdout",
     "output_type": "stream",
     "text": [
      "0\n"
     ]
    }
   ],
   "source": [
    "# test에도 적용\n",
    "test['Age'].fillna(test['Age'].mean(), inplace=True)\n",
    "\n",
    "print(sum(pd.isna(test['Age'])))"
   ]
  },
  {
   "cell_type": "markdown",
   "metadata": {},
   "source": [
    "### 'Fare' 탑승료 \n",
    "\n",
    "test셋에 1개의 데이터가 비어있다.\n",
    "무단 탑승이라고 가정하고 0이라고 입력. (디카프리오라고 추측할 수 있다)"
   ]
  },
  {
   "cell_type": "code",
   "execution_count": 19,
   "metadata": {},
   "outputs": [],
   "source": [
    "test['Fare'].fillna(0, inplace=True)"
   ]
  },
  {
   "cell_type": "markdown",
   "metadata": {},
   "source": [
    "### 'Embarked' 탑승항구. \n",
    "\n",
    "카테고리형식. NaN값들을 최빈값으로 바꾼다."
   ]
  },
  {
   "cell_type": "code",
   "execution_count": 20,
   "metadata": {},
   "outputs": [
    {
     "data": {
      "text/plain": [
       "S    644\n",
       "C    168\n",
       "Q     77\n",
       "Name: Embarked, dtype: int64"
      ]
     },
     "execution_count": 20,
     "metadata": {},
     "output_type": "execute_result"
    }
   ],
   "source": [
    "train['Embarked'].value_counts()"
   ]
  },
  {
   "cell_type": "code",
   "execution_count": 21,
   "metadata": {},
   "outputs": [
    {
     "data": {
      "text/plain": [
       "S    270\n",
       "C    102\n",
       "Q     46\n",
       "Name: Embarked, dtype: int64"
      ]
     },
     "execution_count": 21,
     "metadata": {},
     "output_type": "execute_result"
    }
   ],
   "source": [
    "test['Embarked'].value_counts()"
   ]
  },
  {
   "cell_type": "markdown",
   "metadata": {},
   "source": [
    "S가 대다수이므로 이걸로 바꿔주는 것이 이상치 영향 덜 받을 것이다.(최빈값으로 매꿔주기) "
   ]
  },
  {
   "cell_type": "code",
   "execution_count": 22,
   "metadata": {},
   "outputs": [],
   "source": [
    "# NaN값 S로 바꿔주기\n",
    "train['Embarked'].fillna('S', inplace=True)\n",
    "test['Embarked'].fillna('S', inplace=True)"
   ]
  },
  {
   "cell_type": "code",
   "execution_count": 23,
   "metadata": {},
   "outputs": [
    {
     "name": "stdout",
     "output_type": "stream",
     "text": [
      "   Survived     Sex   Age  SibSp  Parch     Fare  1  2  3  S  C  Q\n",
      "0         0    male  22.0      1      0   7.2500  0  0  1  0  0  1\n",
      "1         1  female  38.0      1      0  71.2833  1  0  0  1  0  0\n",
      "2         1  female  26.0      0      0   7.9250  0  0  1  0  0  1\n",
      "3         1  female  35.0      1      0  53.1000  1  0  0  0  0  1\n",
      "4         0    male  35.0      0      0   8.0500  0  0  1  0  0  1\n"
     ]
    }
   ],
   "source": [
    "# one-hot-encoding\n",
    "embarked_train_dummies = pd.get_dummies(train['Embarked'])\n",
    "\n",
    "embarked_train_dummies.columns=['S', 'C', 'Q'] # column 이름 주기.ㅗ\n",
    "\n",
    "train.drop(['Embarked'], axis=1, inplace=True)\n",
    "\n",
    "train = train.join(embarked_train_dummies)\n",
    "\n",
    "print(train.head())"
   ]
  },
  {
   "cell_type": "code",
   "execution_count": 24,
   "metadata": {
    "scrolled": true
   },
   "outputs": [
    {
     "name": "stdout",
     "output_type": "stream",
     "text": [
      "   PassengerId     Sex   Age  SibSp  Parch     Fare  1  2  3  S  C  Q\n",
      "0          892    male  34.5      0      0   7.8292  0  0  1  0  1  0\n",
      "1          893  female  47.0      1      0   7.0000  0  0  1  0  0  1\n",
      "2          894    male  62.0      0      0   9.6875  0  1  0  0  1  0\n",
      "3          895    male  27.0      0      0   8.6625  0  0  1  0  0  1\n",
      "4          896  female  22.0      1      1  12.2875  0  0  1  0  0  1\n"
     ]
    }
   ],
   "source": [
    "# test 데이터에도 적용\n",
    "embarked_test_dummies = pd.get_dummies(test['Embarked'])\n",
    "embarked_test_dummies.columns=['S', 'C', 'Q']\n",
    "test.drop(['Embarked'], axis=1, inplace=True)\n",
    "test = test.join(embarked_test_dummies)\n",
    "print(test.head())"
   ]
  },
  {
   "cell_type": "markdown",
   "metadata": {},
   "source": [
    "### 'Sex' 성별\n",
    "\n",
    "남, 여로 나뉘니 one-hot-encoding을 해준다."
   ]
  },
  {
   "cell_type": "code",
   "execution_count": 25,
   "metadata": {},
   "outputs": [
    {
     "name": "stdout",
     "output_type": "stream",
     "text": [
      "     Survived        Age  SibSp  Parch     Fare  1  2  3  S  C  Q  female  \\\n",
      "0           0  22.000000      1      0   7.2500  0  0  1  0  0  1       0   \n",
      "1           1  38.000000      1      0  71.2833  1  0  0  1  0  0       1   \n",
      "2           1  26.000000      0      0   7.9250  0  0  1  0  0  1       1   \n",
      "3           1  35.000000      1      0  53.1000  1  0  0  0  0  1       1   \n",
      "4           0  35.000000      0      0   8.0500  0  0  1  0  0  1       0   \n",
      "..        ...        ...    ...    ...      ... .. .. .. .. .. ..     ...   \n",
      "886         0  27.000000      0      0  13.0000  0  1  0  0  0  1       0   \n",
      "887         1  19.000000      0      0  30.0000  1  0  0  0  0  1       1   \n",
      "888         0  29.699118      1      2  23.4500  0  0  1  0  0  1       1   \n",
      "889         1  26.000000      0      0  30.0000  1  0  0  1  0  0       0   \n",
      "890         0  32.000000      0      0   7.7500  0  0  1  0  1  0       0   \n",
      "\n",
      "     male  \n",
      "0       1  \n",
      "1       0  \n",
      "2       0  \n",
      "3       0  \n",
      "4       1  \n",
      "..    ...  \n",
      "886     1  \n",
      "887     0  \n",
      "888     0  \n",
      "889     1  \n",
      "890     1  \n",
      "\n",
      "[891 rows x 13 columns]\n"
     ]
    }
   ],
   "source": [
    "# one-hot-encoding 해주기\n",
    "sex_train_dummies = pd.get_dummies(train['Sex'])\n",
    "\n",
    "train = train.join(sex_train_dummies)\n",
    "\n",
    "train.drop(['Sex'], axis=1, inplace=True)\n",
    "\n",
    "print(train.head())"
   ]
  },
  {
   "cell_type": "code",
   "execution_count": 26,
   "metadata": {},
   "outputs": [
    {
     "name": "stdout",
     "output_type": "stream",
     "text": [
      "   PassengerId   Age  SibSp  Parch     Fare  1  2  3  S  C  Q  female  male\n",
      "0          892  34.5      0      0   7.8292  0  0  1  0  1  0       0     1\n",
      "1          893  47.0      1      0   7.0000  0  0  1  0  0  1       1     0\n",
      "2          894  62.0      0      0   9.6875  0  1  0  0  1  0       0     1\n",
      "3          895  27.0      0      0   8.6625  0  0  1  0  0  1       0     1\n",
      "4          896  22.0      1      1  12.2875  0  0  1  0  0  1       1     0\n"
     ]
    }
   ],
   "source": [
    "# test도 적용시키기\n",
    "sex_test_dummies = pd.get_dummies(test['Sex'])\n",
    "test = test.join(sex_test_dummies)\n",
    "test.drop(['Sex'], axis=1, inplace=True)\n",
    "print(test.head())"
   ]
  },
  {
   "cell_type": "markdown",
   "metadata": {},
   "source": [
    "## 데이터 나누기\n",
    "학습용 데이터를 위해 데이터를 나누어야한다."
   ]
  },
  {
   "cell_type": "markdown",
   "metadata": {},
   "source": [
    "\n",
    "x = 독립 변수들\n",
    "\n",
    "y = 종속 변수\n",
    "\n"
   ]
  },
  {
   "cell_type": "code",
   "execution_count": 27,
   "metadata": {},
   "outputs": [],
   "source": [
    "x_train = train.drop(['Survived'], axis=1)\n",
    "y_train = train['Survived']\n",
    "\n",
    "# x_test는 있지만 결과는 아직 모르니 y_test 없다.(우리가 예측해야지)\n",
    "# 모델에서는 'PassengerId' 상관없기 때문에 버려준다.\n",
    "x_test = test.drop(['PassengerId'], axis=1)"
   ]
  },
  {
   "cell_type": "markdown",
   "metadata": {},
   "source": [
    "## 머신러닝 알고리즘 적용하기"
   ]
  },
  {
   "cell_type": "code",
   "execution_count": 28,
   "metadata": {},
   "outputs": [],
   "source": [
    "# 라이브러리 불러오기 : 로지스틱 회귀\n",
    "from sklearn.linear_model import LogisticRegression "
   ]
  },
  {
   "cell_type": "markdown",
   "metadata": {},
   "source": [
    "### 모델 피팅 시키기"
   ]
  },
  {
   "cell_type": "markdown",
   "metadata": {},
   "source": [
    "#### LogisticRegression"
   ]
  },
  {
   "cell_type": "code",
   "execution_count": 29,
   "metadata": {},
   "outputs": [
    {
     "name": "stdout",
     "output_type": "stream",
     "text": [
      "0.8058361391694725\n"
     ]
    },
    {
     "name": "stderr",
     "output_type": "stream",
     "text": [
      "/opt/anaconda3/lib/python3.8/site-packages/sklearn/linear_model/_logistic.py:762: ConvergenceWarning: lbfgs failed to converge (status=1):\n",
      "STOP: TOTAL NO. of ITERATIONS REACHED LIMIT.\n",
      "\n",
      "Increase the number of iterations (max_iter) or scale the data as shown in:\n",
      "    https://scikit-learn.org/stable/modules/preprocessing.html\n",
      "Please also refer to the documentation for alternative solver options:\n",
      "    https://scikit-learn.org/stable/modules/linear_model.html#logistic-regression\n",
      "  n_iter_i = _check_optimize_result(\n"
     ]
    }
   ],
   "source": [
    "logreg = LogisticRegression()\n",
    "logreg.fit(x_train, y_train)\n",
    "\n",
    "# x라는 것을 가지고 y값을 얼마나 맞췄는지 점수\n",
    "print(logreg.score(x_train, y_train))"
   ]
  },
  {
   "cell_type": "code",
   "execution_count": 30,
   "metadata": {},
   "outputs": [],
   "source": [
    "# train한 것을 가지고 y_test값을 예측한다.\n",
    "# 정답제출\n",
    "y_pred = logreg.predict(x_test)"
   ]
  },
  {
   "cell_type": "markdown",
   "metadata": {},
   "source": [
    "#### Support Vector Machines"
   ]
  },
  {
   "cell_type": "code",
   "execution_count": 32,
   "metadata": {},
   "outputs": [
    {
     "data": {
      "text/plain": [
       "0.6868686868686869"
      ]
     },
     "execution_count": 32,
     "metadata": {},
     "output_type": "execute_result"
    }
   ],
   "source": [
    "from sklearn.svm import SVC, LinearSVC\n",
    "\n",
    "svc = SVC()\n",
    "\n",
    "svc.fit(x_train, y_train)\n",
    "\n",
    "y_pred = svc.predict(x_test)\n",
    "\n",
    "svc.score(x_train, y_train)"
   ]
  },
  {
   "cell_type": "markdown",
   "metadata": {},
   "source": [
    "#### Random Forests"
   ]
  },
  {
   "cell_type": "code",
   "execution_count": 33,
   "metadata": {},
   "outputs": [
    {
     "data": {
      "text/plain": [
       "0.9820426487093153"
      ]
     },
     "execution_count": 33,
     "metadata": {},
     "output_type": "execute_result"
    }
   ],
   "source": [
    "from sklearn.ensemble import RandomForestClassifier\n",
    "\n",
    "random_forest = RandomForestClassifier(n_estimators = 100) # 나무의수=100\n",
    "\n",
    "random_forest.fit(x_train, y_train)\n",
    "\n",
    "y_pred = random_forest.predict(x_test)\n",
    "\n",
    "random_forest.score(x_train, y_train)"
   ]
  },
  {
   "cell_type": "markdown",
   "metadata": {},
   "source": [
    "#### KNeighbors"
   ]
  },
  {
   "cell_type": "code",
   "execution_count": 34,
   "metadata": {},
   "outputs": [
    {
     "data": {
      "text/plain": [
       "0.835016835016835"
      ]
     },
     "execution_count": 34,
     "metadata": {},
     "output_type": "execute_result"
    }
   ],
   "source": [
    "from sklearn.neighbors import KNeighborsClassifier\n",
    "\n",
    "knn = KNeighborsClassifier(n_neighbors=3)\n",
    "\n",
    "knn.fit(x_train, y_train)\n",
    "\n",
    "y_pred = knn.predict(x_test)\n",
    "\n",
    "knn.score(x_train, y_train)"
   ]
  },
  {
   "cell_type": "markdown",
   "metadata": {},
   "source": [
    "--> 이를 통해 랜덤 포레스트가 가장 좋은 결과를 내는 것을 알 수 있다."
   ]
  },
  {
   "cell_type": "markdown",
   "metadata": {},
   "source": [
    "### 제출용 파일 만들기"
   ]
  },
  {
   "cell_type": "code",
   "execution_count": 35,
   "metadata": {},
   "outputs": [
    {
     "data": {
      "text/plain": [
       "0.9820426487093153"
      ]
     },
     "execution_count": 35,
     "metadata": {},
     "output_type": "execute_result"
    }
   ],
   "source": [
    "random_forest = RandomForestClassifier(n_estimators = 100) # 나무의수=100\n",
    "random_forest.fit(x_train, y_train)\n",
    "y_pred = random_forest.predict(x_test)\n",
    "random_forest.score(x_train, y_train)"
   ]
  },
  {
   "cell_type": "code",
   "execution_count": 38,
   "metadata": {},
   "outputs": [],
   "source": [
    "submission = pd.DataFrame({\n",
    "    \"PassengerId\" : test[\"PassengerId\"],\n",
    "    \"Survived\" : y_pred\n",
    "})\n",
    "submission.to_csv('titanic.csv', index=False)"
   ]
  }
 ],
 "metadata": {
  "kernelspec": {
   "display_name": "Python 3",
   "language": "python",
   "name": "python3"
  },
  "language_info": {
   "codemirror_mode": {
    "name": "ipython",
    "version": 3
   },
   "file_extension": ".py",
   "mimetype": "text/x-python",
   "name": "python",
   "nbconvert_exporter": "python",
   "pygments_lexer": "ipython3",
   "version": "3.8.5"
  }
 },
 "nbformat": 4,
 "nbformat_minor": 4
}
