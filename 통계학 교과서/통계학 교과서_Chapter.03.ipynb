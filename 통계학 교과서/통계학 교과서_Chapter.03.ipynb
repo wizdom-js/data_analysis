{
 "cells": [
  {
   "cell_type": "markdown",
   "metadata": {},
   "source": [
    "# Chapter.03 파이썬을 이용한 데이터 분석"
   ]
  },
  {
   "cell_type": "markdown",
   "metadata": {},
   "source": [
    "## 3.1 파이썬을 이용한 기술통계 : 1변량 데이터"
   ]
  },
  {
   "cell_type": "markdown",
   "metadata": {},
   "source": [
    "### 3.1.1 통계 처리와  scipy"
   ]
  },
  {
   "cell_type": "code",
   "execution_count": 6,
   "metadata": {},
   "outputs": [],
   "source": [
    "import numpy as np\n",
    "import scipy as sp"
   ]
  },
  {
   "cell_type": "code",
   "execution_count": 2,
   "metadata": {},
   "outputs": [
    {
     "data": {
      "text/plain": [
       "'%.3f'"
      ]
     },
     "execution_count": 2,
     "metadata": {},
     "output_type": "execute_result"
    }
   ],
   "source": [
    "# 표시 자릿수 지정(소수점 이하 자릿수가 3이된다.)\n",
    "\n",
    "%precision 3"
   ]
  },
  {
   "cell_type": "markdown",
   "metadata": {},
   "source": [
    "### 3.1.2 1변량 데이터의 관리"
   ]
  },
  {
   "cell_type": "code",
   "execution_count": 4,
   "metadata": {},
   "outputs": [
    {
     "data": {
      "text/plain": [
       "array([2, 3, 3, 4, 4, 4, 4, 5, 5, 6])"
      ]
     },
     "execution_count": 4,
     "metadata": {},
     "output_type": "execute_result"
    }
   ],
   "source": [
    "# 1변량 데이터 : 1가지 종류의 데이터밖에 없을 경우\n",
    "\n",
    "fish_data = np.array([2, 3, 3, 4, 4, 4, 4, 5, 5, 6])\n",
    "fish_data"
   ]
  },
  {
   "cell_type": "markdown",
   "metadata": {},
   "source": [
    "### 3.1.3 합계와 샘플 사이즈"
   ]
  },
  {
   "cell_type": "code",
   "execution_count": 7,
   "metadata": {},
   "outputs": [
    {
     "data": {
      "text/plain": [
       "40"
      ]
     },
     "execution_count": 7,
     "metadata": {},
     "output_type": "execute_result"
    }
   ],
   "source": [
    "# scipy 함수 사용 - sum 함수\n",
    "\n",
    "sp.sum(fish_data)"
   ]
  },
  {
   "cell_type": "code",
   "execution_count": 8,
   "metadata": {},
   "outputs": [
    {
     "data": {
      "text/plain": [
       "10"
      ]
     },
     "execution_count": 8,
     "metadata": {},
     "output_type": "execute_result"
    }
   ],
   "source": [
    "# 샘플사이즈는 파이썬 표준함수로 구하자\n",
    "\n",
    "len(fish_data)"
   ]
  },
  {
   "cell_type": "markdown",
   "metadata": {},
   "source": [
    "### 3.1.4 평균값(기댓값)"
   ]
  },
  {
   "cell_type": "code",
   "execution_count": 9,
   "metadata": {},
   "outputs": [
    {
     "data": {
      "text/plain": [
       "4.0"
      ]
     },
     "execution_count": 9,
     "metadata": {},
     "output_type": "execute_result"
    }
   ],
   "source": [
    "# 평균값의 계산식 코드로 구현\n",
    "\n",
    "N = len(fish_data)\n",
    "sum_value = sp.sum(fish_data)\n",
    "mu = sum_value / N\n",
    "mu"
   ]
  },
  {
   "cell_type": "code",
   "execution_count": 10,
   "metadata": {},
   "outputs": [
    {
     "data": {
      "text/plain": [
       "4.0"
      ]
     },
     "execution_count": 10,
     "metadata": {},
     "output_type": "execute_result"
    }
   ],
   "source": [
    "sp.mean(fish_data)"
   ]
  },
  {
   "cell_type": "markdown",
   "metadata": {},
   "source": [
    "### 3.1.5 표본분산\n",
    "분산 : 데이터가 평균값에서 얼마나 떨어져있는지 나타내는 지표"
   ]
  },
  {
   "cell_type": "code",
   "execution_count": 12,
   "metadata": {},
   "outputs": [
    {
     "data": {
      "text/plain": [
       "1.2"
      ]
     },
     "execution_count": 12,
     "metadata": {},
     "output_type": "execute_result"
    }
   ],
   "source": [
    "# 파이썬 코드로 식 구현하기\n",
    "sigma_2_sample = sp.sum((fish_data - mu) ** 2) / N\n",
    "sigma_2_sample"
   ]
  },
  {
   "cell_type": "code",
   "execution_count": 15,
   "metadata": {},
   "outputs": [
    {
     "data": {
      "text/plain": [
       "1.2"
      ]
     },
     "execution_count": 15,
     "metadata": {},
     "output_type": "execute_result"
    }
   ],
   "source": [
    "sp.var(fish_data, ddof = 0)"
   ]
  },
  {
   "cell_type": "markdown",
   "metadata": {},
   "source": [
    "### 3.1.6 불편분산"
   ]
  },
  {
   "cell_type": "code",
   "execution_count": 16,
   "metadata": {},
   "outputs": [
    {
     "data": {
      "text/plain": [
       "1.3333333333333333"
      ]
     },
     "execution_count": 16,
     "metadata": {},
     "output_type": "execute_result"
    }
   ],
   "source": [
    "# 코드로 구현하기\n",
    "sigma_2 = sp.sum((fish_data - mu) ** 2)/(N-1)\n",
    "sigma_2"
   ]
  },
  {
   "cell_type": "code",
   "execution_count": 17,
   "metadata": {},
   "outputs": [
    {
     "data": {
      "text/plain": [
       "1.3333333333333333"
      ]
     },
     "execution_count": 17,
     "metadata": {},
     "output_type": "execute_result"
    }
   ],
   "source": [
    "sp.var(fish_data, ddof = 1)"
   ]
  },
  {
   "cell_type": "markdown",
   "metadata": {},
   "source": [
    "### 3.1.7 표준편차\n",
    "    : 분산에 루트를 취한 값"
   ]
  },
  {
   "cell_type": "code",
   "execution_count": 18,
   "metadata": {},
   "outputs": [
    {
     "data": {
      "text/plain": [
       "1.1547005383792515"
      ]
     },
     "execution_count": 18,
     "metadata": {},
     "output_type": "execute_result"
    }
   ],
   "source": [
    "# 코드로 구현하기\n",
    "# sqrt : 루트값 계산\n",
    "sigma = sp.sqrt(sigma_2)\n",
    "sigma"
   ]
  },
  {
   "cell_type": "code",
   "execution_count": 19,
   "metadata": {},
   "outputs": [
    {
     "data": {
      "text/plain": [
       "1.1547005383792515"
      ]
     },
     "execution_count": 19,
     "metadata": {},
     "output_type": "execute_result"
    }
   ],
   "source": [
    "sp.std(fish_data, ddof = 1)"
   ]
  },
  {
   "cell_type": "markdown",
   "metadata": {},
   "source": [
    "### 3.1.5 표준화\n",
    ": 데이터의 평균을 0으로, 표준편차(분산)을 1로 하는 변환\n",
    "\n",
    "\n",
    "-> 여러 변수를 다룰 때 평균값이 큰 변수와 작은 변수가 섞여 있으면 다루기 어려우므로 표준화로 데이터를 비교하기 쉽게 한다."
   ]
  },
  {
   "cell_type": "code",
   "execution_count": 20,
   "metadata": {},
   "outputs": [
    {
     "data": {
      "text/plain": [
       "array([-2., -1., -1.,  0.,  0.,  0.,  0.,  1.,  1.,  2.])"
      ]
     },
     "execution_count": 20,
     "metadata": {},
     "output_type": "execute_result"
    }
   ],
   "source": [
    "# 데이터의 평균값을 0으로 하는 것은 모든 데이터에서 평균값을 빼는 것으로 달성할 수 있다.\n",
    "fish_data - mu"
   ]
  },
  {
   "cell_type": "code",
   "execution_count": 21,
   "metadata": {},
   "outputs": [
    {
     "data": {
      "text/plain": [
       "0.0"
      ]
     },
     "execution_count": 21,
     "metadata": {},
     "output_type": "execute_result"
    }
   ],
   "source": [
    "# 이 평균값은 0이 된다.\n",
    "sp.mean(fish_data - mu)"
   ]
  },
  {
   "cell_type": "code",
   "execution_count": 22,
   "metadata": {},
   "outputs": [
    {
     "data": {
      "text/plain": [
       "array([1.732, 2.598, 2.598, 3.464, 3.464, 3.464, 3.464, 4.33 , 4.33 ,\n",
       "       5.196])"
      ]
     },
     "execution_count": 22,
     "metadata": {},
     "output_type": "execute_result"
    }
   ],
   "source": [
    "# 데이터의 표준편차(분산)을 1로 만드는 방법 \n",
    "    # : 데이터를 일률적으로 표준편차로 나누는 것\n",
    "fish_data / sigma"
   ]
  },
  {
   "cell_type": "code",
   "execution_count": 23,
   "metadata": {},
   "outputs": [
    {
     "data": {
      "text/plain": [
       "1.0"
      ]
     },
     "execution_count": 23,
     "metadata": {},
     "output_type": "execute_result"
    }
   ],
   "source": [
    "# fish_data / sigma의 표준편차는 1이된다.\n",
    "sp.std(fish_data / sigma, ddof=1)"
   ]
  },
  {
   "cell_type": "code",
   "execution_count": 24,
   "metadata": {},
   "outputs": [
    {
     "data": {
      "text/plain": [
       "array([-1.732, -0.866, -0.866,  0.   ,  0.   ,  0.   ,  0.   ,  0.866,\n",
       "        0.866,  1.732])"
      ]
     },
     "execution_count": 24,
     "metadata": {},
     "output_type": "execute_result"
    }
   ],
   "source": [
    "# 두 변환을 합치면 평균이 0, 표준편차(분산)이 1인 데이터로 변환\n",
    "standard = (fish_data - mu ) / sigma\n",
    "standard"
   ]
  },
  {
   "cell_type": "code",
   "execution_count": 25,
   "metadata": {},
   "outputs": [
    {
     "data": {
      "text/plain": [
       "2.2204460492503132e-17"
      ]
     },
     "execution_count": 25,
     "metadata": {},
     "output_type": "execute_result"
    }
   ],
   "source": [
    "sp.mean(standard)"
   ]
  },
  {
   "cell_type": "code",
   "execution_count": 26,
   "metadata": {},
   "outputs": [
    {
     "data": {
      "text/plain": [
       "1.0"
      ]
     },
     "execution_count": 26,
     "metadata": {},
     "output_type": "execute_result"
    }
   ],
   "source": [
    "sp.std(standard, ddof =1)"
   ]
  },
  {
   "cell_type": "markdown",
   "metadata": {},
   "source": [
    "### 3.1.9 그 이외의 통계량"
   ]
  },
  {
   "cell_type": "code",
   "execution_count": 27,
   "metadata": {},
   "outputs": [
    {
     "data": {
      "text/plain": [
       "6"
      ]
     },
     "execution_count": 27,
     "metadata": {},
     "output_type": "execute_result"
    }
   ],
   "source": [
    "# 최댓값 : amax 함수\n",
    "sp.amax(fish_data)"
   ]
  },
  {
   "cell_type": "code",
   "execution_count": 28,
   "metadata": {},
   "outputs": [
    {
     "data": {
      "text/plain": [
       "2"
      ]
     },
     "execution_count": 28,
     "metadata": {},
     "output_type": "execute_result"
    }
   ],
   "source": [
    "# 최솟값 : amin 함수\n",
    "sp.amin(fish_data)"
   ]
  },
  {
   "cell_type": "code",
   "execution_count": 29,
   "metadata": {},
   "outputs": [
    {
     "data": {
      "text/plain": [
       "4.0"
      ]
     },
     "execution_count": 29,
     "metadata": {},
     "output_type": "execute_result"
    }
   ],
   "source": [
    "# 중앙값 : median 함수\n",
    "sp.median(fish_data)"
   ]
  },
  {
   "cell_type": "code",
   "execution_count": 30,
   "metadata": {},
   "outputs": [],
   "source": [
    "# 좌우 비대칭 데이터로 평균값과 중앙값 구하기\n",
    "fish_data_2 = np.array([2, 3, 3, 4, 4, 4, 4, 5, 5, 100])"
   ]
  },
  {
   "cell_type": "code",
   "execution_count": 31,
   "metadata": {},
   "outputs": [
    {
     "data": {
      "text/plain": [
       "13.4"
      ]
     },
     "execution_count": 31,
     "metadata": {},
     "output_type": "execute_result"
    }
   ],
   "source": [
    "sp.mean(fish_data_2)"
   ]
  },
  {
   "cell_type": "code",
   "execution_count": 32,
   "metadata": {},
   "outputs": [
    {
     "data": {
      "text/plain": [
       "4.0"
      ]
     },
     "execution_count": 32,
     "metadata": {},
     "output_type": "execute_result"
    }
   ],
   "source": [
    "sp.median(fish_data_2)"
   ]
  },
  {
   "cell_type": "markdown",
   "metadata": {},
   "source": [
    "### 3.1.10 scipy.stats와 사분위수"
   ]
  },
  {
   "cell_type": "code",
   "execution_count": 33,
   "metadata": {},
   "outputs": [],
   "source": [
    "# scipy 패키지 아네 있는 통계분석에 특화된 함수 사용할 수 있다.\n",
    "from scipy import stats"
   ]
  },
  {
   "cell_type": "markdown",
   "metadata": {},
   "source": [
    "사분위수 : 데이터를 순서대로 늘어놓았을 때 아래에서부터 25%, 75%에 해당하는 값"
   ]
  },
  {
   "cell_type": "code",
   "execution_count": 34,
   "metadata": {},
   "outputs": [
    {
     "data": {
      "text/plain": [
       "3.0"
      ]
     },
     "execution_count": 34,
     "metadata": {},
     "output_type": "execute_result"
    }
   ],
   "source": [
    "fish_data_3 = np.array([1, 2, 3, 4, 5, 6, 7, 8, 9])\n",
    "stats.scoreatpercentile(fish_data_3, 25)"
   ]
  },
  {
   "cell_type": "code",
   "execution_count": 35,
   "metadata": {},
   "outputs": [
    {
     "data": {
      "text/plain": [
       "7.0"
      ]
     },
     "execution_count": 35,
     "metadata": {},
     "output_type": "execute_result"
    }
   ],
   "source": [
    "# 작은 것 부터 늘어놓았을때 75%에 해당하는 값\n",
    "stats.scoreatpercentile(fish_data_3, 75)"
   ]
  },
  {
   "cell_type": "markdown",
   "metadata": {},
   "source": [
    "## 3.2 파이썬을 이용한 기술통계 : 다변량 데이터\n",
    "다변량 데이터 : 여러 개의 변수를 조합한 데이터\n",
    "* 깔끔한 데이터로 만드는 것이 중요하다."
   ]
  },
  {
   "cell_type": "markdown",
   "metadata": {},
   "source": [
    "### 3.2.1 깔끔한 데이터"
   ]
  },
  {
   "cell_type": "markdown",
   "metadata": {},
   "source": [
    "<깔끔한 데이터의 특징> : 분석하기 쉽게 정리한 표 형태의 데이터\n",
    "\n",
    "1. 개별 값이 하나의 셀을 이룬다.\n",
    "2. 개별 변수가 하나의 열을 이룬다.\n",
    "3. 개별 관측이 하나의 행을 이룬다.\n",
    "4. 개별 관측 유닛 유형이 하나의 표를 이룬다."
   ]
  },
  {
   "cell_type": "markdown",
   "metadata": {},
   "source": [
    "* 깔끔한 데이터는 의미와 구조가 대응함.\n",
    "\n",
    "장점 : 복잡한 데이터를 모을 때, 통일성 있는 처리를 할 수 있다.\n",
    "\n",
    "-> 즉, 소프트웨어로 다루기 쉬운 형식"
   ]
  },
  {
   "cell_type": "markdown",
   "metadata": {},
   "source": [
    "### 3.2.4 다변량 데이터 관리하기"
   ]
  },
  {
   "cell_type": "code",
   "execution_count": 36,
   "metadata": {},
   "outputs": [
    {
     "data": {
      "text/plain": [
       "'%.3f'"
      ]
     },
     "execution_count": 36,
     "metadata": {},
     "output_type": "execute_result"
    }
   ],
   "source": [
    "# 수치 계산에 사용하는 라이브러리\n",
    "import pandas as pd\n",
    "import scipy as sp\n",
    "\n",
    "# 표시 자릿수 지정\n",
    "%precision 3"
   ]
  },
  {
   "cell_type": "code",
   "execution_count": 37,
   "metadata": {},
   "outputs": [
    {
     "name": "stdout",
     "output_type": "stream",
     "text": [
      "  species  length\n",
      "0       A       2\n",
      "1       A       3\n",
      "2       A       4\n",
      "3       B       6\n",
      "4       B       8\n",
      "5       B      10\n"
     ]
    }
   ],
   "source": [
    "fish_multi = pd.read_csv(\"/Users/seuli/Desktop/개발자/통계학 source/sample/3-2-1-fish_multi.csv\")\n",
    "print(fish_multi)"
   ]
  },
  {
   "cell_type": "markdown",
   "metadata": {},
   "source": [
    "### 3.2.5 그룹별 통계량 계산하기"
   ]
  },
  {
   "cell_type": "code",
   "execution_count": 38,
   "metadata": {},
   "outputs": [
    {
     "name": "stdout",
     "output_type": "stream",
     "text": [
      "         length\n",
      "species        \n",
      "A             3\n",
      "B             8\n"
     ]
    }
   ],
   "source": [
    "# groupby함수 : 데이터를 그룹화\n",
    "# 이를 이용하여 평균 구하기\n",
    "\n",
    "group = fish_multi.groupby(\"species\")\n",
    "print(group.mean())"
   ]
  },
  {
   "cell_type": "code",
   "execution_count": 39,
   "metadata": {},
   "outputs": [
    {
     "name": "stdout",
     "output_type": "stream",
     "text": [
      "         length\n",
      "species        \n",
      "A           1.0\n",
      "B           2.0\n"
     ]
    }
   ],
   "source": [
    "# 표준편차 구하기\n",
    "\n",
    "print(group.std(ddof=1))"
   ]
  },
  {
   "cell_type": "code",
   "execution_count": 40,
   "metadata": {},
   "outputs": [
    {
     "data": {
      "text/html": [
       "<div>\n",
       "<style scoped>\n",
       "    .dataframe tbody tr th:only-of-type {\n",
       "        vertical-align: middle;\n",
       "    }\n",
       "\n",
       "    .dataframe tbody tr th {\n",
       "        vertical-align: top;\n",
       "    }\n",
       "\n",
       "    .dataframe thead tr th {\n",
       "        text-align: left;\n",
       "    }\n",
       "\n",
       "    .dataframe thead tr:last-of-type th {\n",
       "        text-align: right;\n",
       "    }\n",
       "</style>\n",
       "<table border=\"1\" class=\"dataframe\">\n",
       "  <thead>\n",
       "    <tr>\n",
       "      <th></th>\n",
       "      <th colspan=\"8\" halign=\"left\">length</th>\n",
       "    </tr>\n",
       "    <tr>\n",
       "      <th></th>\n",
       "      <th>count</th>\n",
       "      <th>mean</th>\n",
       "      <th>std</th>\n",
       "      <th>min</th>\n",
       "      <th>25%</th>\n",
       "      <th>50%</th>\n",
       "      <th>75%</th>\n",
       "      <th>max</th>\n",
       "    </tr>\n",
       "    <tr>\n",
       "      <th>species</th>\n",
       "      <th></th>\n",
       "      <th></th>\n",
       "      <th></th>\n",
       "      <th></th>\n",
       "      <th></th>\n",
       "      <th></th>\n",
       "      <th></th>\n",
       "      <th></th>\n",
       "    </tr>\n",
       "  </thead>\n",
       "  <tbody>\n",
       "    <tr>\n",
       "      <th>A</th>\n",
       "      <td>3.0</td>\n",
       "      <td>3.0</td>\n",
       "      <td>1.0</td>\n",
       "      <td>2.0</td>\n",
       "      <td>2.5</td>\n",
       "      <td>3.0</td>\n",
       "      <td>3.5</td>\n",
       "      <td>4.0</td>\n",
       "    </tr>\n",
       "    <tr>\n",
       "      <th>B</th>\n",
       "      <td>3.0</td>\n",
       "      <td>8.0</td>\n",
       "      <td>2.0</td>\n",
       "      <td>6.0</td>\n",
       "      <td>7.0</td>\n",
       "      <td>8.0</td>\n",
       "      <td>9.0</td>\n",
       "      <td>10.0</td>\n",
       "    </tr>\n",
       "  </tbody>\n",
       "</table>\n",
       "</div>"
      ],
      "text/plain": [
       "        length                                    \n",
       "         count mean  std  min  25%  50%  75%   max\n",
       "species                                           \n",
       "A          3.0  3.0  1.0  2.0  2.5  3.0  3.5   4.0\n",
       "B          3.0  8.0  2.0  6.0  7.0  8.0  9.0  10.0"
      ]
     },
     "execution_count": 40,
     "metadata": {},
     "output_type": "execute_result"
    }
   ],
   "source": [
    "# 평균이나 표준편차 등을 백분위 값으로 정리하여 출력\n",
    "\n",
    "group.describe()"
   ]
  },
  {
   "cell_type": "markdown",
   "metadata": {},
   "source": [
    "### 3.2.6 교차분석표 구현하기"
   ]
  },
  {
   "cell_type": "code",
   "execution_count": 41,
   "metadata": {},
   "outputs": [
    {
     "name": "stdout",
     "output_type": "stream",
     "text": [
      "   store color  sales\n",
      "0  tokyo  blue     10\n",
      "1  tokyo   red     15\n",
      "2  osaka  blue     13\n",
      "3  osaka   red      9\n"
     ]
    }
   ],
   "source": [
    "shoes = pd.read_csv(\"/Users/seuli/Desktop/개발자/통계학 source/sample/3-2-2-shoes.csv\")\n",
    "print(shoes)"
   ]
  },
  {
   "cell_type": "code",
   "execution_count": 42,
   "metadata": {},
   "outputs": [
    {
     "name": "stdout",
     "output_type": "stream",
     "text": [
      "color  blue  red\n",
      "store           \n",
      "osaka    13    9\n",
      "tokyo    10   15\n"
     ]
    }
   ],
   "source": [
    "# 깔끔한 데이터를 읽어들여 표로 변환하기\n",
    "\n",
    "# pivot_table 함수 : 여러가지 형태의 데이터 모음 확인\n",
    "cross = pd.pivot_table(\n",
    "    data = shoes, # 데이터 지정\n",
    "    values = \"sales\", # 데이터를 모을 열 지정\n",
    "    aggfunc = \"sum\", # 데이터를 모을 함수 지정\n",
    "    index = \"store\", # 교차분석표의 행 지정\n",
    "    columns = \"color\" # 교차분석표의 열 지정\n",
    ")\n",
    "print(cross)"
   ]
  },
  {
   "cell_type": "markdown",
   "metadata": {},
   "source": [
    "### 3.2.7 공분산\n",
    ": 2개의 연속형 변수의 관계성을 확인하는 통계량\n",
    "\n",
    "* 공분산이 0보다 클 때 : 변수 한쪽이 큰 값을 갖게 되면 다른 한 쪽도 커진다.\n",
    "* 공분산이 0보다 작을 때 : 변수 한 쪽이 큰 값을 갖게 되면 다른 한 쪽은 작아진다.\n",
    "* 공분산이 0일 때 : 변수 사이에 관계성이 없다."
   ]
  },
  {
   "cell_type": "markdown",
   "metadata": {},
   "source": [
    "### 3.2.8 분산 - 공분산 행렬\n",
    ": 여러 변수의 분산과 공분산 목록을 행렬 형태로 정리한 것"
   ]
  },
  {
   "cell_type": "markdown",
   "metadata": {},
   "source": [
    "### 3.2.9 공분산(실습)"
   ]
  },
  {
   "cell_type": "code",
   "execution_count": 44,
   "metadata": {},
   "outputs": [
    {
     "name": "stdout",
     "output_type": "stream",
     "text": [
      "      x   y\n",
      "0  18.5  34\n",
      "1  18.7  39\n",
      "2  19.1  41\n",
      "3  19.7  38\n",
      "4  21.5  45\n",
      "5  21.7  41\n",
      "6  21.8  52\n",
      "7  22.0  44\n",
      "8  23.4  44\n",
      "9  23.8  49\n"
     ]
    }
   ],
   "source": [
    "cov_data = pd.read_csv(\"/Users/seuli/Desktop/개발자/통계학 source/sample/3-2-3-cov.csv\")\n",
    "print(cov_data)"
   ]
  },
  {
   "cell_type": "code",
   "execution_count": 45,
   "metadata": {},
   "outputs": [],
   "source": [
    "# 공분산 계산하는 데 사용할 요소들 계산하기\n",
    "\n",
    "# 데이터 분리\n",
    "x = cov_data[\"x\"]\n",
    "y = cov_data[\"y\"]\n",
    "# 표본 크기\n",
    "N = len(cov_data)\n",
    "# 평균값 계산\n",
    "mu_x = sp.mean(x)\n",
    "mu_y = sp.mean(y)"
   ]
  },
  {
   "cell_type": "code",
   "execution_count": 58,
   "metadata": {},
   "outputs": [
    {
     "data": {
      "text/plain": [
       "6.906"
      ]
     },
     "execution_count": 58,
     "metadata": {},
     "output_type": "execute_result"
    }
   ],
   "source": [
    "# 공분산 계산\n",
    "cov_sample = sum((x - mu_x) * (y - mu_y)) / N\n",
    "cov_sample"
   ]
  },
  {
   "cell_type": "code",
   "execution_count": 52,
   "metadata": {},
   "outputs": [
    {
     "data": {
      "text/plain": [
       "7.673"
      ]
     },
     "execution_count": 52,
     "metadata": {},
     "output_type": "execute_result"
    }
   ],
   "source": [
    "# 분모 N-1 로 설정하여 공분산 계산해보기\n",
    "cov = sum((x - mu_x) * (y - mu_y)) / (N-1)\n",
    "cov"
   ]
  },
  {
   "cell_type": "markdown",
   "metadata": {},
   "source": [
    "### 3.2.10 분산-공분산 행렬(실습)"
   ]
  },
  {
   "cell_type": "code",
   "execution_count": 48,
   "metadata": {},
   "outputs": [
    {
     "data": {
      "text/plain": [
       "array([[ 3.282,  6.906],\n",
       "       [ 6.906, 25.21 ]])"
      ]
     },
     "execution_count": 48,
     "metadata": {},
     "output_type": "execute_result"
    }
   ],
   "source": [
    "# scipy의 cov 함수 : 분산-공분산 행렬 계산 가능\n",
    "\n",
    "sp.cov(x, y, ddof=0)"
   ]
  },
  {
   "cell_type": "code",
   "execution_count": 49,
   "metadata": {},
   "outputs": [
    {
     "data": {
      "text/plain": [
       "array([[ 3.646,  7.673],\n",
       "       [ 7.673, 28.011]])"
      ]
     },
     "execution_count": 49,
     "metadata": {},
     "output_type": "execute_result"
    }
   ],
   "source": [
    "# 분모 N-1 로 설정하여 분산-공분산 계산해보기\n",
    "\n",
    "sp.cov(x, y, ddof=1)"
   ]
  },
  {
   "cell_type": "markdown",
   "metadata": {},
   "source": [
    "### 3.2.11 피어슨 상관계수\n",
    "* 상관계수라고 하면 대부분은 피어슨 상관계수를 뜻한다\n",
    "* 이 식은 공분산을 최댓값 1, 최솟값 -1 사이가 되도록 표준화하는 것이다."
   ]
  },
  {
   "cell_type": "markdown",
   "metadata": {},
   "source": [
    "*** 공분산은 편리한 지표지만 최댓값이나 최솟값이 얼마가 될지 알 수 없고, 단위가 변화면 공분산의 값도 변하므로 사용하기 편하도록 보정한다."
   ]
  },
  {
   "cell_type": "markdown",
   "metadata": {},
   "source": [
    "### 3.2.12 상관행렬\n",
    ": 여러 변수의 상관계수들을 행렬 형태로 정리한 것"
   ]
  },
  {
   "cell_type": "markdown",
   "metadata": {},
   "source": [
    "### 3.2.13 피어슨 상관계수(실습)"
   ]
  },
  {
   "cell_type": "code",
   "execution_count": 53,
   "metadata": {},
   "outputs": [
    {
     "data": {
      "text/plain": [
       "0.7592719041137088"
      ]
     },
     "execution_count": 53,
     "metadata": {},
     "output_type": "execute_result"
    }
   ],
   "source": [
    "# 분산 계산\n",
    "sigma_2_x = sp.var(x, ddof = 1)\n",
    "sigma_2_y = sp.var(y, ddof = 1)\n",
    "\n",
    "# 상관계수\n",
    "rho = cov/sp.sqrt(sigma_2_x * sigma_2_y)\n",
    "rho"
   ]
  },
  {
   "cell_type": "code",
   "execution_count": 59,
   "metadata": {},
   "outputs": [
    {
     "data": {
      "text/plain": [
       "0.7592719041137087"
      ]
     },
     "execution_count": 59,
     "metadata": {},
     "output_type": "execute_result"
    }
   ],
   "source": [
    "# 분모와 분자가 같은 값으로 나눠져서, 분산과 공분산 계산식의 분모에 N을 사용하든 N-1 사용하든 상관계수 변하지 않는다.\n",
    "\n",
    "# 분산 계산\n",
    "sigma_2_x_sample = sp.var(x, ddof = 0)\n",
    "sigma_2_y_sample = sp.var(y, ddof = 0)\n",
    "# 상관계수\n",
    "cov_sample / sp.sqrt(sigma_2_x_sample * sigma_2_y_sample)"
   ]
  },
  {
   "cell_type": "code",
   "execution_count": 65,
   "metadata": {},
   "outputs": [
    {
     "data": {
      "text/plain": [
       "array([[1.   , 0.759],\n",
       "       [0.759, 1.   ]])"
      ]
     },
     "execution_count": 65,
     "metadata": {},
     "output_type": "execute_result"
    }
   ],
   "source": [
    "# scipy의 corrcoef 함수 : 상관행렬을 계산\n",
    "sp.corrcoef(x, y)"
   ]
  },
  {
   "cell_type": "markdown",
   "metadata": {},
   "source": [
    "### 3.2.14 상관계수가 무의미할때\n",
    "* 상관계수는 여러 변수 사이의 관계를 확인할 때 자주 사용되는 지표지만 만능은 아님"
   ]
  },
  {
   "cell_type": "markdown",
   "metadata": {},
   "source": [
    "## 3.3 matplotlib과 seaborn을 이용한 데이터 시각화"
   ]
  },
  {
   "cell_type": "markdown",
   "metadata": {},
   "source": [
    "### 3.3.2 시각화를 위한 준비"
   ]
  },
  {
   "cell_type": "code",
   "execution_count": 66,
   "metadata": {},
   "outputs": [],
   "source": [
    "# 수치 계산에 사용하는 라이브러리\n",
    "import numpy as np\n",
    "import pandas as pd\n",
    "# 표시 자릿수 지정\n",
    "%precision 3\n",
    "# 그래프를 그리기 위한 라이브러리\n",
    "from matplotlib import pyplot as plt\n",
    "# 그래프를 주피터 노트북에 그리기 위한 설정\n",
    "%matplotlib inline"
   ]
  },
  {
   "cell_type": "markdown",
   "metadata": {},
   "source": [
    "### 3.3.3 pyplot을 이용한 꺾은선 그래프"
   ]
  },
  {
   "cell_type": "code",
   "execution_count": 67,
   "metadata": {},
   "outputs": [],
   "source": [
    "# 꺾은선 그래프 : 데이터의 변화를 보기 쉽게 한 그래프\n",
    "x = np.array([0,1,2,3,4,5,6,7,8,9])\n",
    "y = np.array([2,3,4,3,5,4,6,7,4,8])"
   ]
  },
  {
   "cell_type": "code",
   "execution_count": 68,
   "metadata": {},
   "outputs": [
    {
     "data": {
      "text/plain": [
       "Text(0, 0.5, 'y')"
      ]
     },
     "execution_count": 68,
     "metadata": {},
     "output_type": "execute_result"
    },
    {
     "data": {
      "image/png": "[encoded data removed]",
      "text/plain": [
       "<Figure size 432x288 with 1 Axes>"
      ]
     },
     "metadata": {
      "needs_background": "light"
     },
     "output_type": "display_data"
    }
   ],
   "source": [
    "# 그래프 그리기\n",
    "plt.plot(x, y, color = 'black')\n",
    "plt.title(\"lineplot matplotlib\")\n",
    "plt.xlabel(\"x\")\n",
    "plt.ylabel(\"y\")"
   ]
  },
  {
   "cell_type": "markdown",
   "metadata": {},
   "source": [
    "### 3.3.4 seaborn과 pyplot을 이용한 꺾은선 그래프"
   ]
  },
  {
   "cell_type": "code",
   "execution_count": 69,
   "metadata": {},
   "outputs": [],
   "source": [
    "import seaborn as sns\n",
    "sns.set() # 그래프의 디자인이 바뀜"
   ]
  },
  {
   "cell_type": "code",
   "execution_count": 70,
   "metadata": {},
   "outputs": [
    {
     "data": {
      "text/plain": [
       "Text(0, 0.5, 'y')"
      ]
     },
     "execution_count": 70,
     "metadata": {},
     "output_type": "execute_result"
    },
    {
     "data": {
      "image/png": "[encoded data removed]",
      "text/plain": [
       "<Figure size 432x288 with 1 Axes>"
      ]
     },
     "metadata": {},
     "output_type": "display_data"
    }
   ],
   "source": [
    "# 앞과 똑같이 그래프 그리기\n",
    "plt.plot(x, y, color = 'black')\n",
    "plt.title(\"lineplot matplotlib\")\n",
    "plt.xlabel(\"x\")\n",
    "plt.ylabel(\"y\")"
   ]
  },
  {
   "cell_type": "markdown",
   "metadata": {},
   "source": [
    "### 3.3.5  seaborn을 이용한 히스토그램"
   ]
  },
  {
   "cell_type": "code",
   "execution_count": 71,
   "metadata": {},
   "outputs": [
    {
     "data": {
      "text/plain": [
       "array([2, 3, 3, 4, 4, 4, 4, 5, 5, 6])"
      ]
     },
     "execution_count": 71,
     "metadata": {},
     "output_type": "execute_result"
    }
   ],
   "source": [
    "fish_data = np.array([2,3,3,4,4,4,4,5,5,6])\n",
    "fish_data"
   ]
  },
  {
   "cell_type": "code",
   "execution_count": 75,
   "metadata": {},
   "outputs": [
    {
     "data": {
      "text/plain": [
       "<matplotlib.axes._subplots.AxesSubplot at 0x1210f54a8>"
      ]
     },
     "execution_count": 75,
     "metadata": {},
     "output_type": "execute_result"
    },
    {
     "data": {
      "image/png": "[encoded data removed]",
      "text/plain": [
       "<Figure size 432x288 with 1 Axes>"
      ]
     },
     "metadata": {},
     "output_type": "display_data"
    }
   ],
   "source": [
    "sns.distplot(fish_data, bins = 5, color = 'black', kde=False)"
   ]
  },
  {
   "cell_type": "markdown",
   "metadata": {},
   "source": [
    "### 3.3.6 커널밀도추정에 따른 히스토그램 평활화\n",
    "커널밀도추정 : 히스토그램이 가진 문제를 해소하기 위한 방법\n"
   ]
  },
  {
   "cell_type": "markdown",
   "metadata": {},
   "source": [
    "* 히스토그램의 문제 ?\n",
    "    : 구간을 어떻게 정하느냐에 따라 모양이 크게 바뀐다."
   ]
  },
  {
   "cell_type": "code",
   "execution_count": 76,
   "metadata": {},
   "outputs": [
    {
     "data": {
      "text/plain": [
       "<matplotlib.axes._subplots.AxesSubplot at 0x121ac6278>"
      ]
     },
     "execution_count": 76,
     "metadata": {},
     "output_type": "execute_result"
    },
    {
     "data": {
      "image/png": "[encoded data removed]",
      "text/plain": [
       "<Figure size 432x288 with 1 Axes>"
      ]
     },
     "metadata": {},
     "output_type": "display_data"
    }
   ],
   "source": [
    "# 예) bins =1로 지정하면 데이터 특징 전혀 안드러남\n",
    "sns.distplot(fish_data, bins = 1, color = 'black', kde=False)"
   ]
  },
  {
   "cell_type": "code",
   "execution_count": 77,
   "metadata": {},
   "outputs": [
    {
     "data": {
      "text/plain": [
       "<matplotlib.axes._subplots.AxesSubplot at 0x12176dd30>"
      ]
     },
     "execution_count": 77,
     "metadata": {},
     "output_type": "execute_result"
    },
    {
     "data": {
      "image/png": "[encoded data removed]",
      "text/plain": [
       "<Figure size 432x288 with 1 Axes>"
      ]
     },
     "metadata": {},
     "output_type": "display_data"
    }
   ],
   "source": [
    "# 커널밀도추정의 결과를 표시하기 \n",
    "    # : kde 지우기, bins 지정하지 않기\n",
    "sns.distplot(fish_data, color = 'black')"
   ]
  },
  {
   "cell_type": "markdown",
   "metadata": {},
   "source": [
    "### 3.3.7 2변량 데이터에 대한 히스토그램"
   ]
  },
  {
   "cell_type": "code",
   "execution_count": 81,
   "metadata": {},
   "outputs": [
    {
     "name": "stdout",
     "output_type": "stream",
     "text": [
      "   species  length\n",
      "0        A       2\n",
      "1        A       3\n",
      "2        A       3\n",
      "3        A       4\n",
      "4        A       4\n",
      "5        A       4\n",
      "6        A       4\n",
      "7        A       5\n",
      "8        A       5\n",
      "9        A       6\n",
      "10       B       5\n",
      "11       B       6\n",
      "12       B       6\n",
      "13       B       7\n",
      "14       B       7\n",
      "15       B       7\n",
      "16       B       7\n",
      "17       B       8\n",
      "18       B       8\n",
      "19       B       9\n"
     ]
    }
   ],
   "source": [
    "fish_multi = pd.read_csv(\"/Users/seuli/Desktop/개발자/통계학 source/sample/3-3-2-fish_multi_2.csv\")\n",
    "print(fish_multi)"
   ]
  },
  {
   "cell_type": "code",
   "execution_count": 82,
   "metadata": {},
   "outputs": [
    {
     "data": {
      "text/html": [
       "<div>\n",
       "<style scoped>\n",
       "    .dataframe tbody tr th:only-of-type {\n",
       "        vertical-align: middle;\n",
       "    }\n",
       "\n",
       "    .dataframe tbody tr th {\n",
       "        vertical-align: top;\n",
       "    }\n",
       "\n",
       "    .dataframe thead tr th {\n",
       "        text-align: left;\n",
       "    }\n",
       "\n",
       "    .dataframe thead tr:last-of-type th {\n",
       "        text-align: right;\n",
       "    }\n",
       "</style>\n",
       "<table border=\"1\" class=\"dataframe\">\n",
       "  <thead>\n",
       "    <tr>\n",
       "      <th></th>\n",
       "      <th colspan=\"8\" halign=\"left\">length</th>\n",
       "    </tr>\n",
       "    <tr>\n",
       "      <th></th>\n",
       "      <th>count</th>\n",
       "      <th>mean</th>\n",
       "      <th>std</th>\n",
       "      <th>min</th>\n",
       "      <th>25%</th>\n",
       "      <th>50%</th>\n",
       "      <th>75%</th>\n",
       "      <th>max</th>\n",
       "    </tr>\n",
       "    <tr>\n",
       "      <th>species</th>\n",
       "      <th></th>\n",
       "      <th></th>\n",
       "      <th></th>\n",
       "      <th></th>\n",
       "      <th></th>\n",
       "      <th></th>\n",
       "      <th></th>\n",
       "      <th></th>\n",
       "    </tr>\n",
       "  </thead>\n",
       "  <tbody>\n",
       "    <tr>\n",
       "      <th>A</th>\n",
       "      <td>10.0</td>\n",
       "      <td>4.0</td>\n",
       "      <td>1.154701</td>\n",
       "      <td>2.0</td>\n",
       "      <td>3.25</td>\n",
       "      <td>4.0</td>\n",
       "      <td>4.75</td>\n",
       "      <td>6.0</td>\n",
       "    </tr>\n",
       "    <tr>\n",
       "      <th>B</th>\n",
       "      <td>10.0</td>\n",
       "      <td>7.0</td>\n",
       "      <td>1.154701</td>\n",
       "      <td>5.0</td>\n",
       "      <td>6.25</td>\n",
       "      <td>7.0</td>\n",
       "      <td>7.75</td>\n",
       "      <td>9.0</td>\n",
       "    </tr>\n",
       "  </tbody>\n",
       "</table>\n",
       "</div>"
      ],
      "text/plain": [
       "        length                                          \n",
       "         count mean       std  min   25%  50%   75%  max\n",
       "species                                                 \n",
       "A         10.0  4.0  1.154701  2.0  3.25  4.0  4.75  6.0\n",
       "B         10.0  7.0  1.154701  5.0  6.25  7.0  7.75  9.0"
      ]
     },
     "execution_count": 82,
     "metadata": {},
     "output_type": "execute_result"
    }
   ],
   "source": [
    "# 종류별로 통계량 계산\n",
    "fish_multi.groupby(\"species\").describe()"
   ]
  },
  {
   "cell_type": "code",
   "execution_count": 83,
   "metadata": {},
   "outputs": [],
   "source": [
    "# 종류별 몸길이 데이터 추출, 각각의 변수에 저장\n",
    "length_a = fish_multi.query(\"species == 'A'\")[\"length\"]\n",
    "length_b = fish_multi.query(\"species == 'B'\")[\"length\"]"
   ]
  },
  {
   "cell_type": "code",
   "execution_count": 85,
   "metadata": {},
   "outputs": [
    {
     "data": {
      "text/plain": [
       "0    2\n",
       "1    3\n",
       "2    3\n",
       "3    4\n",
       "4    4\n",
       "5    4\n",
       "6    4\n",
       "7    5\n",
       "8    5\n",
       "9    6\n",
       "Name: length, dtype: int64"
      ]
     },
     "execution_count": 85,
     "metadata": {},
     "output_type": "execute_result"
    }
   ],
   "source": [
    "length_a"
   ]
  },
  {
   "cell_type": "code",
   "execution_count": 86,
   "metadata": {},
   "outputs": [
    {
     "data": {
      "text/plain": [
       "<matplotlib.axes._subplots.AxesSubplot at 0x123d3c9e8>"
      ]
     },
     "execution_count": 86,
     "metadata": {},
     "output_type": "execute_result"
    },
    {
     "data": {
      "image/png": "[encoded data removed]",
      "text/plain": [
       "<Figure size 432x288 with 1 Axes>"
      ]
     },
     "metadata": {},
     "output_type": "display_data"
    }
   ],
   "source": [
    "# 히스토그램 그리는거 두번하면 겹칠 수 있음\n",
    "sns.distplot(length_a, bins =5, color = 'black', kde=False)\n",
    "sns.distplot(length_b, bins =5, color = 'gray', kde = False)"
   ]
  },
  {
   "cell_type": "markdown",
   "metadata": {},
   "source": [
    "### 3.3.8 다변량 데이터를 시각화하는 코드 작성"
   ]
  },
  {
   "cell_type": "markdown",
   "metadata": {},
   "source": [
    "seaborn을 사용할 경우 아래와 같은 형식이다"
   ]
  },
  {
   "cell_type": "code",
   "execution_count": 88,
   "metadata": {},
   "outputs": [],
   "source": [
    "# sns.함수명(\n",
    "    # x = \"x축의 열 이름\",\n",
    "    # y = \"y축의 열 이름\",\n",
    "    # data = 데이터프레임,\n",
    "    # 그_외의_인수\n",
    "# )"
   ]
  },
  {
   "cell_type": "markdown",
   "metadata": {},
   "source": [
    "### 3.3.9 상자그림\n",
    ": \"카테고리 변수 * 수치형 변수\" 조합의 데이터를 표시할 경우 많이 사용한다 (박스플롯)"
   ]
  },
  {
   "cell_type": "code",
   "execution_count": 89,
   "metadata": {},
   "outputs": [
    {
     "data": {
      "text/plain": [
       "<matplotlib.axes._subplots.AxesSubplot at 0x123da1048>"
      ]
     },
     "execution_count": 89,
     "metadata": {},
     "output_type": "execute_result"
    },
    {
     "data": {
      "image/png": "[encoded data removed]",
      "text/plain": [
       "<Figure size 432x288 with 1 Axes>"
      ]
     },
     "metadata": {},
     "output_type": "display_data"
    }
   ],
   "source": [
    "sns.boxplot(x = \"species\", y = \"length\", data = fish_multi, color = \"gray\")"
   ]
  },
  {
   "cell_type": "markdown",
   "metadata": {},
   "source": [
    "### 3.3.10 바이올린플롯\n",
    ": 상자그림의 상자 대신 커널밀도추정의 결과를 사용한 것. 가독성이 좋다."
   ]
  },
  {
   "cell_type": "code",
   "execution_count": 90,
   "metadata": {},
   "outputs": [
    {
     "data": {
      "text/plain": [
       "<matplotlib.axes._subplots.AxesSubplot at 0x123e0f208>"
      ]
     },
     "execution_count": 90,
     "metadata": {},
     "output_type": "execute_result"
    },
    {
     "data": {
      "image/png": "[encoded data removed]",
      "text/plain": [
       "<Figure size 432x288 with 1 Axes>"
      ]
     },
     "metadata": {},
     "output_type": "display_data"
    }
   ],
   "source": [
    "sns.violinplot(x = \"species\", y = \"length\", data = fish_multi, color='gray')"
   ]
  },
  {
   "cell_type": "markdown",
   "metadata": {},
   "source": [
    "### 3.3.11 막대그래프\n",
    ": 상자그림과 비교하면 정보가 적다"
   ]
  },
  {
   "cell_type": "code",
   "execution_count": 92,
   "metadata": {},
   "outputs": [
    {
     "data": {
      "text/plain": [
       "<matplotlib.axes._subplots.AxesSubplot at 0x123e93898>"
      ]
     },
     "execution_count": 92,
     "metadata": {},
     "output_type": "execute_result"
    },
    {
     "data": {
      "image/png": "[encoded data removed]",
      "text/plain": [
       "<Figure size 432x288 with 1 Axes>"
      ]
     },
     "metadata": {},
     "output_type": "display_data"
    }
   ],
   "source": [
    "sns.barplot(x = \"species\", y = \"length\", data = fish_multi, color = \"gray\")"
   ]
  },
  {
   "cell_type": "markdown",
   "metadata": {},
   "source": [
    "### 3.3.12 산포도\n",
    ": 수치형 변수 * 수치형 변수"
   ]
  },
  {
   "cell_type": "code",
   "execution_count": 93,
   "metadata": {},
   "outputs": [
    {
     "name": "stdout",
     "output_type": "stream",
     "text": [
      "      x   y\n",
      "0  18.5  34\n",
      "1  18.7  39\n",
      "2  19.1  41\n",
      "3  19.7  38\n",
      "4  21.5  45\n",
      "5  21.7  41\n",
      "6  21.8  52\n",
      "7  22.0  44\n",
      "8  23.4  44\n",
      "9  23.8  49\n"
     ]
    }
   ],
   "source": [
    "cov_data = pd.read_csv(\"/Users/seuli/Desktop/개발자/통계학 source/sample/3-2-3-cov.csv\")\n",
    "print(cov_data)"
   ]
  },
  {
   "cell_type": "code",
   "execution_count": 94,
   "metadata": {},
   "outputs": [
    {
     "data": {
      "text/plain": [
       "<seaborn.axisgrid.JointGrid at 0x123ee6400>"
      ]
     },
     "execution_count": 94,
     "metadata": {},
     "output_type": "execute_result"
    },
    {
     "data": {
      "image/png": "[encoded data removed]",
      "text/plain": [
       "<Figure size 432x432 with 3 Axes>"
      ]
     },
     "metadata": {},
     "output_type": "display_data"
    }
   ],
   "source": [
    "sns.jointplot(x =\"x\", y = \"y\", data = cov_data, color=\"black\")"
   ]
  },
  {
   "cell_type": "markdown",
   "metadata": {},
   "source": [
    "### 3.3.13 페어플롯\n",
    ": 많은 양의 변수를 가지고 있는 데이터 대상"
   ]
  },
  {
   "cell_type": "code",
   "execution_count": 95,
   "metadata": {},
   "outputs": [
    {
     "data": {
      "text/html": [
       "<div>\n",
       "<style scoped>\n",
       "    .dataframe tbody tr th:only-of-type {\n",
       "        vertical-align: middle;\n",
       "    }\n",
       "\n",
       "    .dataframe tbody tr th {\n",
       "        vertical-align: top;\n",
       "    }\n",
       "\n",
       "    .dataframe thead th {\n",
       "        text-align: right;\n",
       "    }\n",
       "</style>\n",
       "<table border=\"1\" class=\"dataframe\">\n",
       "  <thead>\n",
       "    <tr style=\"text-align: right;\">\n",
       "      <th></th>\n",
       "      <th>sepal_length</th>\n",
       "      <th>sepal_width</th>\n",
       "      <th>petal_length</th>\n",
       "      <th>petal_width</th>\n",
       "      <th>species</th>\n",
       "    </tr>\n",
       "  </thead>\n",
       "  <tbody>\n",
       "    <tr>\n",
       "      <th>0</th>\n",
       "      <td>5.1</td>\n",
       "      <td>3.5</td>\n",
       "      <td>1.4</td>\n",
       "      <td>0.2</td>\n",
       "      <td>setosa</td>\n",
       "    </tr>\n",
       "    <tr>\n",
       "      <th>1</th>\n",
       "      <td>4.9</td>\n",
       "      <td>3.0</td>\n",
       "      <td>1.4</td>\n",
       "      <td>0.2</td>\n",
       "      <td>setosa</td>\n",
       "    </tr>\n",
       "    <tr>\n",
       "      <th>2</th>\n",
       "      <td>4.7</td>\n",
       "      <td>3.2</td>\n",
       "      <td>1.3</td>\n",
       "      <td>0.2</td>\n",
       "      <td>setosa</td>\n",
       "    </tr>\n",
       "  </tbody>\n",
       "</table>\n",
       "</div>"
      ],
      "text/plain": [
       "   sepal_length  sepal_width  petal_length  petal_width species\n",
       "0           5.1          3.5           1.4          0.2  setosa\n",
       "1           4.9          3.0           1.4          0.2  setosa\n",
       "2           4.7          3.2           1.3          0.2  setosa"
      ]
     },
     "execution_count": 95,
     "metadata": {},
     "output_type": "execute_result"
    }
   ],
   "source": [
    "iris = sns.load_dataset(\"iris\")\n",
    "iris.head(n=3)"
   ]
  },
  {
   "cell_type": "code",
   "execution_count": 97,
   "metadata": {},
   "outputs": [
    {
     "data": {
      "text/html": [
       "<div>\n",
       "<style scoped>\n",
       "    .dataframe tbody tr th:only-of-type {\n",
       "        vertical-align: middle;\n",
       "    }\n",
       "\n",
       "    .dataframe tbody tr th {\n",
       "        vertical-align: top;\n",
       "    }\n",
       "\n",
       "    .dataframe thead th {\n",
       "        text-align: right;\n",
       "    }\n",
       "</style>\n",
       "<table border=\"1\" class=\"dataframe\">\n",
       "  <thead>\n",
       "    <tr style=\"text-align: right;\">\n",
       "      <th></th>\n",
       "      <th>sepal_length</th>\n",
       "      <th>sepal_width</th>\n",
       "      <th>petal_length</th>\n",
       "      <th>petal_width</th>\n",
       "    </tr>\n",
       "    <tr>\n",
       "      <th>species</th>\n",
       "      <th></th>\n",
       "      <th></th>\n",
       "      <th></th>\n",
       "      <th></th>\n",
       "    </tr>\n",
       "  </thead>\n",
       "  <tbody>\n",
       "    <tr>\n",
       "      <th>setosa</th>\n",
       "      <td>5.006</td>\n",
       "      <td>3.428</td>\n",
       "      <td>1.462</td>\n",
       "      <td>0.246</td>\n",
       "    </tr>\n",
       "    <tr>\n",
       "      <th>versicolor</th>\n",
       "      <td>5.936</td>\n",
       "      <td>2.770</td>\n",
       "      <td>4.260</td>\n",
       "      <td>1.326</td>\n",
       "    </tr>\n",
       "    <tr>\n",
       "      <th>virginica</th>\n",
       "      <td>6.588</td>\n",
       "      <td>2.974</td>\n",
       "      <td>5.552</td>\n",
       "      <td>2.026</td>\n",
       "    </tr>\n",
       "  </tbody>\n",
       "</table>\n",
       "</div>"
      ],
      "text/plain": [
       "            sepal_length  sepal_width  petal_length  petal_width\n",
       "species                                                         \n",
       "setosa             5.006        3.428         1.462        0.246\n",
       "versicolor         5.936        2.770         4.260        1.326\n",
       "virginica          6.588        2.974         5.552        2.026"
      ]
     },
     "execution_count": 97,
     "metadata": {},
     "output_type": "execute_result"
    }
   ],
   "source": [
    "iris.groupby(\"species\").mean()"
   ]
  },
  {
   "cell_type": "code",
   "execution_count": 98,
   "metadata": {
    "scrolled": true
   },
   "outputs": [
    {
     "data": {
      "text/plain": [
       "<seaborn.axisgrid.PairGrid at 0x123fb61d0>"
      ]
     },
     "execution_count": 98,
     "metadata": {},
     "output_type": "execute_result"
    },
    {
     "data": {
      "image/png": "[encoded data removed]",
      "text/plain": [
       "<Figure size 806.85x720 with 20 Axes>"
      ]
     },
     "metadata": {},
     "output_type": "display_data"
    }
   ],
   "source": [
    "sns.pairplot(iris, hue = \"species\", palette = \"gray\")"
   ]
  },
  {
   "cell_type": "markdown",
   "metadata": {},
   "source": [
    "## 3.4 모집단에서 표본 추출 시뮬레이션"
   ]
  },
  {
   "cell_type": "markdown",
   "metadata": {},
   "source": [
    "### 3.4.1 라이브러리 임포트"
   ]
  },
  {
   "cell_type": "code",
   "execution_count": 100,
   "metadata": {},
   "outputs": [],
   "source": [
    "# 수치 계산에 사용하는 라이브러리\n",
    "import numpy as np\n",
    "import pandas as pd\n",
    "import scipy as sp\n",
    "from scipy import stats\n",
    "\n",
    "# 그래프를 그리기 위한 라이브러리\n",
    "from matplotlib import pyplot as plt\n",
    "import seaborn as sns\n",
    "sns.set()\n",
    "\n",
    "# 표시 자릿수 지정\n",
    "%precision 3\n",
    "\n",
    "# 그래프를 주피터 노트북에 그리기 위한 설정\n",
    "%matplotlib inline"
   ]
  },
  {
   "cell_type": "markdown",
   "metadata": {},
   "source": [
    "### 3.4.2 표본을 얻는 프로세스"
   ]
  },
  {
   "cell_type": "markdown",
   "metadata": {},
   "source": [
    "표본은 확률변수. 즉, 확률적으로 변화하는 값"
   ]
  },
  {
   "cell_type": "markdown",
   "metadata": {},
   "source": [
    "### 3.4.3. 5마리 물고기의 예"
   ]
  },
  {
   "cell_type": "code",
   "execution_count": 101,
   "metadata": {},
   "outputs": [
    {
     "data": {
      "text/plain": [
       "array([2, 3, 4, 5, 6])"
      ]
     },
     "execution_count": 101,
     "metadata": {},
     "output_type": "execute_result"
    }
   ],
   "source": [
    "fish_5 = np.array([2,3,4,5,6])\n",
    "fish_5"
   ]
  },
  {
   "cell_type": "code",
   "execution_count": 103,
   "metadata": {},
   "outputs": [
    {
     "data": {
      "text/plain": [
       "array([5])"
      ]
     },
     "execution_count": 103,
     "metadata": {},
     "output_type": "execute_result"
    }
   ],
   "source": [
    "# 랜덤으로 고르고 싶을때 : np.random.choice\n",
    "    # replace = False : 같은 물고기 2번이상 선택 X\n",
    "np.random.choice(fish_5, size = 1, replace = False)"
   ]
  },
  {
   "cell_type": "code",
   "execution_count": 104,
   "metadata": {},
   "outputs": [
    {
     "data": {
      "text/plain": [
       "array([6, 5, 4])"
      ]
     },
     "execution_count": 104,
     "metadata": {},
     "output_type": "execute_result"
    }
   ],
   "source": [
    "np.random.choice(fish_5, size = 3, replace=False)"
   ]
  },
  {
   "cell_type": "code",
   "execution_count": 105,
   "metadata": {},
   "outputs": [
    {
     "data": {
      "text/plain": [
       "array([3, 4, 5])"
      ]
     },
     "execution_count": 105,
     "metadata": {},
     "output_type": "execute_result"
    }
   ],
   "source": [
    "np.random.choice(fish_5, size = 3, replace=False)"
   ]
  },
  {
   "cell_type": "code",
   "execution_count": 106,
   "metadata": {},
   "outputs": [
    {
     "data": {
      "text/plain": [
       "array([4, 3, 6])"
      ]
     },
     "execution_count": 106,
     "metadata": {},
     "output_type": "execute_result"
    }
   ],
   "source": [
    "# np.random.seed(난수시드) : 매번 같은 데이터가 랜덤하게 선택됨.\n",
    "# 인수로 넘기는 값은 아무거나 괜찮다. 인수로 같은 값을 지정하면 같은 결과가 나옴\n",
    "np.random.seed(1)\n",
    "np.random.choice(fish_5, size = 3, replace = False)"
   ]
  },
  {
   "cell_type": "code",
   "execution_count": 107,
   "metadata": {},
   "outputs": [
    {
     "data": {
      "text/plain": [
       "array([4, 3, 6])"
      ]
     },
     "execution_count": 107,
     "metadata": {},
     "output_type": "execute_result"
    }
   ],
   "source": [
    "np.random.seed(1)\n",
    "np.random.choice(fish_5, size = 3, replace = False)"
   ]
  },
  {
   "cell_type": "code",
   "execution_count": 108,
   "metadata": {},
   "outputs": [
    {
     "data": {
      "text/plain": [
       "4.333333333333333"
      ]
     },
     "execution_count": 108,
     "metadata": {},
     "output_type": "execute_result"
    }
   ],
   "source": [
    "# 골라낸 표본의 평균값 계산 -> 표본평균\n",
    "np.random.seed(1)\n",
    "sp.mean(\n",
    "    np.random.choice(fish_5, size=3, replace=False)\n",
    ")"
   ]
  },
  {
   "cell_type": "markdown",
   "metadata": {},
   "source": [
    "### 3.4.4 난수\n",
    ": 랜덤으로 골라낸 값. 분야에 따라 확률변수와 거의 같은 의미이다."
   ]
  },
  {
   "cell_type": "markdown",
   "metadata": {},
   "source": [
    "### 3.4.5 복원추출과 비복원 추출\n",
    "*복원추출 : 추출된 표본을 다시 모집단에 되돌려놓음으로써 다시 추출될 수 있게 하는 샘플링 방법\n",
    "\n",
    "*비복원추출 : 추출된 표본을 모집단에 다시 돌려 놓지 않는다(replace=False)"
   ]
  },
  {
   "cell_type": "markdown",
   "metadata": {},
   "source": [
    "### 3.4.6  더 많은 물고기가 있는 호수에서 표본추출"
   ]
  },
  {
   "cell_type": "code",
   "execution_count": 109,
   "metadata": {},
   "outputs": [
    {
     "data": {
      "text/html": [
       "<div>\n",
       "<style scoped>\n",
       "    .dataframe tbody tr th:only-of-type {\n",
       "        vertical-align: middle;\n",
       "    }\n",
       "\n",
       "    .dataframe tbody tr th {\n",
       "        vertical-align: top;\n",
       "    }\n",
       "\n",
       "    .dataframe thead th {\n",
       "        text-align: right;\n",
       "    }\n",
       "</style>\n",
       "<table border=\"1\" class=\"dataframe\">\n",
       "  <thead>\n",
       "    <tr style=\"text-align: right;\">\n",
       "      <th></th>\n",
       "      <th>length</th>\n",
       "    </tr>\n",
       "  </thead>\n",
       "  <tbody>\n",
       "    <tr>\n",
       "      <th>0</th>\n",
       "      <td>5.297442</td>\n",
       "    </tr>\n",
       "    <tr>\n",
       "      <th>1</th>\n",
       "      <td>3.505566</td>\n",
       "    </tr>\n",
       "    <tr>\n",
       "      <th>2</th>\n",
       "      <td>3.572546</td>\n",
       "    </tr>\n",
       "    <tr>\n",
       "      <th>3</th>\n",
       "      <td>3.135979</td>\n",
       "    </tr>\n",
       "    <tr>\n",
       "      <th>4</th>\n",
       "      <td>4.689275</td>\n",
       "    </tr>\n",
       "  </tbody>\n",
       "</table>\n",
       "</div>"
      ],
      "text/plain": [
       "     length\n",
       "0  5.297442\n",
       "1  3.505566\n",
       "2  3.572546\n",
       "3  3.135979\n",
       "4  4.689275"
      ]
     },
     "execution_count": 109,
     "metadata": {},
     "output_type": "execute_result"
    }
   ],
   "source": [
    "fish_10000 = pd.read_csv(\"/Users/seuli/Desktop/개발자/통계학 source/sample/3-4-1-fish_length_100000.csv\")\n",
    "fish_10000.head()"
   ]
  },
  {
   "cell_type": "code",
   "execution_count": 110,
   "metadata": {},
   "outputs": [
    {
     "data": {
      "text/plain": [
       "100000"
      ]
     },
     "execution_count": 110,
     "metadata": {},
     "output_type": "execute_result"
    }
   ],
   "source": [
    "len(fish_10000)"
   ]
  },
  {
   "cell_type": "code",
   "execution_count": 115,
   "metadata": {},
   "outputs": [
    {
     "ename": "ValueError",
     "evalue": "'a' must be 1-dimensional",
     "output_type": "error",
     "traceback": [
      "\u001b[0;31m---------------------------------------------------------------------------\u001b[0m",
      "\u001b[0;31mValueError\u001b[0m                                Traceback (most recent call last)",
      "\u001b[0;32m<ipython-input-115-fd7ce16df931>\u001b[0m in \u001b[0;36m<module>\u001b[0;34m\u001b[0m\n\u001b[1;32m      1\u001b[0m \u001b[0;31m# 표본 추출하기(10마리 샘플링)\u001b[0m\u001b[0;34m\u001b[0m\u001b[0;34m\u001b[0m\u001b[0;34m\u001b[0m\u001b[0m\n\u001b[0;32m----> 2\u001b[0;31m \u001b[0msampling_result\u001b[0m \u001b[0;34m=\u001b[0m \u001b[0mnp\u001b[0m\u001b[0;34m.\u001b[0m\u001b[0mrandom\u001b[0m\u001b[0;34m.\u001b[0m\u001b[0mchoice\u001b[0m\u001b[0;34m(\u001b[0m\u001b[0mfish_10000\u001b[0m\u001b[0;34m,\u001b[0m \u001b[0msize\u001b[0m\u001b[0;34m=\u001b[0m\u001b[0;36m10\u001b[0m\u001b[0;34m,\u001b[0m \u001b[0mreplace\u001b[0m \u001b[0;34m=\u001b[0m \u001b[0;32mFalse\u001b[0m\u001b[0;34m)\u001b[0m\u001b[0;34m\u001b[0m\u001b[0;34m\u001b[0m\u001b[0m\n\u001b[0m\u001b[1;32m      3\u001b[0m \u001b[0msampling_result\u001b[0m\u001b[0;34m\u001b[0m\u001b[0;34m\u001b[0m\u001b[0m\n",
      "\u001b[0;32mmtrand.pyx\u001b[0m in \u001b[0;36mmtrand.RandomState.choice\u001b[0;34m()\u001b[0m\n",
      "\u001b[0;31mValueError\u001b[0m: 'a' must be 1-dimensional"
     ]
    }
   ],
   "source": [
    "# 표본 추출하기(10마리 샘플링)\n",
    "sampling_result = np.random.choice(fish_10000, size=10, replace = False)\n",
    "sampling_result"
   ]
  },
  {
   "cell_type": "code",
   "execution_count": 114,
   "metadata": {},
   "outputs": [
    {
     "ename": "NameError",
     "evalue": "name 'sampling_result' is not defined",
     "output_type": "error",
     "traceback": [
      "\u001b[0;31m---------------------------------------------------------------------------\u001b[0m",
      "\u001b[0;31mNameError\u001b[0m                                 Traceback (most recent call last)",
      "\u001b[0;32m<ipython-input-114-0c2ffd94e3d4>\u001b[0m in \u001b[0;36m<module>\u001b[0;34m\u001b[0m\n\u001b[1;32m      1\u001b[0m \u001b[0;31m# 표본평균 계산\u001b[0m\u001b[0;34m\u001b[0m\u001b[0;34m\u001b[0m\u001b[0;34m\u001b[0m\u001b[0m\n\u001b[0;32m----> 2\u001b[0;31m \u001b[0msp\u001b[0m\u001b[0;34m.\u001b[0m\u001b[0mmean\u001b[0m\u001b[0;34m(\u001b[0m\u001b[0msampling_result\u001b[0m\u001b[0;34m)\u001b[0m\u001b[0;34m\u001b[0m\u001b[0;34m\u001b[0m\u001b[0m\n\u001b[0m",
      "\u001b[0;31mNameError\u001b[0m: name 'sampling_result' is not defined"
     ]
    }
   ],
   "source": [
    "# 표본평균 계산\n",
    "sp.mean(sampling_result)"
   ]
  },
  {
   "cell_type": "markdown",
   "metadata": {},
   "source": [
    "### 3.4.7 모집단 분포"
   ]
  },
  {
   "cell_type": "code",
   "execution_count": null,
   "metadata": {},
   "outputs": [],
   "source": [
    "# 모집단의 평균값, 즉 모평균 구하기\n",
    "sp.mean(fish_10000)"
   ]
  },
  {
   "cell_type": "code",
   "execution_count": null,
   "metadata": {},
   "outputs": [],
   "source": [
    "# 모표준편차 구하기\n",
    "sp.std(fish_10000, ddof=0)"
   ]
  },
  {
   "cell_type": "code",
   "execution_count": null,
   "metadata": {},
   "outputs": [],
   "source": [
    "# 모분산 구하기\n",
    "sp.var(fish_10000, ddof=0)"
   ]
  },
  {
   "cell_type": "code",
   "execution_count": null,
   "metadata": {},
   "outputs": [],
   "source": [
    "# 모집단 히스토그램 그리기\n",
    "sns.distplot(fish_10000, kde=False, color='black')"
   ]
  },
  {
   "cell_type": "markdown",
   "metadata": {},
   "source": [
    "### 3.4.8 모집단분포와 정규분포 간 확률밀도함수 비교"
   ]
  },
  {
   "cell_type": "code",
   "execution_count": 117,
   "metadata": {},
   "outputs": [
    {
     "data": {
      "text/plain": [
       "array([1. , 1.1, 1.2, 1.3, 1.4, 1.5, 1.6, 1.7, 1.8, 1.9, 2. , 2.1, 2.2,\n",
       "       2.3, 2.4, 2.5, 2.6, 2.7, 2.8, 2.9, 3. , 3.1, 3.2, 3.3, 3.4, 3.5,\n",
       "       3.6, 3.7, 3.8, 3.9, 4. , 4.1, 4.2, 4.3, 4.4, 4.5, 4.6, 4.7, 4.8,\n",
       "       4.9, 5. , 5.1, 5.2, 5.3, 5.4, 5.5, 5.6, 5.7, 5.8, 5.9, 6. , 6.1,\n",
       "       6.2, 6.3, 6.4, 6.5, 6.6, 6.7, 6.8, 6.9, 7. ])"
      ]
     },
     "execution_count": 117,
     "metadata": {},
     "output_type": "execute_result"
    }
   ],
   "source": [
    "# 평균 4, 분산 0.64인 ㅈㅇ규분포의 확률밀도를 1~7의 범위에서 표시\n",
    "x = np.arange(start = 1, stop = 7.1, step=0.1)\n",
    "x"
   ]
  },
  {
   "cell_type": "code",
   "execution_count": 118,
   "metadata": {},
   "outputs": [
    {
     "data": {
      "text/plain": [
       "array([4.407e-04, 6.988e-04, 1.091e-03, 1.676e-03, 2.536e-03, 3.778e-03,\n",
       "       5.540e-03, 7.998e-03, 1.137e-02, 1.591e-02, 2.191e-02, 2.971e-02,\n",
       "       3.967e-02, 5.215e-02, 6.749e-02, 8.598e-02, 1.078e-01, 1.332e-01,\n",
       "       1.619e-01, 1.938e-01, 2.283e-01, 2.648e-01, 3.025e-01, 3.401e-01,\n",
       "       3.764e-01, 4.102e-01, 4.401e-01, 4.648e-01, 4.833e-01, 4.948e-01,\n",
       "       4.987e-01, 4.948e-01, 4.833e-01, 4.648e-01, 4.401e-01, 4.102e-01,\n",
       "       3.764e-01, 3.401e-01, 3.025e-01, 2.648e-01, 2.283e-01, 1.938e-01,\n",
       "       1.619e-01, 1.332e-01, 1.078e-01, 8.598e-02, 6.749e-02, 5.215e-02,\n",
       "       3.967e-02, 2.971e-02, 2.191e-02, 1.591e-02, 1.137e-02, 7.998e-03,\n",
       "       5.540e-03, 3.778e-03, 2.536e-03, 1.676e-03, 1.091e-03, 6.988e-04,\n",
       "       4.407e-04])"
      ]
     },
     "execution_count": 118,
     "metadata": {},
     "output_type": "execute_result"
    }
   ],
   "source": [
    "# stats.norm.pdf : 확률밀도 계산.\n",
    "# loc 평균값이고 scale : 표준편차\n",
    "stats.norm.pdf(x = x, loc=4, scale = 0.8)"
   ]
  },
  {
   "cell_type": "code",
   "execution_count": 119,
   "metadata": {},
   "outputs": [
    {
     "data": {
      "text/plain": [
       "[<matplotlib.lines.Line2D at 0x124f41ba8>]"
      ]
     },
     "execution_count": 119,
     "metadata": {},
     "output_type": "execute_result"
    },
    {
     "data": {
      "image/png": "[encoded data removed]",
      "text/plain": [
       "<Figure size 432x288 with 1 Axes>"
      ]
     },
     "metadata": {
      "needs_background": "light"
     },
     "output_type": "display_data"
    }
   ],
   "source": [
    "# 확률밀도 그래프 그리기\n",
    "plt.plot(x, stats.norm.pdf(x=x, loc=4, scale=0.8),\n",
    "        color = 'black')"
   ]
  },
  {
   "cell_type": "code",
   "execution_count": 121,
   "metadata": {},
   "outputs": [
    {
     "data": {
      "text/plain": [
       "[<matplotlib.lines.Line2D at 0x124f941d0>]"
      ]
     },
     "execution_count": 121,
     "metadata": {},
     "output_type": "execute_result"
    },
    {
     "data": {
      "image/png": "[encoded data removed]",
      "text/plain": [
       "<Figure size 432x288 with 1 Axes>"
      ]
     },
     "metadata": {
      "needs_background": "light"
     },
     "output_type": "display_data"
    }
   ],
   "source": [
    "# 모집단의 히스토그램 그래프 겹쳐 그리기\n",
    "sns.distplot(fish_10000, kde=False, norm_hist=True, color='black')\n",
    "plt.plot(x, stats.norm.pdf(x=x, loc=4, scale=0.8),\n",
    "        color = 'black')"
   ]
  },
  {
   "cell_type": "markdown",
   "metadata": {},
   "source": [
    "### 3.4.9 표본을 얻는 절차의 추상화"
   ]
  },
  {
   "cell_type": "code",
   "execution_count": 122,
   "metadata": {},
   "outputs": [
    {
     "data": {
      "text/plain": [
       "array([3.56 , 2.878, 5.266, 3.164, 4.206, 2.432, 2.794, 3.748, 4.687,\n",
       "       4.057])"
      ]
     },
     "execution_count": 122,
     "metadata": {},
     "output_type": "execute_result"
    }
   ],
   "source": [
    "# stats.norm.rvs : 시작부터 정규분호를 따르는 난수 생성함수\n",
    "sampling_norm = stats.norm.rvs(loc = 4, scale=0.8, size=10)\n",
    "sampling_norm"
   ]
  },
  {
   "cell_type": "code",
   "execution_count": 123,
   "metadata": {},
   "outputs": [
    {
     "data": {
      "text/plain": [
       "3.6791686098022693"
      ]
     },
     "execution_count": 123,
     "metadata": {},
     "output_type": "execute_result"
    }
   ],
   "source": [
    "# 표본평균\n",
    "sp.mean(sampling_norm)"
   ]
  },
  {
   "cell_type": "markdown",
   "metadata": {},
   "source": [
    "## 3.5 표본 통계량 성질"
   ]
  },
  {
   "cell_type": "markdown",
   "metadata": {},
   "source": [
    "### 3.5.1 시행\n",
    ": 1회의 조사를 수행한 것\n",
    "* 시행횟수 : 몇 번이고 시행을 반복하는게 가능한 경우, 반복한 횟수"
   ]
  },
  {
   "cell_type": "markdown",
   "metadata": {},
   "source": [
    "### 3.5.2 표본분포\n",
    ": 표본의 통계량을 따르는 확률분포"
   ]
  },
  {
   "cell_type": "markdown",
   "metadata": {},
   "source": [
    "### 3.5.3 라이브러리 임포트"
   ]
  },
  {
   "cell_type": "code",
   "execution_count": 124,
   "metadata": {},
   "outputs": [],
   "source": [
    "# 수치 계산에 사용하는 라이브러리\n",
    "import numpy as np\n",
    "import pandas as pd\n",
    "import scipy as sp\n",
    "from scipy import stats\n",
    "\n",
    "# 그래프를 그리기 위한 라이브러리\n",
    "from matplotlib import pyplot as plt\n",
    "import seaborn as sns\n",
    "sns.set()\n",
    "\n",
    "# 표시 자릿수 지정\n",
    "%precision 3\n",
    "\n",
    "# 그래프를 주피터 노트북에 그리기 위한 설정\n",
    "%matplotlib inline"
   ]
  },
  {
   "cell_type": "code",
   "execution_count": 125,
   "metadata": {},
   "outputs": [],
   "source": [
    "# 시뮬레이션 준비\n",
    "population = stats.norm(loc=4, scale=0.8)"
   ]
  },
  {
   "cell_type": "markdown",
   "metadata": {},
   "source": [
    "### 3.5.4 표본평균을 여러번 계산하기"
   ]
  },
  {
   "cell_type": "code",
   "execution_count": 126,
   "metadata": {},
   "outputs": [],
   "source": [
    "sample_mean_array = np.zeros(10000)"
   ]
  },
  {
   "cell_type": "code",
   "execution_count": 127,
   "metadata": {},
   "outputs": [],
   "source": [
    "# 배열에 10000개 표본평균 저장\n",
    "np.random.seed(1)\n",
    "for i in range(0, 10000) :\n",
    "    sample = population.rvs(size = 10)\n",
    "    sample_mean_array[i] = sp.mean(sample)"
   ]
  },
  {
   "cell_type": "code",
   "execution_count": 128,
   "metadata": {},
   "outputs": [
    {
     "data": {
      "text/plain": [
       "array([3.922, 3.864, 4.07 , ..., 4.136, 4.575, 4.099])"
      ]
     },
     "execution_count": 128,
     "metadata": {},
     "output_type": "execute_result"
    }
   ],
   "source": [
    "# 표본평균\n",
    "sample_mean_array"
   ]
  },
  {
   "cell_type": "markdown",
   "metadata": {},
   "source": [
    "### 3.5.5 표본평균의 평균값은 모평균에 가깝다"
   ]
  },
  {
   "cell_type": "code",
   "execution_count": 129,
   "metadata": {},
   "outputs": [
    {
     "data": {
      "text/plain": [
       "4.004202422791747"
      ]
     },
     "execution_count": 129,
     "metadata": {},
     "output_type": "execute_result"
    }
   ],
   "source": [
    "sp.mean(sample_mean_array)"
   ]
  },
  {
   "cell_type": "code",
   "execution_count": 130,
   "metadata": {},
   "outputs": [
    {
     "data": {
      "text/plain": [
       "0.2513580850860402"
      ]
     },
     "execution_count": 130,
     "metadata": {},
     "output_type": "execute_result"
    }
   ],
   "source": [
    "sp.std(sample_mean_array, ddof=1)"
   ]
  },
  {
   "cell_type": "code",
   "execution_count": 131,
   "metadata": {},
   "outputs": [
    {
     "data": {
      "text/plain": [
       "<matplotlib.axes._subplots.AxesSubplot at 0x124fe0cf8>"
      ]
     },
     "execution_count": 131,
     "metadata": {},
     "output_type": "execute_result"
    },
    {
     "data": {
      "image/png": "[encoded data removed]",
      "text/plain": [
       "<Figure size 432x288 with 1 Axes>"
      ]
     },
     "metadata": {
      "needs_background": "light"
     },
     "output_type": "display_data"
    }
   ],
   "source": [
    "sns.distplot(sample_mean_array, color = 'black')"
   ]
  },
  {
   "cell_type": "markdown",
   "metadata": {},
   "source": [
    "### 3.5.6 샘플사이즈가 크면 표본평균은 모평균에 가까워진다."
   ]
  },
  {
   "cell_type": "markdown",
   "metadata": {},
   "source": [
    "* 대상 : 표본평균\n",
    "* 변화시키는 것 : 샘플사이즈\n",
    "* 알고싶은 것 : 샘플사이즈가 커질수록 표본평균은 모평균에 가까워지는가 ?"
   ]
  },
  {
   "cell_type": "code",
   "execution_count": 132,
   "metadata": {},
   "outputs": [],
   "source": [
    "# 이 항목을 살펴보는 것에 중점을 두고 시뮬레이션"
   ]
  },
  {
   "cell_type": "code",
   "execution_count": 133,
   "metadata": {},
   "outputs": [
    {
     "data": {
      "text/plain": [
       "array([    10,    110,    210, ...,  99810,  99910, 100010])"
      ]
     },
     "execution_count": 133,
     "metadata": {},
     "output_type": "execute_result"
    }
   ],
   "source": [
    "size_array = np.arange(start = 10, stop=100100, step=100)\n",
    "size_array"
   ]
  },
  {
   "cell_type": "code",
   "execution_count": 136,
   "metadata": {},
   "outputs": [],
   "source": [
    "# 표본평균을 저장할 변수 준비\n",
    "sample_mean_array_size = np.zeros(len(size_array))"
   ]
  },
  {
   "cell_type": "code",
   "execution_count": 137,
   "metadata": {},
   "outputs": [],
   "source": [
    "np.random.seed(1)\n",
    "for i in range(0, len(size_array)) :\n",
    "    sample = population.rvs(size = size_array[i])\n",
    "    sample_mean_array_size[i] = sp.mean(sample)"
   ]
  },
  {
   "cell_type": "code",
   "execution_count": 138,
   "metadata": {},
   "outputs": [
    {
     "data": {
      "text/plain": [
       "Text(0, 0.5, 'sample mean')"
      ]
     },
     "execution_count": 138,
     "metadata": {},
     "output_type": "execute_result"
    },
    {
     "data": {
      "image/png": "[encoded data removed]",
      "text/plain": [
       "<Figure size 432x288 with 1 Axes>"
      ]
     },
     "metadata": {
      "needs_background": "light"
     },
     "output_type": "display_data"
    }
   ],
   "source": [
    "# 가로축이 샘플사이즈, 세로축인 표본평균인 그래프\n",
    "plt.plot(size_array, sample_mean_array_size, color='black')\n",
    "plt.xlabel(\"sample size\")\n",
    "plt.ylabel(\"sample mean\")"
   ]
  },
  {
   "cell_type": "markdown",
   "metadata": {},
   "source": [
    "### 3.5.7 표본평균을 몇 번이고 계산하는 함수 만들기"
   ]
  },
  {
   "cell_type": "code",
   "execution_count": 139,
   "metadata": {},
   "outputs": [],
   "source": [
    "def calc_sample_mean(size, n_trial) :\n",
    "    sample_mean_array = np.zeros(n_trial)\n",
    "    for i in range(0, n_trial):\n",
    "        sample = population.rvs(size = size)\n",
    "        sample_mean_array[i] = sp.mean(sample)\n",
    "    return(sample_mean_array)"
   ]
  },
  {
   "cell_type": "code",
   "execution_count": 140,
   "metadata": {},
   "outputs": [
    {
     "data": {
      "text/plain": [
       "4.004202422791747"
      ]
     },
     "execution_count": 140,
     "metadata": {},
     "output_type": "execute_result"
    }
   ],
   "source": [
    "np.random.seed(1)\n",
    "sp.mean(calc_sample_mean(size=10, n_trial=10000))"
   ]
  },
  {
   "cell_type": "markdown",
   "metadata": {},
   "source": [
    "### 3.5.8 샘플사이즈를 바꿨을 때 표본평균의 분산"
   ]
  },
  {
   "cell_type": "code",
   "execution_count": 143,
   "metadata": {},
   "outputs": [
    {
     "name": "stdout",
     "output_type": "stream",
     "text": [
      "   sample_mean     size\n",
      "0     3.922287  size 10\n",
      "1     3.864329  size 10\n",
      "2     4.069530  size 10\n",
      "3     3.857140  size 10\n",
      "4     4.184654  size 10\n"
     ]
    }
   ],
   "source": [
    "# 바이올린플룻을 이용하여 확인하기\n",
    "np.random.seed(1)\n",
    "# 샘플사이즈 10\n",
    "size_10 = calc_sample_mean(size=10, n_trial=10000)\n",
    "size_10_df = pd.DataFrame({\n",
    "    \"sample_mean\" : size_10,\n",
    "    \"size\" : np.tile(\"size 10\", 10000)\n",
    "})\n",
    "\n",
    "# 샘플사이즈 20\n",
    "size_20 = calc_sample_mean(size=20, n_trial=10000)\n",
    "size_20_df = pd.DataFrame({\n",
    "    \"sample_mean\" : size_20,\n",
    "    \"size\" : np.tile(\"size 20\", 10000)\n",
    "})\n",
    "\n",
    "# 샘플사이즈 30\n",
    "size_30 = calc_sample_mean(size=30, n_trial=10000)\n",
    "size_30_df = pd.DataFrame({\n",
    "    \"sample_mean\" : size_30,\n",
    "    \"size\" : np.tile(\"size 30\", 10000)\n",
    "})\n",
    "\n",
    "# 종합\n",
    "sim_result = pd.concat([size_10_df, size_20_df, size_30_df])\n",
    "\n",
    "# 결과표시 \n",
    "print(sim_result.head())"
   ]
  },
  {
   "cell_type": "code",
   "execution_count": 144,
   "metadata": {},
   "outputs": [
    {
     "data": {
      "text/plain": [
       "<matplotlib.axes._subplots.AxesSubplot at 0x12506c0f0>"
      ]
     },
     "execution_count": 144,
     "metadata": {},
     "output_type": "execute_result"
    },
    {
     "data": {
      "image/png": "[encoded data removed]",
      "text/plain": [
       "<Figure size 432x288 with 1 Axes>"
      ]
     },
     "metadata": {
      "needs_background": "light"
     },
     "output_type": "display_data"
    }
   ],
   "source": [
    "sns.violinplot(x= \"size\", y=\"sample_mean\", data = sim_result, color='gray')"
   ]
  },
  {
   "cell_type": "markdown",
   "metadata": {},
   "source": [
    "### 3.5.9 표본평균의 표준편차는 모집단보다 작다"
   ]
  },
  {
   "cell_type": "markdown",
   "metadata": {},
   "source": [
    "* 대상 : 표본평균의 표준편차\n",
    "* 변화시키는 것 : 샘플사이즈\n",
    "* 알고 싶은 것 : 샘플사이즈가 커질수록 표본평균의 표준편차는 작아진다 -> 샘플사이즈가 커지면 표본평균은 보다 신뢰할 수 있는값이 된다."
   ]
  },
  {
   "cell_type": "code",
   "execution_count": 147,
   "metadata": {},
   "outputs": [
    {
     "data": {
      "text/plain": [
       "array([  2,   4,   6,   8,  10,  12,  14,  16,  18,  20,  22,  24,  26,\n",
       "        28,  30,  32,  34,  36,  38,  40,  42,  44,  46,  48,  50,  52,\n",
       "        54,  56,  58,  60,  62,  64,  66,  68,  70,  72,  74,  76,  78,\n",
       "        80,  82,  84,  86,  88,  90,  92,  94,  96,  98, 100])"
      ]
     },
     "execution_count": 147,
     "metadata": {},
     "output_type": "execute_result"
    }
   ],
   "source": [
    "# 샘플사이즈 준비\n",
    "size_array = np.arange(start = 2, stop= 102, step=2)\n",
    "size_array"
   ]
  },
  {
   "cell_type": "code",
   "execution_count": 148,
   "metadata": {},
   "outputs": [],
   "source": [
    "# 변수준비\n",
    "sample_mean_std_array = np.zeros(len(size_array))"
   ]
  },
  {
   "cell_type": "code",
   "execution_count": 149,
   "metadata": {},
   "outputs": [],
   "source": [
    "np.random.seed(1)\n",
    "for i in range(0, len(size_array)) :\n",
    "    sample_mean = calc_sample_mean(size = size_array[i], n_trial = 100)\n",
    "    sample_mean_std_array[i] = sp.std(sample_mean, ddof=1)"
   ]
  },
  {
   "cell_type": "code",
   "execution_count": 150,
   "metadata": {},
   "outputs": [
    {
     "data": {
      "text/plain": [
       "Text(0, 0.5, 'mean_std value')"
      ]
     },
     "execution_count": 150,
     "metadata": {},
     "output_type": "execute_result"
    },
    {
     "data": {
      "image/png": "[encoded data removed]",
      "text/plain": [
       "<Figure size 432x288 with 1 Axes>"
      ]
     },
     "metadata": {
      "needs_background": "light"
     },
     "output_type": "display_data"
    }
   ],
   "source": [
    "# 꺾은선 그래프 그리기\n",
    "plt.plot(size_array, sample_mean_std_array, color='black')\n",
    "plt.xlabel(\"sample size\")\n",
    "plt.ylabel(\"mean_std value\")"
   ]
  },
  {
   "cell_type": "markdown",
   "metadata": {},
   "source": [
    "### 3.5.10 표준오차"
   ]
  },
  {
   "cell_type": "markdown",
   "metadata": {},
   "source": [
    "표본평균의 표준편차 크기는 수식을 사용해서 계산할 수 있다. 이를 표준오차라 한다.(SE)\n",
    "\n",
    "샘플사이즈가 커지면 표준오차는 작아진다"
   ]
  },
  {
   "cell_type": "code",
   "execution_count": 151,
   "metadata": {},
   "outputs": [
    {
     "data": {
      "text/plain": [
       "array([0.566, 0.4  , 0.327, 0.283, 0.253, 0.231, 0.214, 0.2  , 0.189,\n",
       "       0.179, 0.171, 0.163, 0.157, 0.151, 0.146, 0.141, 0.137, 0.133,\n",
       "       0.13 , 0.126, 0.123, 0.121, 0.118, 0.115, 0.113, 0.111, 0.109,\n",
       "       0.107, 0.105, 0.103, 0.102, 0.1  , 0.098, 0.097, 0.096, 0.094,\n",
       "       0.093, 0.092, 0.091, 0.089, 0.088, 0.087, 0.086, 0.085, 0.084,\n",
       "       0.083, 0.083, 0.082, 0.081, 0.08 ])"
      ]
     },
     "execution_count": 151,
     "metadata": {},
     "output_type": "execute_result"
    }
   ],
   "source": [
    "standard_error = 0.8/np.sqrt(size_array)\n",
    "standard_error"
   ]
  },
  {
   "cell_type": "code",
   "execution_count": 152,
   "metadata": {},
   "outputs": [
    {
     "data": {
      "text/plain": [
       "Text(0, 0.5, 'mean_std value')"
      ]
     },
     "execution_count": 152,
     "metadata": {},
     "output_type": "execute_result"
    },
    {
     "data": {
      "image/png": "[encoded data removed]",
      "text/plain": [
       "<Figure size 432x288 with 1 Axes>"
      ]
     },
     "metadata": {
      "needs_background": "light"
     },
     "output_type": "display_data"
    }
   ],
   "source": [
    "# 표준편차와 시뮬레이션 결과를 하나의 그래프에 겹쳐 그리기\n",
    "plt.plot(size_array, sample_mean_std_array, color='black')\n",
    "plt.plot(size_array, standard_error, color='black', linestyle='dotted')\n",
    "plt.xlabel(\"sample size\")\n",
    "plt.ylabel(\"mean_std value\")"
   ]
  },
  {
   "cell_type": "markdown",
   "metadata": {},
   "source": [
    "### 3.5.12  표본분산의 평균값은 모분산과 차이가 있다"
   ]
  },
  {
   "cell_type": "code",
   "execution_count": 154,
   "metadata": {},
   "outputs": [],
   "source": [
    "sample_var_array = np.zeros(10000)"
   ]
  },
  {
   "cell_type": "code",
   "execution_count": 155,
   "metadata": {},
   "outputs": [],
   "source": [
    "# 데이터를 10개 골라서 표본분산 구하는 시행 10000번 반복\n",
    "np.random.seed(1)\n",
    "for i in range(0,10000) :\n",
    "    sample = population.rvs(size = 10)\n",
    "    sample_var_array[i] = sp.var(sample, ddof=0)"
   ]
  },
  {
   "cell_type": "code",
   "execution_count": 157,
   "metadata": {},
   "outputs": [
    {
     "data": {
      "text/plain": [
       "0.5746886877332101"
      ]
     },
     "execution_count": 157,
     "metadata": {},
     "output_type": "execute_result"
    }
   ],
   "source": [
    "# 표본분산의 평균값\n",
    "sp.mean(sample_var_array)\n",
    "\n",
    "    # 과소평가 되는 것을 알 수 있다"
   ]
  },
  {
   "cell_type": "markdown",
   "metadata": {},
   "source": [
    "### 3 5.13 불편분산을 사용하면 편향이 사라진다"
   ]
  },
  {
   "cell_type": "code",
   "execution_count": 159,
   "metadata": {},
   "outputs": [
    {
     "data": {
      "text/plain": [
       "0.6385429863702334"
      ]
     },
     "execution_count": 159,
     "metadata": {},
     "output_type": "execute_result"
    }
   ],
   "source": [
    "# 불편분산을 저장하는 변수\n",
    "unbias_var_array = np.zeros(10000)\n",
    "\n",
    "# 데이터를 10개 골라서 표본분산 구하는 시행 10000번 반복\n",
    "np.random.seed(1)\n",
    "for i in range(0,10000) :\n",
    "    sample = population.rvs(size = 10)\n",
    "    unbias_var_array[i] = sp.var(sample, ddof=1)\n",
    "    \n",
    "# 불편분산의 평균값\n",
    "sp.mean(unbias_var_array)"
   ]
  },
  {
   "cell_type": "markdown",
   "metadata": {},
   "source": [
    "### 3.5.14 샘플사이즈가 크면 불편분산은 모분산에 가까워진다"
   ]
  },
  {
   "cell_type": "markdown",
   "metadata": {},
   "source": [
    "* 대상 : 불편분산\n",
    "* 변화시키는것 : 샘플사이즈\n",
    "* 알고싶은 것 : 샘플사이즈가 커지면 불편분산은 모분산에 가까워진다."
   ]
  },
  {
   "cell_type": "code",
   "execution_count": 160,
   "metadata": {},
   "outputs": [
    {
     "data": {
      "text/plain": [
       "array([    10,    110,    210, ...,  99810,  99910, 100010])"
      ]
     },
     "execution_count": 160,
     "metadata": {},
     "output_type": "execute_result"
    }
   ],
   "source": [
    "size_array = np.arange(start = 10, stop = 100100, step=100)\n",
    "size_array"
   ]
  },
  {
   "cell_type": "code",
   "execution_count": 161,
   "metadata": {},
   "outputs": [],
   "source": [
    "# 불편분산 저장하는 변수\n",
    "unbias_var_array_size = np.zeros(len(size_array))"
   ]
  },
  {
   "cell_type": "code",
   "execution_count": 162,
   "metadata": {},
   "outputs": [],
   "source": [
    "np.random.seed(1)\n",
    "for i in range(0, len(size_array)) :\n",
    "    sample = population.rvs(size = size_array[i])\n",
    "    unbias_var_array_size[i] = sp.var(sample, ddof=1)"
   ]
  },
  {
   "cell_type": "code",
   "execution_count": 163,
   "metadata": {},
   "outputs": [
    {
     "data": {
      "text/plain": [
       "Text(0, 0.5, 'unbias var')"
      ]
     },
     "execution_count": 163,
     "metadata": {},
     "output_type": "execute_result"
    },
    {
     "data": {
      "image/png": "[encoded data removed]",
      "text/plain": [
       "<Figure size 432x288 with 1 Axes>"
      ]
     },
     "metadata": {
      "needs_background": "light"
     },
     "output_type": "display_data"
    }
   ],
   "source": [
    "# 꺾은선 그래프 그리기\n",
    "plt.plot(size_array, unbias_var_array_size, color='black')\n",
    "plt.xlabel(\"sample size\")\n",
    "plt.ylabel(\"unbias var\")"
   ]
  },
  {
   "cell_type": "markdown",
   "metadata": {},
   "source": [
    "### 3.5.15 불편성\n",
    ": 추정량의 기댓값이 진짜모수(모집단의 파라미터)가 되는 특성\n",
    "\n",
    "* 불편성이 있다 -> 평균을 냈을 때 과대 또는 과소하지 않다. 즉, 편향이 없는 추정량"
   ]
  },
  {
   "cell_type": "markdown",
   "metadata": {},
   "source": [
    "### 3.5.16 일치성\n",
    ": 샘플사이즈가 커지면 추정량이 진짜 모수에 가까워지는 특성\n",
    "\n",
    "* 일치성이 있다 -> 샘플사이즈가 무한할 때 추정량과 모수가 일치한다."
   ]
  },
  {
   "cell_type": "markdown",
   "metadata": {},
   "source": [
    "### 3.5.18 큰수의 법칙\n",
    ": 표본의 크기가 커지면 표본평균이 모평균에 가까워 지는 방법을 표현한 법칙"
   ]
  },
  {
   "cell_type": "markdown",
   "metadata": {},
   "source": [
    "### 3.5.19  중심극한 정리\n",
    ": 모집단의 분포가 무엇이든 간에 샘플사이즈가 커지면 확률변수의 합은 정규분포에 가까워진다"
   ]
  },
  {
   "cell_type": "code",
   "execution_count": 165,
   "metadata": {},
   "outputs": [
    {
     "data": {
      "text/plain": [
       "<matplotlib.axes._subplots.AxesSubplot at 0x12543d630>"
      ]
     },
     "execution_count": 165,
     "metadata": {},
     "output_type": "execute_result"
    },
    {
     "data": {
      "image/png": "[encoded data removed]",
      "text/plain": [
       "<Figure size 432x288 with 1 Axes>"
      ]
     },
     "metadata": {
      "needs_background": "light"
     },
     "output_type": "display_data"
    }
   ],
   "source": [
    "# 샘플사이즈와 시행횟수\n",
    "n_size = 10000\n",
    "n_trial = 50000\n",
    "\n",
    "# 앞면이면 1, 뒷면이면 0 표시\n",
    "coin = np.array([0,1])\n",
    "\n",
    "# 앞면이 나온 횟수\n",
    "count_coin = np.zeros(n_trial)\n",
    "\n",
    "# 동전을 n_size번 던지는 시행을 n_trial번 수행\n",
    "np.random.seed(1)\n",
    "for i in range(0, n_trial) :\n",
    "    count_coin[i] = sp.sum(\n",
    "    np.random.choice(coin, size = n_size, replace=True))\n",
    "\n",
    "# 히스토그램 그리기\n",
    "sns.distplot(count_coin, color = 'black')"
   ]
  },
  {
   "cell_type": "markdown",
   "metadata": {},
   "source": [
    "## 3.6 정규분포와 응용"
   ]
  },
  {
   "cell_type": "markdown",
   "metadata": {},
   "source": [
    "### 3.6.2 확률밀도"
   ]
  },
  {
   "cell_type": "code",
   "execution_count": 166,
   "metadata": {},
   "outputs": [
    {
     "data": {
      "text/plain": [
       "3.142"
      ]
     },
     "execution_count": 166,
     "metadata": {},
     "output_type": "execute_result"
    }
   ],
   "source": [
    "# 원주율의 값 구하기\n",
    "sp.pi"
   ]
  },
  {
   "cell_type": "code",
   "execution_count": 169,
   "metadata": {},
   "outputs": [
    {
     "data": {
      "text/plain": [
       "2.718281828459045"
      ]
     },
     "execution_count": 169,
     "metadata": {},
     "output_type": "execute_result"
    }
   ],
   "source": [
    "# 자연로그의 밑 : sp.exp 함수\n",
    "sp.exp(1) # e의 1승은 e 자신값, 즉 2.7이다."
   ]
  },
  {
   "cell_type": "code",
   "execution_count": 172,
   "metadata": {},
   "outputs": [
    {
     "data": {
      "text/plain": [
       "0.22831135673627742"
      ]
     },
     "execution_count": 172,
     "metadata": {},
     "output_type": "execute_result"
    }
   ],
   "source": [
    "x = 3\n",
    "mu = 4\n",
    "sigma = 0.8\n",
    "\n",
    "1 / (sp.sqrt(2*sp.pi*sigma**2)) * \\\n",
    "    sp.exp(-((x-mu)**2) / (2*sigma**2))"
   ]
  },
  {
   "cell_type": "code",
   "execution_count": 174,
   "metadata": {},
   "outputs": [
    {
     "data": {
      "text/plain": [
       "0.2283113567362774"
      ]
     },
     "execution_count": 174,
     "metadata": {},
     "output_type": "execute_result"
    }
   ],
   "source": [
    "# 위의 식 간단하게 계산하기\n",
    "stats.norm.pdf(loc = 4, scale = 0.8, x=3)"
   ]
  },
  {
   "cell_type": "code",
   "execution_count": 175,
   "metadata": {},
   "outputs": [
    {
     "data": {
      "text/plain": [
       "0.2283113567362774"
      ]
     },
     "execution_count": 175,
     "metadata": {},
     "output_type": "execute_result"
    }
   ],
   "source": [
    "# 평균4, 표준편차 0.8인 정규분포 인스턴스 생성해서 pdf함수 호출해도 동일한 결과 얻을 수 있다.\n",
    "norm_dist = stats.norm(loc = 4, scale = 0.8) # 정규연속확률변수\n",
    "norm_dist.pdf(x=3)"
   ]
  },
  {
   "cell_type": "code",
   "execution_count": 177,
   "metadata": {},
   "outputs": [
    {
     "data": {
      "text/plain": [
       "[<matplotlib.lines.Line2D at 0x12567f978>]"
      ]
     },
     "execution_count": 177,
     "metadata": {},
     "output_type": "execute_result"
    },
    {
     "data": {
      "image/png": "[encoded data removed]",
      "text/plain": [
       "<Figure size 432x288 with 1 Axes>"
      ]
     },
     "metadata": {
      "needs_background": "light"
     },
     "output_type": "display_data"
    }
   ],
   "source": [
    "x_plot = np.arange(start=1, stop=7.1, step =0.1)\n",
    "plt.plot(\n",
    "    x_plot, stats.norm.pdf(x=x_plot, loc=4, scale=0.8),\n",
    "    color = 'black')"
   ]
  },
  {
   "cell_type": "markdown",
   "metadata": {},
   "source": [
    "### 3.6.3 표본이 어떤 값 이하가 되는 비율\n",
    "-> 어떤 값 이하가 되는 데이터의 개수 / 샘플사이즈"
   ]
  },
  {
   "cell_type": "code",
   "execution_count": 178,
   "metadata": {},
   "outputs": [
    {
     "data": {
      "text/plain": [
       "array([5.299, 3.511, 3.577, ..., 3.189, 3.95 , 2.85 ])"
      ]
     },
     "execution_count": 178,
     "metadata": {},
     "output_type": "execute_result"
    }
   ],
   "source": [
    "np.random.seed(1)\n",
    "simulated_sample = stats.norm.rvs(\n",
    "    loc = 4, scale = 0.8, size = 10000)\n",
    "simulated_sample"
   ]
  },
  {
   "cell_type": "code",
   "execution_count": 179,
   "metadata": {},
   "outputs": [
    {
     "data": {
      "text/plain": [
       "1043"
      ]
     },
     "execution_count": 179,
     "metadata": {},
     "output_type": "execute_result"
    }
   ],
   "source": [
    "# 3이하 데이터의 개수를 비교연산자를 이용해 계산\n",
    "sp.sum(simulated_sample <=3)"
   ]
  },
  {
   "cell_type": "markdown",
   "metadata": {},
   "source": [
    "ㅡ# 샘플사이즈로 나누기\n",
    "sp.sum(simulated_sample <=3) / len(simulated_sample)"
   ]
  },
  {
   "cell_type": "markdown",
   "metadata": {},
   "source": [
    "### 3.4.2 표본을 얻는 프로세스"
   ]
  },
  {
   "cell_type": "markdown",
   "metadata": {},
   "source": [
    "표본은 확률변수. 즉, 확률적으로 변화하는 값"
   ]
  },
  {
   "cell_type": "markdown",
   "metadata": {},
   "source": [
    "### 3.4.3. 5마리 물고기의 예"
   ]
  },
  {
   "cell_type": "code",
   "execution_count": 101,
   "metadata": {},
   "outputs": [
    {
     "data": {
      "text/plain": [
       "array([2, 3, 4, 5, 6])"
      ]
     },
     "execution_count": 101,
     "metadata": {},
     "output_type": "execute_result"
    }
   ],
   "source": [
    "fish_5 = np.array([2,3,4,5,6])\n",
    "fish_5"
   ]
  },
  {
   "cell_type": "code",
   "execution_count": 103,
   "metadata": {},
   "outputs": [
    {
     "data": {
      "text/plain": [
       "array([5])"
      ]
     },
     "execution_count": 103,
     "metadata": {},
     "output_type": "execute_result"
    }
   ],
   "source": [
    "# 랜덤으로 고르고 싶을때 : np.random.choice\n",
    "    # replace = False : 같은 물고기 2번이상 선택 X\n",
    "np.random.choice(fish_5, size = 1, replace = False)"
   ]
  },
  {
   "cell_type": "code",
   "execution_count": 104,
   "metadata": {},
   "outputs": [
    {
     "data": {
      "text/plain": [
       "array([6, 5, 4])"
      ]
     },
     "execution_count": 104,
     "metadata": {},
     "output_type": "execute_result"
    }
   ],
   "source": [
    "np.random.choice(fish_5, size = 3, replace=False)"
   ]
  },
  {
   "cell_type": "code",
   "execution_count": 105,
   "metadata": {},
   "outputs": [
    {
     "data": {
      "text/plain": [
       "array([3, 4, 5])"
      ]
     },
     "execution_count": 105,
     "metadata": {},
     "output_type": "execute_result"
    }
   ],
   "source": [
    "np.random.choice(fish_5, size = 3, replace=False)"
   ]
  },
  {
   "cell_type": "code",
   "execution_count": 106,
   "metadata": {},
   "outputs": [
    {
     "data": {
      "text/plain": [
       "array([4, 3, 6])"
      ]
     },
     "execution_count": 106,
     "metadata": {},
     "output_type": "execute_result"
    }
   ],
   "source": [
    "# np.random.seed(난수시드) : 매번 같은 데이터가 랜덤하게 선택됨.\n",
    "# 인수로 넘기는 값은 아무거나 괜찮다. 인수로 같은 값을 지정하면 같은 결과가 나옴\n",
    "np.random.seed(1)\n",
    "np.random.choice(fish_5, size = 3, replace = False)"
   ]
  },
  {
   "cell_type": "code",
   "execution_count": 107,
   "metadata": {},
   "outputs": [
    {
     "data": {
      "text/plain": [
       "array([4, 3, 6])"
      ]
     },
     "execution_count": 107,
     "metadata": {},
     "output_type": "execute_result"
    }
   ],
   "source": [
    "np.random.seed(1)\n",
    "np.random.choice(fish_5, size = 3, replace = False)"
   ]
  },
  {
   "cell_type": "code",
   "execution_count": 108,
   "metadata": {},
   "outputs": [
    {
     "data": {
      "text/plain": [
       "4.333333333333333"
      ]
     },
     "execution_count": 108,
     "metadata": {},
     "output_type": "execute_result"
    }
   ],
   "source": [
    "# 골라낸 표본의 평균값 계산 -> 표본평균\n",
    "np.random.seed(1)\n",
    "sp.mean(\n",
    "    np.random.choice(fish_5, size=3, replace=False)\n",
    ")"
   ]
  },
  {
   "cell_type": "markdown",
   "metadata": {},
   "source": [
    "### 3.4.4 난수\n",
    ": 랜덤으로 골라낸 값. 분야에 따라 확률변수와 거의 같은 의미이다."
   ]
  },
  {
   "cell_type": "markdown",
   "metadata": {},
   "source": [
    "### 3.4.5 복원추출과 비복원 추출\n",
    "*복원추출 : 추출된 표본을 다시 모집단에 되돌려놓음으로써 다시 추출될 수 있게 하는 샘플링 방법\n",
    "\n",
    "*비복원추출 : 추출된 표본을 모집단에 다시 돌려 놓지 않는다(replace=False)"
   ]
  },
  {
   "cell_type": "markdown",
   "metadata": {},
   "source": [
    "### 3.4.6  더 많은 물고기가 있는 호수에서 표본추출"
   ]
  },
  {
   "cell_type": "code",
   "execution_count": 109,
   "metadata": {},
   "outputs": [
    {
     "data": {
      "text/html": [
       "<div>\n",
       "<style scoped>\n",
       "    .dataframe tbody tr th:only-of-type {\n",
       "        vertical-align: middle;\n",
       "    }\n",
       "\n",
       "    .dataframe tbody tr th {\n",
       "        vertical-align: top;\n",
       "    }\n",
       "\n",
       "    .dataframe thead th {\n",
       "        text-align: right;\n",
       "    }\n",
       "</style>\n",
       "<table border=\"1\" class=\"dataframe\">\n",
       "  <thead>\n",
       "    <tr style=\"text-align: right;\">\n",
       "      <th></th>\n",
       "      <th>length</th>\n",
       "    </tr>\n",
       "  </thead>\n",
       "  <tbody>\n",
       "    <tr>\n",
       "      <th>0</th>\n",
       "      <td>5.297442</td>\n",
       "    </tr>\n",
       "    <tr>\n",
       "      <th>1</th>\n",
       "      <td>3.505566</td>\n",
       "    </tr>\n",
       "    <tr>\n",
       "      <th>2</th>\n",
       "      <td>3.572546</td>\n",
       "    </tr>\n",
       "    <tr>\n",
       "      <th>3</th>\n",
       "      <td>3.135979</td>\n",
       "    </tr>\n",
       "    <tr>\n",
       "      <th>4</th>\n",
       "      <td>4.689275</td>\n",
       "    </tr>\n",
       "  </tbody>\n",
       "</table>\n",
       "</div>"
      ],
      "text/plain": [
       "     length\n",
       "0  5.297442\n",
       "1  3.505566\n",
       "2  3.572546\n",
       "3  3.135979\n",
       "4  4.689275"
      ]
     },
     "execution_count": 109,
     "metadata": {},
     "output_type": "execute_result"
    }
   ],
   "source": [
    "fish_10000 = pd.read_csv(\"/Users/seuli/Desktop/개발자/통계학 source/sample/3-4-1-fish_length_100000.csv\")\n",
    "fish_10000.head()"
   ]
  },
  {
   "cell_type": "code",
   "execution_count": 110,
   "metadata": {},
   "outputs": [
    {
     "data": {
      "text/plain": [
       "100000"
      ]
     },
     "execution_count": 110,
     "metadata": {},
     "output_type": "execute_result"
    }
   ],
   "source": [
    "len(fish_10000)"
   ]
  },
  {
   "cell_type": "code",
   "execution_count": 115,
   "metadata": {},
   "outputs": [
    {
     "ename": "ValueError",
     "evalue": "'a' must be 1-dimensional",
     "output_type": "error",
     "traceback": [
      "\u001b[0;31m---------------------------------------------------------------------------\u001b[0m",
      "\u001b[0;31mValueError\u001b[0m                                Traceback (most recent call last)",
      "\u001b[0;32m<ipython-input-115-fd7ce16df931>\u001b[0m in \u001b[0;36m<module>\u001b[0;34m\u001b[0m\n\u001b[1;32m      1\u001b[0m \u001b[0;31m# 표본 추출하기(10마리 샘플링)\u001b[0m\u001b[0;34m\u001b[0m\u001b[0;34m\u001b[0m\u001b[0;34m\u001b[0m\u001b[0m\n\u001b[0;32m----> 2\u001b[0;31m \u001b[0msampling_result\u001b[0m \u001b[0;34m=\u001b[0m \u001b[0mnp\u001b[0m\u001b[0;34m.\u001b[0m\u001b[0mrandom\u001b[0m\u001b[0;34m.\u001b[0m\u001b[0mchoice\u001b[0m\u001b[0;34m(\u001b[0m\u001b[0mfish_10000\u001b[0m\u001b[0;34m,\u001b[0m \u001b[0msize\u001b[0m\u001b[0;34m=\u001b[0m\u001b[0;36m10\u001b[0m\u001b[0;34m,\u001b[0m \u001b[0mreplace\u001b[0m \u001b[0;34m=\u001b[0m \u001b[0;32mFalse\u001b[0m\u001b[0;34m)\u001b[0m\u001b[0;34m\u001b[0m\u001b[0;34m\u001b[0m\u001b[0m\n\u001b[0m\u001b[1;32m      3\u001b[0m \u001b[0msampling_result\u001b[0m\u001b[0;34m\u001b[0m\u001b[0;34m\u001b[0m\u001b[0m\n",
      "\u001b[0;32mmtrand.pyx\u001b[0m in \u001b[0;36mmtrand.RandomState.choice\u001b[0;34m()\u001b[0m\n",
      "\u001b[0;31mValueError\u001b[0m: 'a' must be 1-dimensional"
     ]
    }
   ],
   "source": [
    "# 표본 추출하기(10마리 샘플링)\n",
    "sampling_result = np.random.choice(fish_10000, size=10, replace = False)\n",
    "sampling_result"
   ]
  },
  {
   "cell_type": "code",
   "execution_count": 114,
   "metadata": {},
   "outputs": [
    {
     "ename": "NameError",
     "evalue": "name 'sampling_result' is not defined",
     "output_type": "error",
     "traceback": [
      "\u001b[0;31m---------------------------------------------------------------------------\u001b[0m",
      "\u001b[0;31mNameError\u001b[0m                                 Traceback (most recent call last)",
      "\u001b[0;32m<ipython-input-114-0c2ffd94e3d4>\u001b[0m in \u001b[0;36m<module>\u001b[0;34m\u001b[0m\n\u001b[1;32m      1\u001b[0m \u001b[0;31m# 표본평균 계산\u001b[0m\u001b[0;34m\u001b[0m\u001b[0;34m\u001b[0m\u001b[0;34m\u001b[0m\u001b[0m\n\u001b[0;32m----> 2\u001b[0;31m \u001b[0msp\u001b[0m\u001b[0;34m.\u001b[0m\u001b[0mmean\u001b[0m\u001b[0;34m(\u001b[0m\u001b[0msampling_result\u001b[0m\u001b[0;34m)\u001b[0m\u001b[0;34m\u001b[0m\u001b[0;34m\u001b[0m\u001b[0m\n\u001b[0m",
      "\u001b[0;31mNameError\u001b[0m: name 'sampling_result' is not defined"
     ]
    }
   ],
   "source": [
    "# 표본평균 계산\n",
    "sp.mean(sampling_result)"
   ]
  },
  {
   "cell_type": "markdown",
   "metadata": {},
   "source": [
    "### 3.4.7 모집단 분포"
   ]
  },
  {
   "cell_type": "code",
   "execution_count": null,
   "metadata": {},
   "outputs": [],
   "source": [
    "# 모집단의 평균값, 즉 모평균 구하기\n",
    "sp.mean(fish_10000)"
   ]
  },
  {
   "cell_type": "code",
   "execution_count": null,
   "metadata": {},
   "outputs": [],
   "source": [
    "# 모표준편차 구하기\n",
    "sp.std(fish_10000, ddof=0)"
   ]
  },
  {
   "cell_type": "code",
   "execution_count": null,
   "metadata": {},
   "outputs": [],
   "source": [
    "# 모분산 구하기\n",
    "sp.var(fish_10000, ddof=0)"
   ]
  },
  {
   "cell_type": "code",
   "execution_count": null,
   "metadata": {},
   "outputs": [],
   "source": [
    "# 모집단 히스토그램 그리기\n",
    "sns.distplot(fish_10000, kde=False, color='black')"
   ]
  },
  {
   "cell_type": "markdown",
   "metadata": {},
   "source": [
    "### 3.4.8 모집단분포와 정규분포 간 확률밀도함수 비교"
   ]
  },
  {
   "cell_type": "code",
   "execution_count": 117,
   "metadata": {},
   "outputs": [
    {
     "data": {
      "text/plain": [
       "array([1. , 1.1, 1.2, 1.3, 1.4, 1.5, 1.6, 1.7, 1.8, 1.9, 2. , 2.1, 2.2,\n",
       "       2.3, 2.4, 2.5, 2.6, 2.7, 2.8, 2.9, 3. , 3.1, 3.2, 3.3, 3.4, 3.5,\n",
       "       3.6, 3.7, 3.8, 3.9, 4. , 4.1, 4.2, 4.3, 4.4, 4.5, 4.6, 4.7, 4.8,\n",
       "       4.9, 5. , 5.1, 5.2, 5.3, 5.4, 5.5, 5.6, 5.7, 5.8, 5.9, 6. , 6.1,\n",
       "       6.2, 6.3, 6.4, 6.5, 6.6, 6.7, 6.8, 6.9, 7. ])"
      ]
     },
     "execution_count": 117,
     "metadata": {},
     "output_type": "execute_result"
    }
   ],
   "source": [
    "# 평균 4, 분산 0.64인 ㅈㅇ규분포의 확률밀도를 1~7의 범위에서 표시\n",
    "x = np.arange(start = 1, stop = 7.1, step=0.1)\n",
    "x"
   ]
  },
  {
   "cell_type": "code",
   "execution_count": 118,
   "metadata": {},
   "outputs": [
    {
     "data": {
      "text/plain": [
       "array([4.407e-04, 6.988e-04, 1.091e-03, 1.676e-03, 2.536e-03, 3.778e-03,\n",
       "       5.540e-03, 7.998e-03, 1.137e-02, 1.591e-02, 2.191e-02, 2.971e-02,\n",
       "       3.967e-02, 5.215e-02, 6.749e-02, 8.598e-02, 1.078e-01, 1.332e-01,\n",
       "       1.619e-01, 1.938e-01, 2.283e-01, 2.648e-01, 3.025e-01, 3.401e-01,\n",
       "       3.764e-01, 4.102e-01, 4.401e-01, 4.648e-01, 4.833e-01, 4.948e-01,\n",
       "       4.987e-01, 4.948e-01, 4.833e-01, 4.648e-01, 4.401e-01, 4.102e-01,\n",
       "       3.764e-01, 3.401e-01, 3.025e-01, 2.648e-01, 2.283e-01, 1.938e-01,\n",
       "       1.619e-01, 1.332e-01, 1.078e-01, 8.598e-02, 6.749e-02, 5.215e-02,\n",
       "       3.967e-02, 2.971e-02, 2.191e-02, 1.591e-02, 1.137e-02, 7.998e-03,\n",
       "       5.540e-03, 3.778e-03, 2.536e-03, 1.676e-03, 1.091e-03, 6.988e-04,\n",
       "       4.407e-04])"
      ]
     },
     "execution_count": 118,
     "metadata": {},
     "output_type": "execute_result"
    }
   ],
   "source": [
    "# stats.norm.pdf : 확률밀도 계산.\n",
    "# loc 평균값이고 scale : 표준편차\n",
    "stats.norm.pdf(x = x, loc=4, scale = 0.8)"
   ]
  },
  {
   "cell_type": "code",
   "execution_count": 119,
   "metadata": {},
   "outputs": [
    {
     "data": {
      "text/plain": [
       "[<matplotlib.lines.Line2D at 0x124f41ba8>]"
      ]
     },
     "execution_count": 119,
     "metadata": {},
     "output_type": "execute_result"
    },
    {
     "data": {
      "image/png": "[encoded data removed]",
      "text/plain": [
       "<Figure size 432x288 with 1 Axes>"
      ]
     },
     "metadata": {
      "needs_background": "light"
     },
     "output_type": "display_data"
    }
   ],
   "source": [
    "# 확률밀도 그래프 그리기\n",
    "plt.plot(x, stats.norm.pdf(x=x, loc=4, scale=0.8),\n",
    "        color = 'black')"
   ]
  },
  {
   "cell_type": "code",
   "execution_count": 121,
   "metadata": {},
   "outputs": [
    {
     "data": {
      "text/plain": [
       "[<matplotlib.lines.Line2D at 0x124f941d0>]"
      ]
     },
     "execution_count": 121,
     "metadata": {},
     "output_type": "execute_result"
    },
    {
     "data": {
      "image/png": "[encoded data removed]",
      "text/plain": [
       "<Figure size 432x288 with 1 Axes>"
      ]
     },
     "metadata": {
      "needs_background": "light"
     },
     "output_type": "display_data"
    }
   ],
   "source": [
    "# 모집단의 히스토그램 그래프 겹쳐 그리기\n",
    "sns.distplot(fish_10000, kde=False, norm_hist=True, color='black')\n",
    "plt.plot(x, stats.norm.pdf(x=x, loc=4, scale=0.8),\n",
    "        color = 'black')"
   ]
  },
  {
   "cell_type": "markdown",
   "metadata": {},
   "source": [
    "### 3.4.9 표본을 얻는 절차의 추상화"
   ]
  },
  {
   "cell_type": "code",
   "execution_count": 122,
   "metadata": {},
   "outputs": [
    {
     "data": {
      "text/plain": [
       "array([3.56 , 2.878, 5.266, 3.164, 4.206, 2.432, 2.794, 3.748, 4.687,\n",
       "       4.057])"
      ]
     },
     "execution_count": 122,
     "metadata": {},
     "output_type": "execute_result"
    }
   ],
   "source": [
    "# stats.norm.rvs : 시작부터 정규분호를 따르는 난수 생성함수\n",
    "sampling_norm = stats.norm.rvs(loc = 4, scale=0.8, size=10)\n",
    "sampling_norm"
   ]
  },
  {
   "cell_type": "code",
   "execution_count": 123,
   "metadata": {},
   "outputs": [
    {
     "data": {
      "text/plain": [
       "3.6791686098022693"
      ]
     },
     "execution_count": 123,
     "metadata": {},
     "output_type": "execute_result"
    }
   ],
   "source": [
    "# 표본평균\n",
    "sp.mean(sampling_norm)"
   ]
  },
  {
   "cell_type": "markdown",
   "metadata": {},
   "source": [
    "## 3.5 표본 통계량 성질"
   ]
  },
  {
   "cell_type": "markdown",
   "metadata": {},
   "source": [
    "### 3.5.1 시행\n",
    ": 1회의 조사를 수행한 것\n",
    "* 시행횟수 : 몇 번이고 시행을 반복하는게 가능한 경우, 반복한 횟수"
   ]
  },
  {
   "cell_type": "markdown",
   "metadata": {},
   "source": [
    "### 3.5.2 표본분포\n",
    ": 표본의 통계량을 따르는 확률분포"
   ]
  },
  {
   "cell_type": "markdown",
   "metadata": {},
   "source": [
    "### 3.5.3 라이브러리 임포트"
   ]
  },
  {
   "cell_type": "code",
   "execution_count": 2,
   "metadata": {},
   "outputs": [],
   "source": [
    "# 수치 계산에 사용하는 라이브러리\n",
    "import numpy as np\n",
    "import pandas as pd\n",
    "import scipy as sp\n",
    "from scipy import stats\n",
    "\n",
    "# 그래프를 그리기 위한 라이브러리\n",
    "from matplotlib import pyplot as plt\n",
    "import seaborn as sns\n",
    "sns.set() # 기본 seaborn 테마, 크기 조정 및 색상 팔레트 사용\n",
    "\n",
    "# 표시 자릿수 지정\n",
    "%precision 3\n",
    "\n",
    "# 그래프를 주피터 노트북에 그리기 위한 설정\n",
    "%matplotlib inline"
   ]
  },
  {
   "cell_type": "code",
   "execution_count": 125,
   "metadata": {},
   "outputs": [],
   "source": [
    "# 시뮬레이션 준비\n",
    "population = stats.norm(loc=4, scale=0.8)"
   ]
  },
  {
   "cell_type": "markdown",
   "metadata": {},
   "source": [
    "### 3.5.4 표본평균을 여러번 계산하기"
   ]
  },
  {
   "cell_type": "code",
   "execution_count": 126,
   "metadata": {},
   "outputs": [],
   "source": [
    "sample_mean_array = np.zeros(10000)"
   ]
  },
  {
   "cell_type": "code",
   "execution_count": 127,
   "metadata": {},
   "outputs": [],
   "source": [
    "# 배열에 10000개 표본평균 저장\n",
    "np.random.seed(1)\n",
    "for i in range(0, 10000) :\n",
    "    sample = population.rvs(size = 10)\n",
    "    sample_mean_array[i] = sp.mean(sample)"
   ]
  },
  {
   "cell_type": "code",
   "execution_count": 128,
   "metadata": {},
   "outputs": [
    {
     "data": {
      "text/plain": [
       "array([3.922, 3.864, 4.07 , ..., 4.136, 4.575, 4.099])"
      ]
     },
     "execution_count": 128,
     "metadata": {},
     "output_type": "execute_result"
    }
   ],
   "source": [
    "# 표본평균\n",
    "sample_mean_array"
   ]
  },
  {
   "cell_type": "markdown",
   "metadata": {},
   "source": [
    "### 3.5.5 표본평균의 평균값은 모평균에 가깝다"
   ]
  },
  {
   "cell_type": "code",
   "execution_count": 129,
   "metadata": {},
   "outputs": [
    {
     "data": {
      "text/plain": [
       "4.004202422791747"
      ]
     },
     "execution_count": 129,
     "metadata": {},
     "output_type": "execute_result"
    }
   ],
   "source": [
    "sp.mean(sample_mean_array)"
   ]
  },
  {
   "cell_type": "code",
   "execution_count": 130,
   "metadata": {},
   "outputs": [
    {
     "data": {
      "text/plain": [
       "0.2513580850860402"
      ]
     },
     "execution_count": 130,
     "metadata": {},
     "output_type": "execute_result"
    }
   ],
   "source": [
    "sp.std(sample_mean_array, ddof=1)"
   ]
  },
  {
   "cell_type": "code",
   "execution_count": 131,
   "metadata": {},
   "outputs": [
    {
     "data": {
      "text/plain": [
       "<matplotlib.axes._subplots.AxesSubplot at 0x124fe0cf8>"
      ]
     },
     "execution_count": 131,
     "metadata": {},
     "output_type": "execute_result"
    },
    {
     "data": {
      "image/png": "[encoded data removed]",
      "text/plain": [
       "<Figure size 432x288 with 1 Axes>"
      ]
     },
     "metadata": {
      "needs_background": "light"
     },
     "output_type": "display_data"
    }
   ],
   "source": [
    "sns.distplot(sample_mean_array, color = 'black')"
   ]
  },
  {
   "cell_type": "markdown",
   "metadata": {},
   "source": [
    "### 3.5.6 샘플사이즈가 크면 표본평균은 모평균에 가까워진다."
   ]
  },
  {
   "cell_type": "markdown",
   "metadata": {},
   "source": [
    "* 대상 : 표본평균\n",
    "* 변화시키는 것 : 샘플사이즈\n",
    "* 알고싶은 것 : 샘플사이즈가 커질수록 표본평균은 모평균에 가까워지는가 ?"
   ]
  },
  {
   "cell_type": "code",
   "execution_count": 132,
   "metadata": {},
   "outputs": [],
   "source": [
    "# 이 항목을 살펴보는 것에 중점을 두고 시뮬레이션"
   ]
  },
  {
   "cell_type": "code",
   "execution_count": 133,
   "metadata": {},
   "outputs": [
    {
     "data": {
      "text/plain": [
       "array([    10,    110,    210, ...,  99810,  99910, 100010])"
      ]
     },
     "execution_count": 133,
     "metadata": {},
     "output_type": "execute_result"
    }
   ],
   "source": [
    "size_array = np.arange(start = 10, stop=100100, step=100)\n",
    "size_array"
   ]
  },
  {
   "cell_type": "code",
   "execution_count": 136,
   "metadata": {},
   "outputs": [],
   "source": [
    "# 표본평균을 저장할 변수 준비\n",
    "sample_mean_array_size = np.zeros(len(size_array))"
   ]
  },
  {
   "cell_type": "code",
   "execution_count": 137,
   "metadata": {},
   "outputs": [],
   "source": [
    "np.random.seed(1)\n",
    "for i in range(0, len(size_array)) :\n",
    "    sample = population.rvs(size = size_array[i])\n",
    "    sample_mean_array_size[i] = sp.mean(sample)"
   ]
  },
  {
   "cell_type": "code",
   "execution_count": 138,
   "metadata": {},
   "outputs": [
    {
     "data": {
      "text/plain": [
       "Text(0, 0.5, 'sample mean')"
      ]
     },
     "execution_count": 138,
     "metadata": {},
     "output_type": "execute_result"
    },
    {
     "data": {
      "image/png": "[encoded data removed]",
      "text/plain": [
       "<Figure size 432x288 with 1 Axes>"
      ]
     },
     "metadata": {
      "needs_background": "light"
     },
     "output_type": "display_data"
    }
   ],
   "source": [
    "# 가로축이 샘플사이즈, 세로축인 표본평균인 그래프\n",
    "plt.plot(size_array, sample_mean_array_size, color='black')\n",
    "plt.xlabel(\"sample size\")\n",
    "plt.ylabel(\"sample mean\")"
   ]
  },
  {
   "cell_type": "markdown",
   "metadata": {},
   "source": [
    "### 3.5.7 표본평균을 몇 번이고 계산하는 함수 만들기"
   ]
  },
  {
   "cell_type": "code",
   "execution_count": 139,
   "metadata": {},
   "outputs": [],
   "source": [
    "def calc_sample_mean(size, n_trial) :\n",
    "    sample_mean_array = np.zeros(n_trial)\n",
    "    for i in range(0, n_trial):\n",
    "        sample = population.rvs(size = size)\n",
    "        sample_mean_array[i] = sp.mean(sample)\n",
    "    return(sample_mean_array)"
   ]
  },
  {
   "cell_type": "code",
   "execution_count": 140,
   "metadata": {},
   "outputs": [
    {
     "data": {
      "text/plain": [
       "4.004202422791747"
      ]
     },
     "execution_count": 140,
     "metadata": {},
     "output_type": "execute_result"
    }
   ],
   "source": [
    "np.random.seed(1)\n",
    "sp.mean(calc_sample_mean(size=10, n_trial=10000))"
   ]
  },
  {
   "cell_type": "markdown",
   "metadata": {},
   "source": [
    "### 3.5.8 샘플사이즈를 바꿨을 때 표본평균의 분산"
   ]
  },
  {
   "cell_type": "code",
   "execution_count": 143,
   "metadata": {},
   "outputs": [
    {
     "name": "stdout",
     "output_type": "stream",
     "text": [
      "   sample_mean     size\n",
      "0     3.922287  size 10\n",
      "1     3.864329  size 10\n",
      "2     4.069530  size 10\n",
      "3     3.857140  size 10\n",
      "4     4.184654  size 10\n"
     ]
    }
   ],
   "source": [
    "# 바이올린플룻을 이용하여 확인하기\n",
    "np.random.seed(1)\n",
    "# 샘플사이즈 10\n",
    "size_10 = calc_sample_mean(size=10, n_trial=10000)\n",
    "size_10_df = pd.DataFrame({\n",
    "    \"sample_mean\" : size_10,\n",
    "    \"size\" : np.tile(\"size 10\", 10000)\n",
    "})\n",
    "\n",
    "# 샘플사이즈 20\n",
    "size_20 = calc_sample_mean(size=20, n_trial=10000)\n",
    "size_20_df = pd.DataFrame({\n",
    "    \"sample_mean\" : size_20,\n",
    "    \"size\" : np.tile(\"size 20\", 10000)\n",
    "})\n",
    "\n",
    "# 샘플사이즈 30\n",
    "size_30 = calc_sample_mean(size=30, n_trial=10000)\n",
    "size_30_df = pd.DataFrame({\n",
    "    \"sample_mean\" : size_30,\n",
    "    \"size\" : np.tile(\"size 30\", 10000)\n",
    "})\n",
    "\n",
    "# 종합\n",
    "sim_result = pd.concat([size_10_df, size_20_df, size_30_df])\n",
    "\n",
    "# 결과표시 \n",
    "print(sim_result.head())"
   ]
  },
  {
   "cell_type": "code",
   "execution_count": 144,
   "metadata": {},
   "outputs": [
    {
     "data": {
      "text/plain": [
       "<matplotlib.axes._subplots.AxesSubplot at 0x12506c0f0>"
      ]
     },
     "execution_count": 144,
     "metadata": {},
     "output_type": "execute_result"
    },
    {
     "data": {
      "image/png": "[encoded data removed]",
      "text/plain": [
       "<Figure size 432x288 with 1 Axes>"
      ]
     },
     "metadata": {
      "needs_background": "light"
     },
     "output_type": "display_data"
    }
   ],
   "source": [
    "sns.violinplot(x= \"size\", y=\"sample_mean\", data = sim_result, color='gray')"
   ]
  },
  {
   "cell_type": "markdown",
   "metadata": {},
   "source": [
    "### 3.5.9 표본평균의 표준편차는 모집단보다 작다"
   ]
  },
  {
   "cell_type": "markdown",
   "metadata": {},
   "source": [
    "* 대상 : 표본평균의 표준편차\n",
    "* 변화시키는 것 : 샘플사이즈\n",
    "* 알고 싶은 것 : 샘플사이즈가 커질수록 표본평균의 표준편차는 작아진다 -> 샘플사이즈가 커지면 표본평균은 보다 신뢰할 수 있는값이 된다."
   ]
  },
  {
   "cell_type": "code",
   "execution_count": 147,
   "metadata": {},
   "outputs": [
    {
     "data": {
      "text/plain": [
       "array([  2,   4,   6,   8,  10,  12,  14,  16,  18,  20,  22,  24,  26,\n",
       "        28,  30,  32,  34,  36,  38,  40,  42,  44,  46,  48,  50,  52,\n",
       "        54,  56,  58,  60,  62,  64,  66,  68,  70,  72,  74,  76,  78,\n",
       "        80,  82,  84,  86,  88,  90,  92,  94,  96,  98, 100])"
      ]
     },
     "execution_count": 147,
     "metadata": {},
     "output_type": "execute_result"
    }
   ],
   "source": [
    "# 샘플사이즈 준비\n",
    "size_array = np.arange(start = 2, stop= 102, step=2)\n",
    "size_array"
   ]
  },
  {
   "cell_type": "code",
   "execution_count": 148,
   "metadata": {},
   "outputs": [],
   "source": [
    "# 변수준비\n",
    "sample_mean_std_array = np.zeros(len(size_array))"
   ]
  },
  {
   "cell_type": "code",
   "execution_count": 149,
   "metadata": {},
   "outputs": [],
   "source": [
    "np.random.seed(1)\n",
    "for i in range(0, len(size_array)) :\n",
    "    sample_mean = calc_sample_mean(size = size_array[i], n_trial = 100)\n",
    "    sample_mean_std_array[i] = sp.std(sample_mean, ddof=1)"
   ]
  },
  {
   "cell_type": "code",
   "execution_count": 150,
   "metadata": {},
   "outputs": [
    {
     "data": {
      "text/plain": [
       "Text(0, 0.5, 'mean_std value')"
      ]
     },
     "execution_count": 150,
     "metadata": {},
     "output_type": "execute_result"
    },
    {
     "data": {
      "image/png": "[encoded data removed]",
      "text/plain": [
       "<Figure size 432x288 with 1 Axes>"
      ]
     },
     "metadata": {
      "needs_background": "light"
     },
     "output_type": "display_data"
    }
   ],
   "source": [
    "# 꺾은선 그래프 그리기\n",
    "plt.plot(size_array, sample_mean_std_array, color='black')\n",
    "plt.xlabel(\"sample size\")\n",
    "plt.ylabel(\"mean_std value\")"
   ]
  },
  {
   "cell_type": "markdown",
   "metadata": {},
   "source": [
    "### 3.5.10 표준오차"
   ]
  },
  {
   "cell_type": "markdown",
   "metadata": {},
   "source": [
    "표본평균의 표준편차 크기는 수식을 사용해서 계산할 수 있다. 이를 표준오차라 한다.(SE)\n",
    "\n",
    "샘플사이즈가 커지면 표준오차는 작아진다"
   ]
  },
  {
   "cell_type": "code",
   "execution_count": 151,
   "metadata": {},
   "outputs": [
    {
     "data": {
      "text/plain": [
       "array([0.566, 0.4  , 0.327, 0.283, 0.253, 0.231, 0.214, 0.2  , 0.189,\n",
       "       0.179, 0.171, 0.163, 0.157, 0.151, 0.146, 0.141, 0.137, 0.133,\n",
       "       0.13 , 0.126, 0.123, 0.121, 0.118, 0.115, 0.113, 0.111, 0.109,\n",
       "       0.107, 0.105, 0.103, 0.102, 0.1  , 0.098, 0.097, 0.096, 0.094,\n",
       "       0.093, 0.092, 0.091, 0.089, 0.088, 0.087, 0.086, 0.085, 0.084,\n",
       "       0.083, 0.083, 0.082, 0.081, 0.08 ])"
      ]
     },
     "execution_count": 151,
     "metadata": {},
     "output_type": "execute_result"
    }
   ],
   "source": [
    "standard_error = 0.8/np.sqrt(size_array)\n",
    "standard_error"
   ]
  },
  {
   "cell_type": "code",
   "execution_count": 152,
   "metadata": {},
   "outputs": [
    {
     "data": {
      "text/plain": [
       "Text(0, 0.5, 'mean_std value')"
      ]
     },
     "execution_count": 152,
     "metadata": {},
     "output_type": "execute_result"
    },
    {
     "data": {
      "image/png": "[encoded data removed]",
      "text/plain": [
       "<Figure size 432x288 with 1 Axes>"
      ]
     },
     "metadata": {
      "needs_background": "light"
     },
     "output_type": "display_data"
    }
   ],
   "source": [
    "# 표준편차와 시뮬레이션 결과를 하나의 그래프에 겹쳐 그리기\n",
    "plt.plot(size_array, sample_mean_std_array, color='black')\n",
    "plt.plot(size_array, standard_error, color='black', linestyle='dotted')\n",
    "plt.xlabel(\"sample size\")\n",
    "plt.ylabel(\"mean_std value\")"
   ]
  },
  {
   "cell_type": "markdown",
   "metadata": {},
   "source": [
    "### 3.5.12  표본분산의 평균값은 모분산과 차이가 있다"
   ]
  },
  {
   "cell_type": "code",
   "execution_count": 154,
   "metadata": {},
   "outputs": [],
   "source": [
    "sample_var_array = np.zeros(10000)"
   ]
  },
  {
   "cell_type": "code",
   "execution_count": 155,
   "metadata": {},
   "outputs": [],
   "source": [
    "# 데이터를 10개 골라서 표본분산 구하는 시행 10000번 반복\n",
    "np.random.seed(1)\n",
    "for i in range(0,10000) :\n",
    "    sample = population.rvs(size = 10)\n",
    "    sample_var_array[i] = sp.var(sample, ddof=0)"
   ]
  },
  {
   "cell_type": "code",
   "execution_count": 157,
   "metadata": {},
   "outputs": [
    {
     "data": {
      "text/plain": [
       "0.5746886877332101"
      ]
     },
     "execution_count": 157,
     "metadata": {},
     "output_type": "execute_result"
    }
   ],
   "source": [
    "# 표본분산의 평균값\n",
    "sp.mean(sample_var_array)\n",
    "\n",
    "    # 과소평가 되는 것을 알 수 있다"
   ]
  },
  {
   "cell_type": "markdown",
   "metadata": {},
   "source": [
    "### 3 5.13 불편분산을 사용하면 편향이 사라진다"
   ]
  },
  {
   "cell_type": "code",
   "execution_count": 159,
   "metadata": {},
   "outputs": [
    {
     "data": {
      "text/plain": [
       "0.6385429863702334"
      ]
     },
     "execution_count": 159,
     "metadata": {},
     "output_type": "execute_result"
    }
   ],
   "source": [
    "# 불편분산을 저장하는 변수\n",
    "unbias_var_array = np.zeros(10000)\n",
    "\n",
    "# 데이터를 10개 골라서 표본분산 구하는 시행 10000번 반복\n",
    "np.random.seed(1)\n",
    "for i in range(0,10000) :\n",
    "    sample = population.rvs(size = 10)\n",
    "    unbias_var_array[i] = sp.var(sample, ddof=1)\n",
    "    \n",
    "# 불편분산의 평균값\n",
    "sp.mean(unbias_var_array)"
   ]
  },
  {
   "cell_type": "markdown",
   "metadata": {},
   "source": [
    "### 3.5.14 샘플사이즈가 크면 불편분산은 모분산에 가까워진다"
   ]
  },
  {
   "cell_type": "markdown",
   "metadata": {},
   "source": [
    "* 대상 : 불편분산\n",
    "* 변화시키는것 : 샘플사이즈\n",
    "* 알고싶은 것 : 샘플사이즈가 커지면 불편분산은 모분산에 가까워진다."
   ]
  },
  {
   "cell_type": "code",
   "execution_count": 160,
   "metadata": {},
   "outputs": [
    {
     "data": {
      "text/plain": [
       "array([    10,    110,    210, ...,  99810,  99910, 100010])"
      ]
     },
     "execution_count": 160,
     "metadata": {},
     "output_type": "execute_result"
    }
   ],
   "source": [
    "size_array = np.arange(start = 10, stop = 100100, step=100)\n",
    "size_array"
   ]
  },
  {
   "cell_type": "code",
   "execution_count": 161,
   "metadata": {},
   "outputs": [],
   "source": [
    "# 불편분산 저장하는 변수\n",
    "unbias_var_array_size = np.zeros(len(size_array))"
   ]
  },
  {
   "cell_type": "code",
   "execution_count": 162,
   "metadata": {},
   "outputs": [],
   "source": [
    "np.random.seed(1)\n",
    "for i in range(0, len(size_array)) :\n",
    "    sample = population.rvs(size = size_array[i])\n",
    "    unbias_var_array_size[i] = sp.var(sample, ddof=1)"
   ]
  },
  {
   "cell_type": "code",
   "execution_count": 163,
   "metadata": {},
   "outputs": [
    {
     "data": {
      "text/plain": [
       "Text(0, 0.5, 'unbias var')"
      ]
     },
     "execution_count": 163,
     "metadata": {},
     "output_type": "execute_result"
    },
    {
     "data": {
      "image/png": "[encoded data removed]",
      "text/plain": [
       "<Figure size 432x288 with 1 Axes>"
      ]
     },
     "metadata": {
      "needs_background": "light"
     },
     "output_type": "display_data"
    }
   ],
   "source": [
    "# 꺾은선 그래프 그리기\n",
    "plt.plot(size_array, unbias_var_array_size, color='black')\n",
    "plt.xlabel(\"sample size\")\n",
    "plt.ylabel(\"unbias var\")"
   ]
  },
  {
   "cell_type": "markdown",
   "metadata": {},
   "source": [
    "### 3.5.15 불편성\n",
    ": 추정량의 기댓값이 진짜모수(모집단의 파라미터)가 되는 특성\n",
    "\n",
    "* 불편성이 있다 -> 평균을 냈을 때 과대 또는 과소하지 않다. 즉, 편향이 없는 추정량"
   ]
  },
  {
   "cell_type": "markdown",
   "metadata": {},
   "source": [
    "### 3.5.16 일치성\n",
    ": 샘플사이즈가 커지면 추정량이 진짜 모수에 가까워지는 특성\n",
    "\n",
    "* 일치성이 있다 -> 샘플사이즈가 무한할 때 추정량과 모수가 일치한다."
   ]
  },
  {
   "cell_type": "markdown",
   "metadata": {},
   "source": [
    "### 3.5.18 큰수의 법칙\n",
    ": 표본의 크기가 커지면 표본평균이 모평균에 가까워 지는 방법을 표현한 법칙"
   ]
  },
  {
   "cell_type": "markdown",
   "metadata": {},
   "source": [
    "### 3.5.19  중심극한 정리\n",
    ": 모집단의 분포가 무엇이든 간에 샘플사이즈가 커지면 확률변수의 합은 정규분포에 가까워진다"
   ]
  },
  {
   "cell_type": "code",
   "execution_count": 165,
   "metadata": {},
   "outputs": [
    {
     "data": {
      "text/plain": [
       "<matplotlib.axes._subplots.AxesSubplot at 0x12543d630>"
      ]
     },
     "execution_count": 165,
     "metadata": {},
     "output_type": "execute_result"
    },
    {
     "data": {
      "image/png": "[encoded data removed]",
      "text/plain": [
       "<Figure size 432x288 with 1 Axes>"
      ]
     },
     "metadata": {
      "needs_background": "light"
     },
     "output_type": "display_data"
    }
   ],
   "source": [
    "# 샘플사이즈와 시행횟수\n",
    "n_size = 10000\n",
    "n_trial = 50000\n",
    "\n",
    "# 앞면이면 1, 뒷면이면 0 표시\n",
    "coin = np.array([0,1])\n",
    "\n",
    "# 앞면이 나온 횟수\n",
    "count_coin = np.zeros(n_trial)\n",
    "\n",
    "# 동전을 n_size번 던지는 시행을 n_trial번 수행\n",
    "np.random.seed(1)\n",
    "for i in range(0, n_trial) :\n",
    "    count_coin[i] = sp.sum(\n",
    "    np.random.choice(coin, size = n_size, replace=True))\n",
    "\n",
    "# 히스토그램 그리기\n",
    "sns.distplot(count_coin, color = 'black')"
   ]
  },
  {
   "cell_type": "markdown",
   "metadata": {},
   "source": [
    "## 3.6 정규분포와 응용"
   ]
  },
  {
   "cell_type": "markdown",
   "metadata": {},
   "source": [
    "### 3.6.2 확률밀도"
   ]
  },
  {
   "cell_type": "code",
   "execution_count": 3,
   "metadata": {},
   "outputs": [
    {
     "data": {
      "text/plain": [
       "3.142"
      ]
     },
     "execution_count": 3,
     "metadata": {},
     "output_type": "execute_result"
    }
   ],
   "source": [
    "# sp.pi : 원주율의 값 구하기\n",
    "sp.pi"
   ]
  },
  {
   "cell_type": "code",
   "execution_count": 4,
   "metadata": {},
   "outputs": [
    {
     "data": {
      "text/plain": [
       "2.718281828459045"
      ]
     },
     "execution_count": 4,
     "metadata": {},
     "output_type": "execute_result"
    }
   ],
   "source": [
    "# 자연로그의 밑 : sp.exp 함수\n",
    "sp.exp(1) # e의 1승은 e 자신값, 즉 2.7이다."
   ]
  },
  {
   "cell_type": "code",
   "execution_count": 5,
   "metadata": {},
   "outputs": [
    {
     "data": {
      "text/plain": [
       "0.22831135673627742"
      ]
     },
     "execution_count": 5,
     "metadata": {},
     "output_type": "execute_result"
    }
   ],
   "source": [
    "x = 3\n",
    "mu = 4\n",
    "sigma = 0.8\n",
    "\n",
    "1 / (sp.sqrt(2*sp.pi*sigma**2)) * \\\n",
    "    sp.exp(-((x-mu)**2) / (2*sigma**2))"
   ]
  },
  {
   "cell_type": "code",
   "execution_count": 6,
   "metadata": {},
   "outputs": [
    {
     "data": {
      "text/plain": [
       "0.2283113567362774"
      ]
     },
     "execution_count": 6,
     "metadata": {},
     "output_type": "execute_result"
    }
   ],
   "source": [
    "# 위의 식 간단하게 계산하기\n",
    "stats.norm.pdf(loc = 4, scale = 0.8, x=3) # 확률밀도함수 구하기"
   ]
  },
  {
   "cell_type": "code",
   "execution_count": 7,
   "metadata": {},
   "outputs": [
    {
     "data": {
      "text/plain": [
       "0.2283113567362774"
      ]
     },
     "execution_count": 7,
     "metadata": {},
     "output_type": "execute_result"
    }
   ],
   "source": [
    "# 평균4, 표준편차 0.8인 정규분포 인스턴스 생성해서 pdf함수 호출해도 동일한 결과 얻을 수 있다.\n",
    "norm_dist = stats.norm(loc = 4, scale = 0.8)\n",
    "norm_dist.pdf(x=3)"
   ]
  },
  {
   "cell_type": "code",
   "execution_count": 8,
   "metadata": {},
   "outputs": [
    {
     "data": {
      "text/plain": [
       "[<matplotlib.lines.Line2D at 0x11fa51ef0>]"
      ]
     },
     "execution_count": 8,
     "metadata": {},
     "output_type": "execute_result"
    },
    {
     "data": {
      "image/png": "[encoded data removed]",
      "text/plain": [
       "<Figure size 432x288 with 1 Axes>"
      ]
     },
     "metadata": {
      "needs_background": "light"
     },
     "output_type": "display_data"
    }
   ],
   "source": [
    "x_plot = np.arange(start=1, stop=7.1, step =0.1)\n",
    "plt.plot(\n",
    "    x_plot, stats.norm.pdf(x=x_plot, loc=4, scale=0.8),\n",
    "    color = 'black')"
   ]
  },
  {
   "cell_type": "markdown",
   "metadata": {},
   "source": [
    "### 3.6.3 표본이 어떤 값 이하가 되는 비율\n",
    "-> 어떤 값 이하가 되는 데이터의 개수 / 샘플사이즈"
   ]
  },
  {
   "cell_type": "code",
   "execution_count": 9,
   "metadata": {},
   "outputs": [
    {
     "data": {
      "text/plain": [
       "array([5.299, 3.511, 3.577, ..., 3.189, 3.95 , 2.85 ])"
      ]
     },
     "execution_count": 9,
     "metadata": {},
     "output_type": "execute_result"
    }
   ],
   "source": [
    "np.random.seed(1)\n",
    "simulated_sample = stats.norm.rvs(\n",
    "    loc = 4, scale = 0.8, size = 10000)\n",
    "simulated_sample"
   ]
  },
  {
   "cell_type": "code",
   "execution_count": 10,
   "metadata": {},
   "outputs": [
    {
     "data": {
      "text/plain": [
       "1043"
      ]
     },
     "execution_count": 10,
     "metadata": {},
     "output_type": "execute_result"
    }
   ],
   "source": [
    "# 3이하 데이터의 개수를 비교연산자를 이용해 계산\n",
    "sp.sum(simulated_sample <=3)"
   ]
  },
  {
   "cell_type": "code",
   "execution_count": 13,
   "metadata": {
    "scrolled": true
   },
   "outputs": [
    {
     "data": {
      "text/plain": [
       "0.1043"
      ]
     },
     "execution_count": 13,
     "metadata": {},
     "output_type": "execute_result"
    }
   ],
   "source": [
    "# 샘플사이즈로 나누기\n",
    "sp.sum(simulated_sample <=3) / len(simulated_sample)"
   ]
  },
  {
   "cell_type": "markdown",
   "metadata": {},
   "source": [
    "### 3.6.4 누적분포함수\n",
    ": stats.norm.cdf"
   ]
  },
  {
   "cell_type": "code",
   "execution_count": 15,
   "metadata": {},
   "outputs": [
    {
     "data": {
      "text/plain": [
       "0.10564977366685535"
      ]
     },
     "execution_count": 15,
     "metadata": {},
     "output_type": "execute_result"
    }
   ],
   "source": [
    "stats.norm.cdf(loc = 4, scale = 0.8, x = 3)\n",
    "    # 위의 결과와 거의 일치"
   ]
  },
  {
   "cell_type": "code",
   "execution_count": 17,
   "metadata": {},
   "outputs": [
    {
     "data": {
      "text/plain": [
       "0.5"
      ]
     },
     "execution_count": 17,
     "metadata": {},
     "output_type": "execute_result"
    }
   ],
   "source": [
    "stats.norm.cdf(loc = 4, scale = 0.8, x = 4)\n",
    "    # 정규분포는 평균에 대해 좌우대칭이므로 데이터가 평균값이하가 될 확률은 반 "
   ]
  },
  {
   "cell_type": "markdown",
   "metadata": {},
   "source": [
    "데이터를 하나하나 세어보지 않고 적분을 이용하여 확률을 간단히 계산할 수 있다."
   ]
  },
  {
   "cell_type": "markdown",
   "metadata": {},
   "source": [
    "### 3.6.5 하측확률과 퍼센트포인트\n",
    "* 하측확률 : 데이터가 어떤 값 이하가 될 확률 (누적분포함수 사용하여 구함)\n",
    "* 퍼센트포인트 : 어떤 확률이 될 기준치 (stats.norm.ppf 함수)"
   ]
  },
  {
   "cell_type": "code",
   "execution_count": 18,
   "metadata": {},
   "outputs": [
    {
     "data": {
      "text/plain": [
       "2.4320288123679563"
      ]
     },
     "execution_count": 18,
     "metadata": {},
     "output_type": "execute_result"
    }
   ],
   "source": [
    "stats.norm.ppf(loc = 4, scale = 0.8, q = 0.025) # 하측확률이 2.5%가 되는 퍼센트포인트 구하기"
   ]
  },
  {
   "cell_type": "code",
   "execution_count": 20,
   "metadata": {},
   "outputs": [
    {
     "data": {
      "text/plain": [
       "3.0000000000000004"
      ]
     },
     "execution_count": 20,
     "metadata": {},
     "output_type": "execute_result"
    }
   ],
   "source": [
    "# 하측확률과 퍼센트포인트는 다음과 같은 관계가 성립한다.\n",
    "lower = stats.norm.cdf(loc = 4, scale = 0.8, x = 3) # 3이하가 될 확률 구하기\n",
    "stats.norm.ppf(loc = 4, scale = 0.8, q = lower) # ppf의 인자로 cdf 함수의 결과를 넣으면 원래대로 돌아온다.\n",
    "\n",
    "    # 즉, 확률이 다시 확률변수의 값으로 돌아온다."
   ]
  },
  {
   "cell_type": "code",
   "execution_count": 21,
   "metadata": {},
   "outputs": [
    {
     "data": {
      "text/plain": [
       "4.0"
      ]
     },
     "execution_count": 21,
     "metadata": {},
     "output_type": "execute_result"
    }
   ],
   "source": [
    "# 하측확률이 50%이 되는 퍼센트포인트는 평균과 일치한다.\n",
    "stats.norm.ppf(loc = 4, scale = 0.8, q = 0.5)"
   ]
  },
  {
   "cell_type": "markdown",
   "metadata": {},
   "source": [
    "### 3.6.6 표준정규분포\n",
    ": 평균 0 , 분산(표준편차) 1인 정규분포"
   ]
  },
  {
   "cell_type": "markdown",
   "metadata": {},
   "source": [
    "### 3.6.7 t값 \n",
    ": (표본평균 - 모평균) / 표준오차"
   ]
  },
  {
   "cell_type": "markdown",
   "metadata": {},
   "source": [
    "### 3.6.8 t값의 표본분포"
   ]
  },
  {
   "cell_type": "code",
   "execution_count": 22,
   "metadata": {},
   "outputs": [],
   "source": [
    "# 모집단분포가 정규분포임을 가정했을 때 표본분포를 구하는 것도 가능"
   ]
  },
  {
   "cell_type": "markdown",
   "metadata": {},
   "source": [
    "< t값의 표본분포 시뮬레이션으로 확인하기 >\n",
    "1. 모집단분포가 평균=4, 표준편차=0.8인 모집단에서 표본추출 시뮬레이션 한다. 이때 샘플사이즈는 10\n",
    "2. 얻은 표본에서 표본평균 구하기\n",
    "3. 얻은 표본에서 표준오차를 구하기, 표준오차는 표본평균의 표준편차로 간주한다.\n",
    "4. (표본평균 - 모평균) / 표준오차 계산으로 t값 계산\n",
    "5. 이 시행 10000번 반복"
   ]
  },
  {
   "cell_type": "code",
   "execution_count": 23,
   "metadata": {},
   "outputs": [],
   "source": [
    "# 난수 시드 설정\n",
    "np.random.seed(1)\n",
    "\n",
    "# t값을 저장한ㄹ 변수 설정\n",
    "t_value_array = np.zeros(10000)\n",
    "\n",
    "# 정규분포 클래스와 인스턴스\n",
    "norm_dist = stats.norm(loc = 4, scale = 0.8)\n",
    "\n",
    "# 시뮬레이션 실행\n",
    "for i in range(0, 10000) :\n",
    "    sample = norm_dist.rvs(size = 10)\n",
    "    sample_mean = sp.mean(sample)\n",
    "    sample_std = sp.std(sample, ddof = 1)\n",
    "    sample_se = sample_std / sp.sqrt(len(sample))\n",
    "    t_value_array[i] = (sample_mean - 4) / sample_se"
   ]
  },
  {
   "cell_type": "code",
   "execution_count": 24,
   "metadata": {},
   "outputs": [
    {
     "data": {
      "text/plain": [
       "[<matplotlib.lines.Line2D at 0x11fa83cf8>]"
      ]
     },
     "execution_count": 24,
     "metadata": {},
     "output_type": "execute_result"
    },
    {
     "data": {
      "image/png": "[encoded data removed]",
      "text/plain": [
       "<Figure size 432x288 with 1 Axes>"
      ]
     },
     "metadata": {
      "needs_background": "light"
     },
     "output_type": "display_data"
    }
   ],
   "source": [
    "# 히스토그램과 표준정규분포의 확률밀도 그리기\n",
    "\n",
    "# t값의 히스토그램\n",
    "sns.distplot(t_value_array, color = 'black')\n",
    "\n",
    "# 표준정규분포의 확륣밀도\n",
    "x = np.arange(start = -8, stop = 8.1, step = 0.1)\n",
    "plt.plot(x, stats.norm.pdf(x=x), color =  'black', linestyle = 'dotted')"
   ]
  },
  {
   "cell_type": "markdown",
   "metadata": {},
   "source": [
    "### 3.6.9 t분포\n",
    ": 모집단분포가 정규분포일 때, t값의 표본분포를 t분포라고 한다."
   ]
  },
  {
   "cell_type": "markdown",
   "metadata": {},
   "source": [
    "t분포의 평균값은 0이다. t분포의 분산은 1보다 조금 크다. 자유도를 n으로 했을 때 이와 같이 계산한다.\n",
    "\n",
    "t(n)의 분산 = n / (n-2)\n",
    "\n",
    "지유도가 커질수록 분산은 1에 가까워지고, 표준정규분포와 거의 차이가 나지 않는다. 반대로, 샘플사이즈가 작아지면 차이가 커진다."
   ]
  },
  {
   "cell_type": "code",
   "execution_count": 25,
   "metadata": {},
   "outputs": [
    {
     "data": {
      "text/plain": [
       "[<matplotlib.lines.Line2D at 0x11fbc4b70>]"
      ]
     },
     "execution_count": 25,
     "metadata": {},
     "output_type": "execute_result"
    },
    {
     "data": {
      "image/png": "[encoded data removed]",
      "text/plain": [
       "<Figure size 432x288 with 1 Axes>"
      ]
     },
     "metadata": {
      "needs_background": "light"
     },
     "output_type": "display_data"
    }
   ],
   "source": [
    "# t 분포의 확률밀도와 표준정규분포의 확률밀도 겹쳐서 표기해보기\n",
    "plt.plot(x, stats.norm.pdf(x = x), color = 'black', linestyle = 'dotted')\n",
    "plt.plot(x, stats.t.pdf(x = x, df = 9), color = 'black')\n",
    "    \n",
    "    # t분포(실선)가 좀 더 넓은 분포라는 것을 알 수 있다 -> 평균값과 크게 다른 데이터가 발생하기 쉬워짐"
   ]
  },
  {
   "cell_type": "code",
   "execution_count": 26,
   "metadata": {},
   "outputs": [
    {
     "data": {
      "text/plain": [
       "[<matplotlib.lines.Line2D at 0x121cac3c8>]"
      ]
     },
     "execution_count": 26,
     "metadata": {},
     "output_type": "execute_result"
    },
    {
     "data": {
      "image/png": "[encoded data removed]",
      "text/plain": [
       "<Figure size 432x288 with 1 Axes>"
      ]
     },
     "metadata": {
      "needs_background": "light"
     },
     "output_type": "display_data"
    }
   ],
   "source": [
    "# 시뮬레이션 결과를 겹치면 커널밀도추정의 결과와 거의 일치한다.\n",
    "sns.distplot(t_value_array, color = 'black', norm_hist = True)\n",
    "plt.plot(x, stats.t.pdf(x = x, df = 9),\n",
    "        color = 'black', linestyle = 'dotted')"
   ]
  },
  {
   "cell_type": "markdown",
   "metadata": {},
   "source": [
    "t분포의 의미 \n",
    ": 모분산을 모르는 상황에서도 표본평균의 분포에 대해 이야기 할 수 있다. "
   ]
  },
  {
   "cell_type": "markdown",
   "metadata": {},
   "source": [
    "## 3.7 추정\n",
    ": 모수, 즉 모집단의 파라미터 추정해보기\n",
    "\n",
    "모집단의 분포가 정규분포임을 가정했을 때, 모수를 알면 모집단의 분포를 추정할 수 있다."
   ]
  },
  {
   "cell_type": "markdown",
   "metadata": {},
   "source": [
    "### 3.7.1 분석 준비"
   ]
  },
  {
   "cell_type": "code",
   "execution_count": 27,
   "metadata": {},
   "outputs": [],
   "source": [
    "# 수치 계산에 사용하는 라이브러리\n",
    "import numpy as np\n",
    "import pandas as pd\n",
    "import scipy as sp\n",
    "from scipy import stats\n",
    "\n",
    "# 그래프를 그리기 위한 라이브러리\n",
    "from matplotlib import pyplot as plt\n",
    "import seaborn as sns\n",
    "sns.set() # 기본 seaborn 테마, 크기 조정 및 색상 팔레트 사용\n",
    "\n",
    "# 표시 자릿수 지정\n",
    "%precision 3\n",
    "\n",
    "# 그래프를 주피터 노트북에 그리기 위한 설정\n",
    "%matplotlib inline"
   ]
  },
  {
   "cell_type": "code",
   "execution_count": 29,
   "metadata": {},
   "outputs": [
    {
     "data": {
      "text/plain": [
       "0    4.352982\n",
       "1    3.735304\n",
       "2    5.944617\n",
       "3    3.798326\n",
       "4    4.087688\n",
       "5    5.265985\n",
       "6    3.272614\n",
       "7    3.526691\n",
       "8    4.150083\n",
       "9    3.736104\n",
       "Name: length, dtype: float64"
      ]
     },
     "execution_count": 29,
     "metadata": {},
     "output_type": "execute_result"
    }
   ],
   "source": [
    "fish = pd.read_csv('/Users/seuli/Desktop/개발자/통계학 source/sample/3-7-1-fish_length.csv')[\"length\"]\n",
    "fish"
   ]
  },
  {
   "cell_type": "markdown",
   "metadata": {},
   "source": [
    "### 3.7.2 점추정\n",
    ": 모수(모집단분포의 파라미터)를 어느 1개의 값으로 추정하는 추정 방법\n",
    "\n",
    "모평균을 추정하는 경우에는 표본평균을 추정값으로 사용 -> 표본에서 평균값 계산\n"
   ]
  },
  {
   "cell_type": "markdown",
   "metadata": {},
   "source": [
    "< 표본평균을 사용해도 좋은 이유 >\n",
    "표본평균은 불편성과 일치성을 가지고 있는 통계량이기 때문. 바람직한 성질을 가진 통계량이기 때문"
   ]
  },
  {
   "cell_type": "code",
   "execution_count": 30,
   "metadata": {},
   "outputs": [
    {
     "data": {
      "text/plain": [
       "4.187039324504523"
      ]
     },
     "execution_count": 30,
     "metadata": {},
     "output_type": "execute_result"
    }
   ],
   "source": [
    "mu = sp.mean(fish)\n",
    "mu"
   ]
  },
  {
   "cell_type": "code",
   "execution_count": 32,
   "metadata": {},
   "outputs": [
    {
     "data": {
      "text/plain": [
       "0.6803017080832622"
      ]
     },
     "execution_count": 32,
     "metadata": {},
     "output_type": "execute_result"
    }
   ],
   "source": [
    "# 모분산의 추정에 대해서도 표본에서 계산한 통계량을 사용할 수 있다. 점추정값으로는 불편분산 사용\n",
    "sigma_2 = sp.var(fish, ddof = 1)\n",
    "sigma_2"
   ]
  },
  {
   "cell_type": "markdown",
   "metadata": {},
   "source": [
    "### 3.7.3 구간추정\n",
    ": 추정값이 폭을 가지게 하는 추정방법\n",
    "\n",
    "추정오차가 작으면 구간추정의 폭이 좁아진다. 샘플사이즈가 커져도 구간추정의 폭은 좁다진다.\n"
   ]
  },
  {
   "cell_type": "markdown",
   "metadata": {},
   "source": [
    "### 3.7.4 신뢰계수와 신뢰구간\n",
    "* 신뢰계수 : 구간추정의 폭에 대한 신뢰정도를 확률로 표현한 것\n",
    "* 신뢰구간 : 특정 신뢰계수를 만족하는 구간\n",
    "\n",
    "신뢰계수가 클수록 신뢰구간의 폭이 넓어진다"
   ]
  },
  {
   "cell_type": "markdown",
   "metadata": {},
   "source": [
    "### 3.7.5 신뢰한계\n",
    ": 신뢰구간의 하한값과 상한값. 하측신뢰한계, 상측신뢰한계"
   ]
  },
  {
   "cell_type": "markdown",
   "metadata": {},
   "source": [
    "### 3.7.6 신뢰구간 계산 방법\n",
    ": t분포의 퍼센트포인트(어떤 확률이 되는 기준점) 사용\n",
    "\n",
    "예) 신뢰계수 95% 라고 했을 때, t분포를 따른다면 2.5% 지점과 97.5% 지점을 사용"
   ]
  },
  {
   "cell_type": "markdown",
   "metadata": {},
   "source": [
    "### 3.7.7 구간추정(실습)\n",
    ": 구간추정에 필요한 정보는 자유도(샘플사이즈-1), 표본평균, 표준오차 "
   ]
  },
  {
   "cell_type": "code",
   "execution_count": 33,
   "metadata": {},
   "outputs": [
    {
     "data": {
      "text/plain": [
       "9"
      ]
     },
     "execution_count": 33,
     "metadata": {},
     "output_type": "execute_result"
    }
   ],
   "source": [
    "# 자유도 구하기(샘플사이즈 -1 하기)\n",
    "    # 샘플사이즈가 크면 추정 정확도가 높아진다\n",
    "df = len(fish) -1\n",
    "df"
   ]
  },
  {
   "cell_type": "code",
   "execution_count": 34,
   "metadata": {},
   "outputs": [
    {
     "data": {
      "text/plain": [
       "0.2608259396768776"
      ]
     },
     "execution_count": 34,
     "metadata": {},
     "output_type": "execute_result"
    }
   ],
   "source": [
    "# 표준오차 구하기\n",
    "sigma = sp.std(fish, ddof = 1)\n",
    "se = sigma / sp.sqrt(len(fish))\n",
    "se"
   ]
  },
  {
   "cell_type": "code",
   "execution_count": 36,
   "metadata": {},
   "outputs": [
    {
     "data": {
      "text/plain": [
       "(3.597010056835825, 4.777068592173221)"
      ]
     },
     "execution_count": 36,
     "metadata": {},
     "output_type": "execute_result"
    }
   ],
   "source": [
    "# 신뢰구간을 계산하기 : stats.t.interval 함수\n",
    "    # alpha - 신뢰계수, df - 자유도, loc - 표본평균, scale - 표준오차\n",
    "interval = stats.t.interval(\n",
    "            alpha = 0.95, df = df, loc = mu, scale = se)\n",
    "interval \n",
    "\n",
    "    # 첫번째로 하측신뢰한계, 두번째로 상측신뢰한계가 나온다"
   ]
  },
  {
   "cell_type": "markdown",
   "metadata": {},
   "source": [
    "### 3.7.8 신뢰구간을 구하는 방법 상세 설명\n",
    "1. 어떤 자유도를 가지는 t분포를 따르는 97.5% 지점 계산 \n",
    "   \n",
    "   1.1 t분포를 따르는 97.5% 지점을 t(0.975)라고 표기한다.\n",
    "   \n",
    "   1.2 t분포는 평균에 대해 좌우대칭이기 때문에 2.5% 지점은 -t(0.975)로 표기한다.\n",
    "   \n",
    "   1.3 t분포를 따르는 변수가 -t 이상 t이하가 되는 확률이 95%이다.\n",
    "   \n",
    "       1.3.1 이때 95%가 신뢰계수가 된다.\n",
    "2. 표본평균 -t(0.975) * 표준오차가 하측신뢰한계이다.\n",
    "\n",
    "3. 표본평균 +t(0.975) * 표준오차가 상측신뢰한계이다."
   ]
  },
  {
   "cell_type": "code",
   "execution_count": 37,
   "metadata": {},
   "outputs": [
    {
     "data": {
      "text/plain": [
       "2.2621571627409915"
      ]
     },
     "execution_count": 37,
     "metadata": {},
     "output_type": "execute_result"
    }
   ],
   "source": [
    "# 97.5% 지점 구하기\n",
    "t_975 = stats.t.ppf(q = 0.975, df = df)\n",
    "t_975"
   ]
  },
  {
   "cell_type": "code",
   "execution_count": 39,
   "metadata": {},
   "outputs": [
    {
     "data": {
      "text/plain": [
       "3.597010056835825"
      ]
     },
     "execution_count": 39,
     "metadata": {},
     "output_type": "execute_result"
    }
   ],
   "source": [
    "# 하측신뢰한계 구하기\n",
    "lower = mu - t_975 * se\n",
    "lower"
   ]
  },
  {
   "cell_type": "code",
   "execution_count": 40,
   "metadata": {},
   "outputs": [
    {
     "data": {
      "text/plain": [
       "4.777068592173221"
      ]
     },
     "execution_count": 40,
     "metadata": {},
     "output_type": "execute_result"
    }
   ],
   "source": [
    "# 상측신뢰한계\n",
    "upper =  mu + t_975 * se\n",
    "upper"
   ]
  },
  {
   "cell_type": "markdown",
   "metadata": {},
   "source": [
    "### 3.7.9  신뢰구간의 폭을 결정하는 요소\n",
    "표본의 분산 크기가 크면 평균값을 신뢰할 수 없으므로 신뢰구간의 폭이 넓어진다"
   ]
  },
  {
   "cell_type": "code",
   "execution_count": 41,
   "metadata": {},
   "outputs": [
    {
     "data": {
      "text/plain": [
       "(-1.7132533521824618, 10.087332001191509)"
      ]
     },
     "execution_count": 41,
     "metadata": {},
     "output_type": "execute_result"
    }
   ],
   "source": [
    "# 표본표준편차 10배로 늘려서 95% 신뢰구간 계산해보기\n",
    "se2 = (sigma*10) / sp.sqrt(len(fish))\n",
    "stats.t.interval(alpha = 0.95, df = df, loc = mu, scale = se2)"
   ]
  },
  {
   "cell_type": "code",
   "execution_count": 42,
   "metadata": {},
   "outputs": [],
   "source": [
    "# 신뢰구간의 폭이 넓어진다 -> 모평균이 어디 있는지 잘 모르게된다"
   ]
  },
  {
   "cell_type": "code",
   "execution_count": 44,
   "metadata": {},
   "outputs": [
    {
     "data": {
      "text/plain": [
       "(4.0233803082774395, 4.350698340731607)"
      ]
     },
     "execution_count": 44,
     "metadata": {},
     "output_type": "execute_result"
    }
   ],
   "source": [
    "# 샘플사이즈가 커지면 표본평균을 신뢰할 수 있게 되므로 신뢰구간이 좁아진다.\n",
    "df2 = (len(fish)*10) -1\n",
    "se3 = sigma / sp.sqrt(len(fish)*10)\n",
    "stats.t.interval(alpha = 0.95, df = df2, loc = mu, scale = se3)"
   ]
  },
  {
   "cell_type": "code",
   "execution_count": 46,
   "metadata": {},
   "outputs": [
    {
     "data": {
      "text/plain": [
       "(3.3393979149413977, 5.034680734067649)"
      ]
     },
     "execution_count": 46,
     "metadata": {},
     "output_type": "execute_result"
    }
   ],
   "source": [
    "# 99% 신뢰구간 구하기 (95%보다 폭이 넓어짐)\n",
    "stats.t.interval(alpha = 0.99, df = df, loc = mu, scale = se)"
   ]
  },
  {
   "cell_type": "markdown",
   "metadata": {},
   "source": [
    "### 3.7.10 구간추정 결과의 해석"
   ]
  },
  {
   "cell_type": "markdown",
   "metadata": {},
   "source": [
    "신뢰계수의 95%의 95%는 아래와 같이 얻을 수 있다.\n",
    "\n",
    "1. 원래 모집단 분포에서 표본 추출\n",
    "2. 이번에도 같은 방법으로 95% 신뢰구간 계산\n",
    "3. 이 시행을 여러번 반복\n",
    "4. 모든 시행 중 원래 모집단이 신뢰구간에 포함되는 비율이 95%이다."
   ]
  },
  {
   "cell_type": "code",
   "execution_count": 47,
   "metadata": {},
   "outputs": [
    {
     "data": {
      "text/plain": [
       "array([False, False, False, ..., False, False, False])"
      ]
     },
     "execution_count": 47,
     "metadata": {},
     "output_type": "execute_result"
    }
   ],
   "source": [
    "# 시뮬레이션을 통해 확인해보자\n",
    "     # 신뢰구간이 모평균(4)을 포함하면 True가 되는 변수 준비\n",
    "be_included_array = np.zeros(20000, dtype = \"bool\") # 시행횟수 20000번이니 그만큼 큰 배열이 필요. 또한 True나 False밖에 될 수 없으므로 dtype = 'bool'\n",
    "be_included_array"
   ]
  },
  {
   "cell_type": "code",
   "execution_count": 48,
   "metadata": {},
   "outputs": [],
   "source": [
    "# 95% 신뢰구간을 구하는 시행을 20000번 반복한다.\n",
    "# 신뢰구간이 모평균(4)를 포함하면 True\n",
    "\n",
    "np.random.seed(1)\n",
    "norm_dist = stats.norm(loc = 4, scale = 0.8) # 정규분포 클래스의 인스턴스\n",
    "for i in range(0, 20000) :\n",
    "    sample = norm_dist.rvs(size = 10) # 난수생성\n",
    "    df = len(sample)-1 # 자유도\n",
    "    mu = sp.mean(sample)\n",
    "    std = sp.std(sample, ddof = 1) # 표준편차\n",
    "    se = std / sp.sqrt(len(sample)) # 표준오차\n",
    "    interval = stats.t.interval(0.95, df, mu, se) # 신뢰구간계산\n",
    "    if(interval[0] <= 4 and interval[1] >= 4) :\n",
    "        be_included_array[i] = True"
   ]
  },
  {
   "cell_type": "code",
   "execution_count": 49,
   "metadata": {},
   "outputs": [
    {
     "data": {
      "text/plain": [
       "0.948"
      ]
     },
     "execution_count": 49,
     "metadata": {},
     "output_type": "execute_result"
    }
   ],
   "source": [
    "# 신뢰구간이 모평균(4)을 포함한 비율\n",
    "sum(be_included_array) / len(be_included_array)"
   ]
  },
  {
   "cell_type": "markdown",
   "metadata": {},
   "source": [
    "## 3.8 통계적가설검정"
   ]
  },
  {
   "cell_type": "code",
   "execution_count": null,
   "metadata": {},
   "outputs": [],
   "source": []
  },
  {
   "cell_type": "code",
   "execution_count": null,
   "metadata": {},
   "outputs": [],
   "source": []
  },
  {
   "cell_type": "code",
   "execution_count": null,
   "metadata": {},
   "outputs": [],
   "source": []
  },
  {
   "cell_type": "code",
   "execution_count": null,
   "metadata": {},
   "outputs": [],
   "source": []
  },
  {
   "cell_type": "code",
   "execution_count": null,
   "metadata": {},
   "outputs": [],
   "source": []
  },
  {
   "cell_type": "code",
   "execution_count": null,
   "metadata": {},
   "outputs": [],
   "source": []
  },
  {
   "cell_type": "code",
   "execution_count": null,
   "metadata": {},
   "outputs": [],
   "source": []
  },
  {
   "cell_type": "code",
   "execution_count": null,
   "metadata": {},
   "outputs": [],
   "source": []
  },
  {
   "cell_type": "code",
   "execution_count": null,
   "metadata": {},
   "outputs": [],
   "source": []
  }
 ],
 "metadata": {
  "kernelspec": {
   "display_name": "Python 3",
   "language": "python",
   "name": "python3"
  },
  "language_info": {
   "codemirror_mode": {
    "name": "ipython",
    "version": 3
   },
   "file_extension": ".py",
   "mimetype": "text/x-python",
   "name": "python",
   "nbconvert_exporter": "python",
   "pygments_lexer": "ipython3",
   "version": "3.7.3"
  }
 },
 "nbformat": 4,
 "nbformat_minor": 2
}
